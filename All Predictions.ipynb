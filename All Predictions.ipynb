{
 "cells": [
  {
   "cell_type": "markdown",
   "metadata": {},
   "source": [
    "In this notebook I would be making all the predictions for values in 'sales_pipeline.xlsx' file for which the 'Deal_Stage' is under progress.\n",
    "\n",
    "At first I calculate the predictions for Deal_Stage whether it would be won or Not and then we go about predict future sales for 1 month, 1 Quarter, 1 Year"
   ]
  },
  {
   "cell_type": "code",
   "execution_count": 1,
   "metadata": {},
   "outputs": [],
   "source": [
    "import pickle\n",
    "import pandas as pd\n",
    "import numpy as np\n",
    "import matplotlib.pyplot as plt\n",
    "import seaborn as sns"
   ]
  },
  {
   "cell_type": "code",
   "execution_count": 2,
   "metadata": {},
   "outputs": [],
   "source": [
    "sales = pd.read_excel('sales-pipeline.xlsx')\n",
    "interactions=pd.read_excel('interactions.xlsx')"
   ]
  },
  {
   "cell_type": "code",
   "execution_count": 21,
   "metadata": {},
   "outputs": [
    {
     "data": {
      "text/html": [
       "<div>\n",
       "<style scoped>\n",
       "    .dataframe tbody tr th:only-of-type {\n",
       "        vertical-align: middle;\n",
       "    }\n",
       "\n",
       "    .dataframe tbody tr th {\n",
       "        vertical-align: top;\n",
       "    }\n",
       "\n",
       "    .dataframe thead th {\n",
       "        text-align: right;\n",
       "    }\n",
       "</style>\n",
       "<table border=\"1\" class=\"dataframe\">\n",
       "  <thead>\n",
       "    <tr style=\"text-align: right;\">\n",
       "      <th></th>\n",
       "      <th>Account</th>\n",
       "      <th>Opportunity_ID</th>\n",
       "      <th>Sales_Agent</th>\n",
       "      <th>SalesAgentEmailID</th>\n",
       "      <th>ContactEmailID</th>\n",
       "      <th>Deal_Stage</th>\n",
       "      <th>Product</th>\n",
       "      <th>Close_Value</th>\n",
       "      <th>Created Date</th>\n",
       "      <th>Close Date</th>\n",
       "      <th>DateDiff</th>\n",
       "      <th>Ordered_Product</th>\n",
       "      <th>Ordered_Agent</th>\n",
       "      <th>Predictions_GBM</th>\n",
       "      <th>Predictions_RF</th>\n",
       "    </tr>\n",
       "  </thead>\n",
       "  <tbody>\n",
       "    <tr>\n",
       "      <th>3</th>\n",
       "      <td>Genco Pura Olive Oil Company</td>\n",
       "      <td>IBEUTCSW</td>\n",
       "      <td>James Ascencio</td>\n",
       "      <td>james@piedpiper.com</td>\n",
       "      <td>karole@gencopuraoliveoilcompany.com</td>\n",
       "      <td>In Progress</td>\n",
       "      <td>MG Advanced</td>\n",
       "      <td>1054</td>\n",
       "      <td>2016-01-06</td>\n",
       "      <td>2016-09-11</td>\n",
       "      <td>249</td>\n",
       "      <td>1</td>\n",
       "      <td>22</td>\n",
       "      <td>Won</td>\n",
       "      <td>Won</td>\n",
       "    </tr>\n",
       "    <tr>\n",
       "      <th>15</th>\n",
       "      <td>Umbrella Corporation</td>\n",
       "      <td>3ECHUPQY</td>\n",
       "      <td>Daniell Hammack</td>\n",
       "      <td>daniell@piedpiper.com</td>\n",
       "      <td>orpha@umbrellacorporation.com</td>\n",
       "      <td>In Progress</td>\n",
       "      <td>GTX Plus Basic</td>\n",
       "      <td>561</td>\n",
       "      <td>2016-01-17</td>\n",
       "      <td>2016-10-03</td>\n",
       "      <td>260</td>\n",
       "      <td>2</td>\n",
       "      <td>5</td>\n",
       "      <td>Won</td>\n",
       "      <td>Won</td>\n",
       "    </tr>\n",
       "    <tr>\n",
       "      <th>35</th>\n",
       "      <td>Ontomedia</td>\n",
       "      <td>1ZDDZD8B</td>\n",
       "      <td>Markita Hansen</td>\n",
       "      <td>markita@piedpiper.com</td>\n",
       "      <td>nedra@ontomedia.com</td>\n",
       "      <td>In Progress</td>\n",
       "      <td>MG Special</td>\n",
       "      <td>50</td>\n",
       "      <td>2016-02-13</td>\n",
       "      <td>2016-11-01</td>\n",
       "      <td>262</td>\n",
       "      <td>6</td>\n",
       "      <td>1</td>\n",
       "      <td>Won</td>\n",
       "      <td>Won</td>\n",
       "    </tr>\n",
       "    <tr>\n",
       "      <th>39</th>\n",
       "      <td>Hottechi</td>\n",
       "      <td>J53D8EOL</td>\n",
       "      <td>Kary Hendrixson</td>\n",
       "      <td>kary@piedpiper.com</td>\n",
       "      <td>juliette@hottechi.com</td>\n",
       "      <td>In Progress</td>\n",
       "      <td>GTX Plus Basic</td>\n",
       "      <td>601</td>\n",
       "      <td>2016-02-20</td>\n",
       "      <td>2016-05-30</td>\n",
       "      <td>100</td>\n",
       "      <td>2</td>\n",
       "      <td>9</td>\n",
       "      <td>Won</td>\n",
       "      <td>Won</td>\n",
       "    </tr>\n",
       "    <tr>\n",
       "      <th>42</th>\n",
       "      <td>Silis</td>\n",
       "      <td>NKPH3EFG</td>\n",
       "      <td>Cassey Cress</td>\n",
       "      <td>cassey@piedpiper.com</td>\n",
       "      <td>zulema@silis.com</td>\n",
       "      <td>In Progress</td>\n",
       "      <td>MG Advanced</td>\n",
       "      <td>560</td>\n",
       "      <td>2016-02-22</td>\n",
       "      <td>2016-09-16</td>\n",
       "      <td>207</td>\n",
       "      <td>1</td>\n",
       "      <td>10</td>\n",
       "      <td>Won</td>\n",
       "      <td>Won</td>\n",
       "    </tr>\n",
       "  </tbody>\n",
       "</table>\n",
       "</div>"
      ],
      "text/plain": [
       "                         Account Opportunity_ID      Sales_Agent  \\\n",
       "3   Genco Pura Olive Oil Company       IBEUTCSW   James Ascencio   \n",
       "15          Umbrella Corporation       3ECHUPQY  Daniell Hammack   \n",
       "35                     Ontomedia       1ZDDZD8B   Markita Hansen   \n",
       "39                      Hottechi       J53D8EOL  Kary Hendrixson   \n",
       "42                         Silis       NKPH3EFG     Cassey Cress   \n",
       "\n",
       "        SalesAgentEmailID                       ContactEmailID   Deal_Stage  \\\n",
       "3     james@piedpiper.com  karole@gencopuraoliveoilcompany.com  In Progress   \n",
       "15  daniell@piedpiper.com        orpha@umbrellacorporation.com  In Progress   \n",
       "35  markita@piedpiper.com                  nedra@ontomedia.com  In Progress   \n",
       "39     kary@piedpiper.com                juliette@hottechi.com  In Progress   \n",
       "42   cassey@piedpiper.com                     zulema@silis.com  In Progress   \n",
       "\n",
       "           Product  Close_Value Created Date  Close Date  DateDiff  \\\n",
       "3      MG Advanced         1054   2016-01-06  2016-09-11       249   \n",
       "15  GTX Plus Basic          561   2016-01-17  2016-10-03       260   \n",
       "35      MG Special           50   2016-02-13  2016-11-01       262   \n",
       "39  GTX Plus Basic          601   2016-02-20  2016-05-30       100   \n",
       "42     MG Advanced          560   2016-02-22  2016-09-16       207   \n",
       "\n",
       "    Ordered_Product  Ordered_Agent Predictions_GBM Predictions_RF  \n",
       "3                 1             22             Won            Won  \n",
       "15                2              5             Won            Won  \n",
       "35                6              1             Won            Won  \n",
       "39                2              9             Won            Won  \n",
       "42                1             10             Won            Won  "
      ]
     },
     "execution_count": 21,
     "metadata": {},
     "output_type": "execute_result"
    }
   ],
   "source": [
    "df = pd.read_csv('predictions.csv', index_col=0)\n",
    "df.head()"
   ]
  },
  {
   "cell_type": "code",
   "execution_count": 22,
   "metadata": {},
   "outputs": [],
   "source": [
    "df.drop(['Predictions_GBM', 'Predictions_RF'], inplace=True, axis=1)"
   ]
  },
  {
   "cell_type": "code",
   "execution_count": 23,
   "metadata": {},
   "outputs": [
    {
     "name": "stdout",
     "output_type": "stream",
     "text": [
      "2016-01-06\n",
      "2019-12-31\n"
     ]
    }
   ],
   "source": [
    "print(min(df['Created Date']))\n",
    "print(max(df['Close Date']))"
   ]
  },
  {
   "cell_type": "code",
   "execution_count": 24,
   "metadata": {},
   "outputs": [
    {
     "name": "stdout",
     "output_type": "stream",
     "text": [
      "2016-01-06 00:00:00 2019-12-31 00:00:00\n"
     ]
    }
   ],
   "source": [
    "import datetime\n",
    "start = datetime.datetime(year=2016, \n",
    "    month=1,\n",
    "    day=6)\n",
    "\n",
    "end = datetime.datetime(year=2019, \n",
    "    month=12,\n",
    "    day=31)\n",
    "\n",
    "print(start, end)"
   ]
  },
  {
   "cell_type": "code",
   "execution_count": 25,
   "metadata": {},
   "outputs": [],
   "source": [
    "text_df = interactions[(interactions['InteractionDate'] >= start) & (interactions['InteractionDate'] <= end)]"
   ]
  },
  {
   "cell_type": "code",
   "execution_count": 26,
   "metadata": {},
   "outputs": [
    {
     "data": {
      "text/plain": [
       "(316279, 6)"
      ]
     },
     "execution_count": 26,
     "metadata": {},
     "output_type": "execute_result"
    }
   ],
   "source": [
    "text_df.shape"
   ]
  },
  {
   "cell_type": "code",
   "execution_count": 27,
   "metadata": {},
   "outputs": [
    {
     "data": {
      "text/plain": [
       "(2089, 13)"
      ]
     },
     "execution_count": 27,
     "metadata": {},
     "output_type": "execute_result"
    }
   ],
   "source": [
    "df.shape"
   ]
  },
  {
   "cell_type": "code",
   "execution_count": 28,
   "metadata": {},
   "outputs": [],
   "source": [
    "newdf = pd.merge(df, text_df, how='inner', left_on=['SalesAgentEmailID','ContactEmailID'], right_on = ['fromEmailId','toEmailId'])"
   ]
  },
  {
   "cell_type": "code",
   "execution_count": 29,
   "metadata": {},
   "outputs": [
    {
     "data": {
      "text/plain": [
       "(167814, 19)"
      ]
     },
     "execution_count": 29,
     "metadata": {},
     "output_type": "execute_result"
    }
   ],
   "source": [
    "newdf.shape"
   ]
  },
  {
   "cell_type": "code",
   "execution_count": 30,
   "metadata": {},
   "outputs": [
    {
     "data": {
      "text/html": [
       "<div>\n",
       "<style scoped>\n",
       "    .dataframe tbody tr th:only-of-type {\n",
       "        vertical-align: middle;\n",
       "    }\n",
       "\n",
       "    .dataframe tbody tr th {\n",
       "        vertical-align: top;\n",
       "    }\n",
       "\n",
       "    .dataframe thead th {\n",
       "        text-align: right;\n",
       "    }\n",
       "</style>\n",
       "<table border=\"1\" class=\"dataframe\">\n",
       "  <thead>\n",
       "    <tr style=\"text-align: right;\">\n",
       "      <th></th>\n",
       "      <th>Account</th>\n",
       "      <th>Opportunity_ID</th>\n",
       "      <th>Sales_Agent</th>\n",
       "      <th>SalesAgentEmailID</th>\n",
       "      <th>ContactEmailID</th>\n",
       "      <th>Deal_Stage</th>\n",
       "      <th>Product</th>\n",
       "      <th>Close_Value</th>\n",
       "      <th>Created Date</th>\n",
       "      <th>Close Date</th>\n",
       "      <th>DateDiff</th>\n",
       "      <th>Ordered_Product</th>\n",
       "      <th>Ordered_Agent</th>\n",
       "      <th>interactionID</th>\n",
       "      <th>fromEmailId</th>\n",
       "      <th>toEmailId</th>\n",
       "      <th>InteractionDate</th>\n",
       "      <th>InteractionType(Call/Email/SMS)</th>\n",
       "      <th>Extracted Interaction Text</th>\n",
       "    </tr>\n",
       "  </thead>\n",
       "  <tbody>\n",
       "    <tr>\n",
       "      <th>0</th>\n",
       "      <td>Genco Pura Olive Oil Company</td>\n",
       "      <td>IBEUTCSW</td>\n",
       "      <td>James Ascencio</td>\n",
       "      <td>james@piedpiper.com</td>\n",
       "      <td>karole@gencopuraoliveoilcompany.com</td>\n",
       "      <td>In Progress</td>\n",
       "      <td>MG Advanced</td>\n",
       "      <td>1054</td>\n",
       "      <td>2016-01-06</td>\n",
       "      <td>2016-09-11</td>\n",
       "      <td>249</td>\n",
       "      <td>1</td>\n",
       "      <td>22</td>\n",
       "      <td>4051152</td>\n",
       "      <td>james@piedpiper.com</td>\n",
       "      <td>karole@gencopuraoliveoilcompany.com</td>\n",
       "      <td>2016-04-22</td>\n",
       "      <td>Email</td>\n",
       "      <td>I appreciate your contribution to Morgan Stanl...</td>\n",
       "    </tr>\n",
       "    <tr>\n",
       "      <th>1</th>\n",
       "      <td>Genco Pura Olive Oil Company</td>\n",
       "      <td>IBEUTCSW</td>\n",
       "      <td>James Ascencio</td>\n",
       "      <td>james@piedpiper.com</td>\n",
       "      <td>karole@gencopuraoliveoilcompany.com</td>\n",
       "      <td>In Progress</td>\n",
       "      <td>MG Advanced</td>\n",
       "      <td>1054</td>\n",
       "      <td>2016-01-06</td>\n",
       "      <td>2016-09-11</td>\n",
       "      <td>249</td>\n",
       "      <td>1</td>\n",
       "      <td>22</td>\n",
       "      <td>4849530</td>\n",
       "      <td>james@piedpiper.com</td>\n",
       "      <td>karole@gencopuraoliveoilcompany.com</td>\n",
       "      <td>2016-06-10</td>\n",
       "      <td>Email</td>\n",
       "      <td>I am pleased to accept your generous offer of ...</td>\n",
       "    </tr>\n",
       "    <tr>\n",
       "      <th>2</th>\n",
       "      <td>Genco Pura Olive Oil Company</td>\n",
       "      <td>IBEUTCSW</td>\n",
       "      <td>James Ascencio</td>\n",
       "      <td>james@piedpiper.com</td>\n",
       "      <td>karole@gencopuraoliveoilcompany.com</td>\n",
       "      <td>In Progress</td>\n",
       "      <td>MG Advanced</td>\n",
       "      <td>1054</td>\n",
       "      <td>2016-01-06</td>\n",
       "      <td>2016-09-11</td>\n",
       "      <td>249</td>\n",
       "      <td>1</td>\n",
       "      <td>22</td>\n",
       "      <td>8752307</td>\n",
       "      <td>james@piedpiper.com</td>\n",
       "      <td>karole@gencopuraoliveoilcompany.com</td>\n",
       "      <td>2016-06-26</td>\n",
       "      <td>Email</td>\n",
       "      <td>We assure you that you won't face any problems</td>\n",
       "    </tr>\n",
       "    <tr>\n",
       "      <th>3</th>\n",
       "      <td>Genco Pura Olive Oil Company</td>\n",
       "      <td>IBEUTCSW</td>\n",
       "      <td>James Ascencio</td>\n",
       "      <td>james@piedpiper.com</td>\n",
       "      <td>karole@gencopuraoliveoilcompany.com</td>\n",
       "      <td>In Progress</td>\n",
       "      <td>MG Advanced</td>\n",
       "      <td>1054</td>\n",
       "      <td>2016-01-06</td>\n",
       "      <td>2016-09-11</td>\n",
       "      <td>249</td>\n",
       "      <td>1</td>\n",
       "      <td>22</td>\n",
       "      <td>8877493</td>\n",
       "      <td>james@piedpiper.com</td>\n",
       "      <td>karole@gencopuraoliveoilcompany.com</td>\n",
       "      <td>2016-06-26</td>\n",
       "      <td>Call</td>\n",
       "      <td>There must have been a misunderstanding as we ...</td>\n",
       "    </tr>\n",
       "    <tr>\n",
       "      <th>4</th>\n",
       "      <td>Genco Pura Olive Oil Company</td>\n",
       "      <td>IBEUTCSW</td>\n",
       "      <td>James Ascencio</td>\n",
       "      <td>james@piedpiper.com</td>\n",
       "      <td>karole@gencopuraoliveoilcompany.com</td>\n",
       "      <td>In Progress</td>\n",
       "      <td>MG Advanced</td>\n",
       "      <td>1054</td>\n",
       "      <td>2016-01-06</td>\n",
       "      <td>2016-09-11</td>\n",
       "      <td>249</td>\n",
       "      <td>1</td>\n",
       "      <td>22</td>\n",
       "      <td>8832959</td>\n",
       "      <td>james@piedpiper.com</td>\n",
       "      <td>karole@gencopuraoliveoilcompany.com</td>\n",
       "      <td>2016-07-16</td>\n",
       "      <td>Call</td>\n",
       "      <td>On behalf of the rest of the management team, ...</td>\n",
       "    </tr>\n",
       "  </tbody>\n",
       "</table>\n",
       "</div>"
      ],
      "text/plain": [
       "                        Account Opportunity_ID     Sales_Agent  \\\n",
       "0  Genco Pura Olive Oil Company       IBEUTCSW  James Ascencio   \n",
       "1  Genco Pura Olive Oil Company       IBEUTCSW  James Ascencio   \n",
       "2  Genco Pura Olive Oil Company       IBEUTCSW  James Ascencio   \n",
       "3  Genco Pura Olive Oil Company       IBEUTCSW  James Ascencio   \n",
       "4  Genco Pura Olive Oil Company       IBEUTCSW  James Ascencio   \n",
       "\n",
       "     SalesAgentEmailID                       ContactEmailID   Deal_Stage  \\\n",
       "0  james@piedpiper.com  karole@gencopuraoliveoilcompany.com  In Progress   \n",
       "1  james@piedpiper.com  karole@gencopuraoliveoilcompany.com  In Progress   \n",
       "2  james@piedpiper.com  karole@gencopuraoliveoilcompany.com  In Progress   \n",
       "3  james@piedpiper.com  karole@gencopuraoliveoilcompany.com  In Progress   \n",
       "4  james@piedpiper.com  karole@gencopuraoliveoilcompany.com  In Progress   \n",
       "\n",
       "       Product  Close_Value Created Date  Close Date  DateDiff  \\\n",
       "0  MG Advanced         1054   2016-01-06  2016-09-11       249   \n",
       "1  MG Advanced         1054   2016-01-06  2016-09-11       249   \n",
       "2  MG Advanced         1054   2016-01-06  2016-09-11       249   \n",
       "3  MG Advanced         1054   2016-01-06  2016-09-11       249   \n",
       "4  MG Advanced         1054   2016-01-06  2016-09-11       249   \n",
       "\n",
       "   Ordered_Product  Ordered_Agent  interactionID          fromEmailId  \\\n",
       "0                1             22        4051152  james@piedpiper.com   \n",
       "1                1             22        4849530  james@piedpiper.com   \n",
       "2                1             22        8752307  james@piedpiper.com   \n",
       "3                1             22        8877493  james@piedpiper.com   \n",
       "4                1             22        8832959  james@piedpiper.com   \n",
       "\n",
       "                             toEmailId InteractionDate  \\\n",
       "0  karole@gencopuraoliveoilcompany.com      2016-04-22   \n",
       "1  karole@gencopuraoliveoilcompany.com      2016-06-10   \n",
       "2  karole@gencopuraoliveoilcompany.com      2016-06-26   \n",
       "3  karole@gencopuraoliveoilcompany.com      2016-06-26   \n",
       "4  karole@gencopuraoliveoilcompany.com      2016-07-16   \n",
       "\n",
       "  InteractionType(Call/Email/SMS)  \\\n",
       "0                           Email   \n",
       "1                           Email   \n",
       "2                           Email   \n",
       "3                            Call   \n",
       "4                            Call   \n",
       "\n",
       "                          Extracted Interaction Text  \n",
       "0  I appreciate your contribution to Morgan Stanl...  \n",
       "1  I am pleased to accept your generous offer of ...  \n",
       "2     We assure you that you won't face any problems  \n",
       "3  There must have been a misunderstanding as we ...  \n",
       "4  On behalf of the rest of the management team, ...  "
      ]
     },
     "execution_count": 30,
     "metadata": {},
     "output_type": "execute_result"
    }
   ],
   "source": [
    "newdf.head()"
   ]
  },
  {
   "cell_type": "code",
   "execution_count": 19,
   "metadata": {},
   "outputs": [
    {
     "data": {
      "text/plain": [
       "array(['In Progress'], dtype=object)"
      ]
     },
     "execution_count": 19,
     "metadata": {},
     "output_type": "execute_result"
    }
   ],
   "source": [
    "newdf['Deal_Stage'].unique()"
   ]
  },
  {
   "cell_type": "code",
   "execution_count": 37,
   "metadata": {},
   "outputs": [],
   "source": [
    "cols_to_use = ['Close_Value', 'DateDiff','Extracted Interaction Text', 'Ordered_Agent','Ordered_Product']\n",
    "newdf = newdf[cols_to_use]"
   ]
  },
  {
   "cell_type": "code",
   "execution_count": 38,
   "metadata": {},
   "outputs": [
    {
     "data": {
      "text/html": [
       "<div>\n",
       "<style scoped>\n",
       "    .dataframe tbody tr th:only-of-type {\n",
       "        vertical-align: middle;\n",
       "    }\n",
       "\n",
       "    .dataframe tbody tr th {\n",
       "        vertical-align: top;\n",
       "    }\n",
       "\n",
       "    .dataframe thead th {\n",
       "        text-align: right;\n",
       "    }\n",
       "</style>\n",
       "<table border=\"1\" class=\"dataframe\">\n",
       "  <thead>\n",
       "    <tr style=\"text-align: right;\">\n",
       "      <th></th>\n",
       "      <th>Close_Value</th>\n",
       "      <th>DateDiff</th>\n",
       "      <th>Extracted Interaction Text</th>\n",
       "      <th>Ordered_Agent</th>\n",
       "      <th>Ordered_Product</th>\n",
       "    </tr>\n",
       "  </thead>\n",
       "  <tbody>\n",
       "    <tr>\n",
       "      <th>0</th>\n",
       "      <td>1054</td>\n",
       "      <td>249</td>\n",
       "      <td>I appreciate your contribution to Morgan Stanl...</td>\n",
       "      <td>22</td>\n",
       "      <td>1</td>\n",
       "    </tr>\n",
       "    <tr>\n",
       "      <th>1</th>\n",
       "      <td>1054</td>\n",
       "      <td>249</td>\n",
       "      <td>I am pleased to accept your generous offer of ...</td>\n",
       "      <td>22</td>\n",
       "      <td>1</td>\n",
       "    </tr>\n",
       "    <tr>\n",
       "      <th>2</th>\n",
       "      <td>1054</td>\n",
       "      <td>249</td>\n",
       "      <td>We assure you that you won't face any problems</td>\n",
       "      <td>22</td>\n",
       "      <td>1</td>\n",
       "    </tr>\n",
       "    <tr>\n",
       "      <th>3</th>\n",
       "      <td>1054</td>\n",
       "      <td>249</td>\n",
       "      <td>There must have been a misunderstanding as we ...</td>\n",
       "      <td>22</td>\n",
       "      <td>1</td>\n",
       "    </tr>\n",
       "    <tr>\n",
       "      <th>4</th>\n",
       "      <td>1054</td>\n",
       "      <td>249</td>\n",
       "      <td>On behalf of the rest of the management team, ...</td>\n",
       "      <td>22</td>\n",
       "      <td>1</td>\n",
       "    </tr>\n",
       "  </tbody>\n",
       "</table>\n",
       "</div>"
      ],
      "text/plain": [
       "   Close_Value  DateDiff                         Extracted Interaction Text  \\\n",
       "0         1054       249  I appreciate your contribution to Morgan Stanl...   \n",
       "1         1054       249  I am pleased to accept your generous offer of ...   \n",
       "2         1054       249     We assure you that you won't face any problems   \n",
       "3         1054       249  There must have been a misunderstanding as we ...   \n",
       "4         1054       249  On behalf of the rest of the management team, ...   \n",
       "\n",
       "   Ordered_Agent  Ordered_Product  \n",
       "0             22                1  \n",
       "1             22                1  \n",
       "2             22                1  \n",
       "3             22                1  \n",
       "4             22                1  "
      ]
     },
     "execution_count": 38,
     "metadata": {},
     "output_type": "execute_result"
    }
   ],
   "source": [
    "newdf.head()"
   ]
  },
  {
   "cell_type": "code",
   "execution_count": 125,
   "metadata": {},
   "outputs": [],
   "source": [
    "# Data cleaning"
   ]
  },
  {
   "cell_type": "code",
   "execution_count": 49,
   "metadata": {},
   "outputs": [
    {
     "name": "stderr",
     "output_type": "stream",
     "text": [
      "[nltk_data] Downloading package stopwords to\n",
      "[nltk_data]     C:\\Users\\SIDDHARTH\\AppData\\Roaming\\nltk_data...\n",
      "[nltk_data]   Package stopwords is already up-to-date!\n"
     ]
    },
    {
     "data": {
      "text/plain": [
       "179"
      ]
     },
     "execution_count": 49,
     "metadata": {},
     "output_type": "execute_result"
    }
   ],
   "source": [
    "from bs4 import BeautifulSoup\n",
    "from tqdm import tqdm\n",
    "import re\n",
    "\n",
    "import nltk\n",
    "nltk.download('stopwords')\n",
    "\n",
    "from nltk.corpus import stopwords\n",
    "stop = set(stopwords.words('english'))\n",
    "len(stop)"
   ]
  },
  {
   "cell_type": "code",
   "execution_count": 50,
   "metadata": {},
   "outputs": [],
   "source": [
    "def cleaner(phrase):\n",
    "    phrase = re.sub(r\"won't\", \"will not\", phrase)\n",
    "    phrase = re.sub(r\"can't\", 'can not', phrase)\n",
    "  \n",
    "  # general\n",
    "    phrase = re.sub(r\"n\\'t\",\" not\", phrase)\n",
    "    phrase = re.sub(r\"\\'re'\",\" are\", phrase)\n",
    "    phrase = re.sub(r\"\\'s\",\" is\", phrase)\n",
    "    phrase = re.sub(r\"\\'ll\",\" will\", phrase)\n",
    "    phrase = re.sub(r\"\\'d\",\" would\", phrase)\n",
    "    phrase = re.sub(r\"\\'t\",\" not\", phrase)\n",
    "    phrase = re.sub(r\"\\'ve\",\" have\", phrase)\n",
    "    phrase = re.sub(r\"\\'m\",\" am\", phrase)\n",
    "    \n",
    "    return phrase"
   ]
  },
  {
   "cell_type": "code",
   "execution_count": 51,
   "metadata": {},
   "outputs": [
    {
     "name": "stderr",
     "output_type": "stream",
     "text": [
      "100%|████████████████████████████████████████████████████████████████████████| 167814/167814 [01:17<00:00, 2179.20it/s]\n"
     ]
    }
   ],
   "source": [
    "cleaned_title = []\n",
    "\n",
    "for sentance in tqdm(newdf['Extracted Interaction Text'].values):\n",
    "    sentance = str(sentance)\n",
    "    sentance = re.sub(r\"http\\S+\", \"\", sentance)\n",
    "    sentance = BeautifulSoup(sentance, 'lxml').get_text()\n",
    "    sentance = cleaner(sentance)\n",
    "    sentance = re.sub(r'[?|!|\\'|\"|#|+]', r'', sentance)\n",
    "    sentance = re.sub(\"\\S*\\d\\S*\", \"\", sentance).strip()\n",
    "    sentance = re.sub('[^A-Za-z]+', ' ', sentance)\n",
    "    sentance = ' '.join(e.lower() for e in sentance.split() if e.lower() not in stop)\n",
    "    cleaned_title.append(sentance.strip())"
   ]
  },
  {
   "cell_type": "code",
   "execution_count": 52,
   "metadata": {},
   "outputs": [],
   "source": [
    "newdf['Extracted Interaction Text'] = cleaned_title"
   ]
  },
  {
   "cell_type": "code",
   "execution_count": 53,
   "metadata": {},
   "outputs": [
    {
     "data": {
      "text/html": [
       "<div>\n",
       "<style scoped>\n",
       "    .dataframe tbody tr th:only-of-type {\n",
       "        vertical-align: middle;\n",
       "    }\n",
       "\n",
       "    .dataframe tbody tr th {\n",
       "        vertical-align: top;\n",
       "    }\n",
       "\n",
       "    .dataframe thead th {\n",
       "        text-align: right;\n",
       "    }\n",
       "</style>\n",
       "<table border=\"1\" class=\"dataframe\">\n",
       "  <thead>\n",
       "    <tr style=\"text-align: right;\">\n",
       "      <th></th>\n",
       "      <th>Close_Value</th>\n",
       "      <th>DateDiff</th>\n",
       "      <th>Extracted Interaction Text</th>\n",
       "      <th>Ordered_Agent</th>\n",
       "      <th>Ordered_Product</th>\n",
       "    </tr>\n",
       "  </thead>\n",
       "  <tbody>\n",
       "    <tr>\n",
       "      <th>0</th>\n",
       "      <td>1054</td>\n",
       "      <td>249</td>\n",
       "      <td>appreciate contribution morgan stanley efforts...</td>\n",
       "      <td>22</td>\n",
       "      <td>1</td>\n",
       "    </tr>\n",
       "    <tr>\n",
       "      <th>1</th>\n",
       "      <td>1054</td>\n",
       "      <td>249</td>\n",
       "      <td>pleased accept generous offer engineering posi...</td>\n",
       "      <td>22</td>\n",
       "      <td>1</td>\n",
       "    </tr>\n",
       "    <tr>\n",
       "      <th>2</th>\n",
       "      <td>1054</td>\n",
       "      <td>249</td>\n",
       "      <td>assure face problems</td>\n",
       "      <td>22</td>\n",
       "      <td>1</td>\n",
       "    </tr>\n",
       "    <tr>\n",
       "      <th>3</th>\n",
       "      <td>1054</td>\n",
       "      <td>249</td>\n",
       "      <td>must misunderstanding already contracted anoth...</td>\n",
       "      <td>22</td>\n",
       "      <td>1</td>\n",
       "    </tr>\n",
       "    <tr>\n",
       "      <th>4</th>\n",
       "      <td>1054</td>\n",
       "      <td>249</td>\n",
       "      <td>behalf rest management team want tell much app...</td>\n",
       "      <td>22</td>\n",
       "      <td>1</td>\n",
       "    </tr>\n",
       "  </tbody>\n",
       "</table>\n",
       "</div>"
      ],
      "text/plain": [
       "   Close_Value  DateDiff                         Extracted Interaction Text  \\\n",
       "0         1054       249  appreciate contribution morgan stanley efforts...   \n",
       "1         1054       249  pleased accept generous offer engineering posi...   \n",
       "2         1054       249                               assure face problems   \n",
       "3         1054       249  must misunderstanding already contracted anoth...   \n",
       "4         1054       249  behalf rest management team want tell much app...   \n",
       "\n",
       "   Ordered_Agent  Ordered_Product  \n",
       "0             22                1  \n",
       "1             22                1  \n",
       "2             22                1  \n",
       "3             22                1  \n",
       "4             22                1  "
      ]
     },
     "execution_count": 53,
     "metadata": {},
     "output_type": "execute_result"
    }
   ],
   "source": [
    "newdf.head()"
   ]
  },
  {
   "cell_type": "code",
   "execution_count": null,
   "metadata": {},
   "outputs": [],
   "source": []
  },
  {
   "cell_type": "code",
   "execution_count": 54,
   "metadata": {},
   "outputs": [],
   "source": [
    "model = pickle.load(open('text_model', 'rb'))\n",
    "vect = pickle.load(open('vect_model', 'rb'))"
   ]
  },
  {
   "cell_type": "code",
   "execution_count": 55,
   "metadata": {},
   "outputs": [],
   "source": [
    "Text_TFIDF = vect.transform(newdf['Extracted Interaction Text'])"
   ]
  },
  {
   "cell_type": "code",
   "execution_count": 56,
   "metadata": {},
   "outputs": [],
   "source": [
    "test_agent=[]\n",
    "for i in newdf['Ordered_Agent']:\n",
    "    test_agent.append(i)\n",
    "test_pdt=[]\n",
    "for i in newdf['Ordered_Product']:\n",
    "    test_pdt.append(i)\n",
    "test_diff=[]\n",
    "for i in newdf['DateDiff']:\n",
    "    test_diff.append(i)\n",
    "test_val=[]\n",
    "for i in newdf['Close_Value']:\n",
    "    test_val.append(i)"
   ]
  },
  {
   "cell_type": "code",
   "execution_count": 57,
   "metadata": {},
   "outputs": [],
   "source": [
    "from scipy.sparse import hstack\n",
    "Text_TFIDF_mix = (hstack((Text_TFIDF,np.array(test_agent)[:,None], np.array(test_pdt)[:,None], np.array(test_diff)[:,None], np.array(test_val)[:,None]))).tocsr()"
   ]
  },
  {
   "cell_type": "code",
   "execution_count": 58,
   "metadata": {},
   "outputs": [],
   "source": [
    "Deal_pred = model.predict(Text_TFIDF_mix)"
   ]
  },
  {
   "cell_type": "code",
   "execution_count": 59,
   "metadata": {},
   "outputs": [],
   "source": [
    "newdf['Deal_Closepred'] = Deal_pred"
   ]
  },
  {
   "cell_type": "code",
   "execution_count": 60,
   "metadata": {},
   "outputs": [
    {
     "data": {
      "text/html": [
       "<div>\n",
       "<style scoped>\n",
       "    .dataframe tbody tr th:only-of-type {\n",
       "        vertical-align: middle;\n",
       "    }\n",
       "\n",
       "    .dataframe tbody tr th {\n",
       "        vertical-align: top;\n",
       "    }\n",
       "\n",
       "    .dataframe thead th {\n",
       "        text-align: right;\n",
       "    }\n",
       "</style>\n",
       "<table border=\"1\" class=\"dataframe\">\n",
       "  <thead>\n",
       "    <tr style=\"text-align: right;\">\n",
       "      <th></th>\n",
       "      <th>Close_Value</th>\n",
       "      <th>DateDiff</th>\n",
       "      <th>Extracted Interaction Text</th>\n",
       "      <th>Ordered_Agent</th>\n",
       "      <th>Ordered_Product</th>\n",
       "      <th>Deal_Closepred</th>\n",
       "    </tr>\n",
       "  </thead>\n",
       "  <tbody>\n",
       "    <tr>\n",
       "      <th>0</th>\n",
       "      <td>1054</td>\n",
       "      <td>249</td>\n",
       "      <td>appreciate contribution morgan stanley efforts...</td>\n",
       "      <td>22</td>\n",
       "      <td>1</td>\n",
       "      <td>1</td>\n",
       "    </tr>\n",
       "    <tr>\n",
       "      <th>1</th>\n",
       "      <td>1054</td>\n",
       "      <td>249</td>\n",
       "      <td>pleased accept generous offer engineering posi...</td>\n",
       "      <td>22</td>\n",
       "      <td>1</td>\n",
       "      <td>1</td>\n",
       "    </tr>\n",
       "    <tr>\n",
       "      <th>2</th>\n",
       "      <td>1054</td>\n",
       "      <td>249</td>\n",
       "      <td>assure face problems</td>\n",
       "      <td>22</td>\n",
       "      <td>1</td>\n",
       "      <td>1</td>\n",
       "    </tr>\n",
       "    <tr>\n",
       "      <th>3</th>\n",
       "      <td>1054</td>\n",
       "      <td>249</td>\n",
       "      <td>must misunderstanding already contracted anoth...</td>\n",
       "      <td>22</td>\n",
       "      <td>1</td>\n",
       "      <td>1</td>\n",
       "    </tr>\n",
       "    <tr>\n",
       "      <th>4</th>\n",
       "      <td>1054</td>\n",
       "      <td>249</td>\n",
       "      <td>behalf rest management team want tell much app...</td>\n",
       "      <td>22</td>\n",
       "      <td>1</td>\n",
       "      <td>1</td>\n",
       "    </tr>\n",
       "  </tbody>\n",
       "</table>\n",
       "</div>"
      ],
      "text/plain": [
       "   Close_Value  DateDiff                         Extracted Interaction Text  \\\n",
       "0         1054       249  appreciate contribution morgan stanley efforts...   \n",
       "1         1054       249  pleased accept generous offer engineering posi...   \n",
       "2         1054       249                               assure face problems   \n",
       "3         1054       249  must misunderstanding already contracted anoth...   \n",
       "4         1054       249  behalf rest management team want tell much app...   \n",
       "\n",
       "   Ordered_Agent  Ordered_Product  Deal_Closepred  \n",
       "0             22                1               1  \n",
       "1             22                1               1  \n",
       "2             22                1               1  \n",
       "3             22                1               1  \n",
       "4             22                1               1  "
      ]
     },
     "execution_count": 60,
     "metadata": {},
     "output_type": "execute_result"
    }
   ],
   "source": [
    "newdf.head()"
   ]
  },
  {
   "cell_type": "code",
   "execution_count": 61,
   "metadata": {},
   "outputs": [],
   "source": [
    "# Predicting Close Values for sales prediction"
   ]
  },
  {
   "cell_type": "code",
   "execution_count": 62,
   "metadata": {},
   "outputs": [],
   "source": [
    "model2 = pickle.load(open('gbm_model', 'rb'))\n",
    "scaler = pickle.load(open('scaler_RS', 'rb'))"
   ]
  },
  {
   "cell_type": "code",
   "execution_count": 63,
   "metadata": {},
   "outputs": [],
   "source": [
    "test = newdf[['Deal_Closepred','DateDiff', 'Ordered_Product','Ordered_Agent','Close_Value']]"
   ]
  },
  {
   "cell_type": "code",
   "execution_count": 64,
   "metadata": {},
   "outputs": [],
   "source": [
    "test1 = scaler.transform(test[['Deal_Closepred','DateDiff', 'Ordered_Product','Ordered_Agent']])"
   ]
  },
  {
   "cell_type": "code",
   "execution_count": 65,
   "metadata": {},
   "outputs": [],
   "source": [
    "close_pred = model2.predict(test1)"
   ]
  },
  {
   "cell_type": "code",
   "execution_count": 66,
   "metadata": {},
   "outputs": [],
   "source": [
    "newdf['Close_pred'] = close_pred"
   ]
  },
  {
   "cell_type": "code",
   "execution_count": 67,
   "metadata": {},
   "outputs": [
    {
     "data": {
      "text/html": [
       "<div>\n",
       "<style scoped>\n",
       "    .dataframe tbody tr th:only-of-type {\n",
       "        vertical-align: middle;\n",
       "    }\n",
       "\n",
       "    .dataframe tbody tr th {\n",
       "        vertical-align: top;\n",
       "    }\n",
       "\n",
       "    .dataframe thead th {\n",
       "        text-align: right;\n",
       "    }\n",
       "</style>\n",
       "<table border=\"1\" class=\"dataframe\">\n",
       "  <thead>\n",
       "    <tr style=\"text-align: right;\">\n",
       "      <th></th>\n",
       "      <th>Close_Value</th>\n",
       "      <th>DateDiff</th>\n",
       "      <th>Extracted Interaction Text</th>\n",
       "      <th>Ordered_Agent</th>\n",
       "      <th>Ordered_Product</th>\n",
       "      <th>Deal_Closepred</th>\n",
       "      <th>Close_pred</th>\n",
       "    </tr>\n",
       "  </thead>\n",
       "  <tbody>\n",
       "    <tr>\n",
       "      <th>0</th>\n",
       "      <td>1054</td>\n",
       "      <td>249</td>\n",
       "      <td>appreciate contribution morgan stanley efforts...</td>\n",
       "      <td>22</td>\n",
       "      <td>1</td>\n",
       "      <td>1</td>\n",
       "      <td>3380.947611</td>\n",
       "    </tr>\n",
       "    <tr>\n",
       "      <th>1</th>\n",
       "      <td>1054</td>\n",
       "      <td>249</td>\n",
       "      <td>pleased accept generous offer engineering posi...</td>\n",
       "      <td>22</td>\n",
       "      <td>1</td>\n",
       "      <td>1</td>\n",
       "      <td>3380.947611</td>\n",
       "    </tr>\n",
       "    <tr>\n",
       "      <th>2</th>\n",
       "      <td>1054</td>\n",
       "      <td>249</td>\n",
       "      <td>assure face problems</td>\n",
       "      <td>22</td>\n",
       "      <td>1</td>\n",
       "      <td>1</td>\n",
       "      <td>3380.947611</td>\n",
       "    </tr>\n",
       "    <tr>\n",
       "      <th>3</th>\n",
       "      <td>1054</td>\n",
       "      <td>249</td>\n",
       "      <td>must misunderstanding already contracted anoth...</td>\n",
       "      <td>22</td>\n",
       "      <td>1</td>\n",
       "      <td>1</td>\n",
       "      <td>3380.947611</td>\n",
       "    </tr>\n",
       "    <tr>\n",
       "      <th>4</th>\n",
       "      <td>1054</td>\n",
       "      <td>249</td>\n",
       "      <td>behalf rest management team want tell much app...</td>\n",
       "      <td>22</td>\n",
       "      <td>1</td>\n",
       "      <td>1</td>\n",
       "      <td>3380.947611</td>\n",
       "    </tr>\n",
       "  </tbody>\n",
       "</table>\n",
       "</div>"
      ],
      "text/plain": [
       "   Close_Value  DateDiff                         Extracted Interaction Text  \\\n",
       "0         1054       249  appreciate contribution morgan stanley efforts...   \n",
       "1         1054       249  pleased accept generous offer engineering posi...   \n",
       "2         1054       249                               assure face problems   \n",
       "3         1054       249  must misunderstanding already contracted anoth...   \n",
       "4         1054       249  behalf rest management team want tell much app...   \n",
       "\n",
       "   Ordered_Agent  Ordered_Product  Deal_Closepred   Close_pred  \n",
       "0             22                1               1  3380.947611  \n",
       "1             22                1               1  3380.947611  \n",
       "2             22                1               1  3380.947611  \n",
       "3             22                1               1  3380.947611  \n",
       "4             22                1               1  3380.947611  "
      ]
     },
     "execution_count": 67,
     "metadata": {},
     "output_type": "execute_result"
    }
   ],
   "source": [
    "newdf.head()"
   ]
  },
  {
   "cell_type": "code",
   "execution_count": 69,
   "metadata": {},
   "outputs": [
    {
     "data": {
      "text/plain": [
       "2089"
      ]
     },
     "execution_count": 69,
     "metadata": {},
     "output_type": "execute_result"
    }
   ],
   "source": [
    "len(df)"
   ]
  },
  {
   "cell_type": "code",
   "execution_count": 70,
   "metadata": {},
   "outputs": [],
   "source": [
    "# Predicting future sales using the predictions we have generated"
   ]
  },
  {
   "cell_type": "code",
   "execution_count": 116,
   "metadata": {},
   "outputs": [],
   "source": [
    "df1 = newdf.drop_duplicates(subset=['Close_Value', 'Ordered_Agent'], keep='last')"
   ]
  },
  {
   "cell_type": "code",
   "execution_count": 117,
   "metadata": {},
   "outputs": [
    {
     "data": {
      "text/html": [
       "<div>\n",
       "<style scoped>\n",
       "    .dataframe tbody tr th:only-of-type {\n",
       "        vertical-align: middle;\n",
       "    }\n",
       "\n",
       "    .dataframe tbody tr th {\n",
       "        vertical-align: top;\n",
       "    }\n",
       "\n",
       "    .dataframe thead th {\n",
       "        text-align: right;\n",
       "    }\n",
       "</style>\n",
       "<table border=\"1\" class=\"dataframe\">\n",
       "  <thead>\n",
       "    <tr style=\"text-align: right;\">\n",
       "      <th></th>\n",
       "      <th>Close_Value</th>\n",
       "      <th>DateDiff</th>\n",
       "      <th>Extracted Interaction Text</th>\n",
       "      <th>Ordered_Agent</th>\n",
       "      <th>Ordered_Product</th>\n",
       "      <th>Deal_Closepred</th>\n",
       "      <th>Close_pred</th>\n",
       "    </tr>\n",
       "  </thead>\n",
       "  <tbody>\n",
       "    <tr>\n",
       "      <th>47</th>\n",
       "      <td>1054</td>\n",
       "      <td>249</td>\n",
       "      <td>receiving letter proposal initially decided ac...</td>\n",
       "      <td>22</td>\n",
       "      <td>1</td>\n",
       "      <td>1</td>\n",
       "      <td>3380.947611</td>\n",
       "    </tr>\n",
       "    <tr>\n",
       "      <th>1561</th>\n",
       "      <td>2000</td>\n",
       "      <td>208</td>\n",
       "      <td>regret must cancel appointment discuss athleti...</td>\n",
       "      <td>28</td>\n",
       "      <td>1</td>\n",
       "      <td>1</td>\n",
       "      <td>3380.947611</td>\n",
       "    </tr>\n",
       "    <tr>\n",
       "      <th>2735</th>\n",
       "      <td>3180</td>\n",
       "      <td>695</td>\n",
       "      <td>sorry report mvc enterprises renewed contract ...</td>\n",
       "      <td>14</td>\n",
       "      <td>4</td>\n",
       "      <td>1</td>\n",
       "      <td>726.063073</td>\n",
       "    </tr>\n",
       "    <tr>\n",
       "      <th>2828</th>\n",
       "      <td>487</td>\n",
       "      <td>29</td>\n",
       "      <td>pleased inform accepted business proposal sent...</td>\n",
       "      <td>20</td>\n",
       "      <td>1</td>\n",
       "      <td>1</td>\n",
       "      <td>3360.046684</td>\n",
       "    </tr>\n",
       "    <tr>\n",
       "      <th>3170</th>\n",
       "      <td>1180</td>\n",
       "      <td>45</td>\n",
       "      <td>enjoyed presentation proposed change employee ...</td>\n",
       "      <td>16</td>\n",
       "      <td>4</td>\n",
       "      <td>1</td>\n",
       "      <td>705.162146</td>\n",
       "    </tr>\n",
       "  </tbody>\n",
       "</table>\n",
       "</div>"
      ],
      "text/plain": [
       "      Close_Value  DateDiff  \\\n",
       "47           1054       249   \n",
       "1561         2000       208   \n",
       "2735         3180       695   \n",
       "2828          487        29   \n",
       "3170         1180        45   \n",
       "\n",
       "                             Extracted Interaction Text  Ordered_Agent  \\\n",
       "47    receiving letter proposal initially decided ac...             22   \n",
       "1561  regret must cancel appointment discuss athleti...             28   \n",
       "2735  sorry report mvc enterprises renewed contract ...             14   \n",
       "2828  pleased inform accepted business proposal sent...             20   \n",
       "3170  enjoyed presentation proposed change employee ...             16   \n",
       "\n",
       "      Ordered_Product  Deal_Closepred   Close_pred  \n",
       "47                  1               1  3380.947611  \n",
       "1561                1               1  3380.947611  \n",
       "2735                4               1   726.063073  \n",
       "2828                1               1  3360.046684  \n",
       "3170                4               1   705.162146  "
      ]
     },
     "execution_count": 117,
     "metadata": {},
     "output_type": "execute_result"
    }
   ],
   "source": [
    "df1.head()"
   ]
  },
  {
   "cell_type": "code",
   "execution_count": 118,
   "metadata": {},
   "outputs": [
    {
     "data": {
      "text/plain": [
       "1    686\n",
       "0    149\n",
       "Name: Deal_Closepred, dtype: int64"
      ]
     },
     "execution_count": 118,
     "metadata": {},
     "output_type": "execute_result"
    }
   ],
   "source": [
    "df1['Deal_Closepred'].value_counts()"
   ]
  },
  {
   "cell_type": "markdown",
   "metadata": {},
   "source": [
    "## 1. Sales for 1 month"
   ]
  },
  {
   "cell_type": "code",
   "execution_count": 71,
   "metadata": {},
   "outputs": [],
   "source": [
    "# We shall predict for those values which have DateDiff <= 30"
   ]
  },
  {
   "cell_type": "code",
   "execution_count": 119,
   "metadata": {},
   "outputs": [
    {
     "data": {
      "text/html": [
       "<div>\n",
       "<style scoped>\n",
       "    .dataframe tbody tr th:only-of-type {\n",
       "        vertical-align: middle;\n",
       "    }\n",
       "\n",
       "    .dataframe tbody tr th {\n",
       "        vertical-align: top;\n",
       "    }\n",
       "\n",
       "    .dataframe thead th {\n",
       "        text-align: right;\n",
       "    }\n",
       "</style>\n",
       "<table border=\"1\" class=\"dataframe\">\n",
       "  <thead>\n",
       "    <tr style=\"text-align: right;\">\n",
       "      <th></th>\n",
       "      <th>Close_Value</th>\n",
       "      <th>DateDiff</th>\n",
       "      <th>Extracted Interaction Text</th>\n",
       "      <th>Ordered_Agent</th>\n",
       "      <th>Ordered_Product</th>\n",
       "      <th>Deal_Closepred</th>\n",
       "      <th>Close_pred</th>\n",
       "    </tr>\n",
       "  </thead>\n",
       "  <tbody>\n",
       "    <tr>\n",
       "      <th>2828</th>\n",
       "      <td>487</td>\n",
       "      <td>29</td>\n",
       "      <td>pleased inform accepted business proposal sent...</td>\n",
       "      <td>20</td>\n",
       "      <td>1</td>\n",
       "      <td>1</td>\n",
       "      <td>3360.046684</td>\n",
       "    </tr>\n",
       "    <tr>\n",
       "      <th>5929</th>\n",
       "      <td>560</td>\n",
       "      <td>12</td>\n",
       "      <td>please convey compliments entire staff exceedi...</td>\n",
       "      <td>9</td>\n",
       "      <td>4</td>\n",
       "      <td>1</td>\n",
       "      <td>705.162146</td>\n",
       "    </tr>\n",
       "    <tr>\n",
       "      <th>7819</th>\n",
       "      <td>1180</td>\n",
       "      <td>3</td>\n",
       "      <td>honored would choose fill vacancy must decline...</td>\n",
       "      <td>7</td>\n",
       "      <td>1</td>\n",
       "      <td>1</td>\n",
       "      <td>3391.625199</td>\n",
       "    </tr>\n",
       "    <tr>\n",
       "      <th>10228</th>\n",
       "      <td>493</td>\n",
       "      <td>23</td>\n",
       "      <td>read innovative plans improve tax deductible i...</td>\n",
       "      <td>16</td>\n",
       "      <td>4</td>\n",
       "      <td>1</td>\n",
       "      <td>705.162146</td>\n",
       "    </tr>\n",
       "    <tr>\n",
       "      <th>11311</th>\n",
       "      <td>1232</td>\n",
       "      <td>7</td>\n",
       "      <td>considered carefully must decline offer positi...</td>\n",
       "      <td>29</td>\n",
       "      <td>1</td>\n",
       "      <td>1</td>\n",
       "      <td>3360.046684</td>\n",
       "    </tr>\n",
       "  </tbody>\n",
       "</table>\n",
       "</div>"
      ],
      "text/plain": [
       "       Close_Value  DateDiff  \\\n",
       "2828           487        29   \n",
       "5929           560        12   \n",
       "7819          1180         3   \n",
       "10228          493        23   \n",
       "11311         1232         7   \n",
       "\n",
       "                              Extracted Interaction Text  Ordered_Agent  \\\n",
       "2828   pleased inform accepted business proposal sent...             20   \n",
       "5929   please convey compliments entire staff exceedi...              9   \n",
       "7819   honored would choose fill vacancy must decline...              7   \n",
       "10228  read innovative plans improve tax deductible i...             16   \n",
       "11311  considered carefully must decline offer positi...             29   \n",
       "\n",
       "       Ordered_Product  Deal_Closepred   Close_pred  \n",
       "2828                 1               1  3360.046684  \n",
       "5929                 4               1   705.162146  \n",
       "7819                 1               1  3391.625199  \n",
       "10228                4               1   705.162146  \n",
       "11311                1               1  3360.046684  "
      ]
     },
     "execution_count": 119,
     "metadata": {},
     "output_type": "execute_result"
    }
   ],
   "source": [
    "month = df1[df1['DateDiff'] <= 30]\n",
    "month.head()"
   ]
  },
  {
   "cell_type": "code",
   "execution_count": 120,
   "metadata": {},
   "outputs": [
    {
     "name": "stdout",
     "output_type": "stream",
     "text": [
      "105352.10499169235\n"
     ]
    }
   ],
   "source": [
    "forecast_month = (sum(month[month['Deal_Closepred'] == 1]['Close_pred']))\n",
    "print(forecast_month)"
   ]
  },
  {
   "cell_type": "markdown",
   "metadata": {},
   "source": [
    "## 2. Prediction for Quarter (3 months)"
   ]
  },
  {
   "cell_type": "code",
   "execution_count": 121,
   "metadata": {},
   "outputs": [
    {
     "data": {
      "text/html": [
       "<div>\n",
       "<style scoped>\n",
       "    .dataframe tbody tr th:only-of-type {\n",
       "        vertical-align: middle;\n",
       "    }\n",
       "\n",
       "    .dataframe tbody tr th {\n",
       "        vertical-align: top;\n",
       "    }\n",
       "\n",
       "    .dataframe thead th {\n",
       "        text-align: right;\n",
       "    }\n",
       "</style>\n",
       "<table border=\"1\" class=\"dataframe\">\n",
       "  <thead>\n",
       "    <tr style=\"text-align: right;\">\n",
       "      <th></th>\n",
       "      <th>Close_Value</th>\n",
       "      <th>DateDiff</th>\n",
       "      <th>Extracted Interaction Text</th>\n",
       "      <th>Ordered_Agent</th>\n",
       "      <th>Ordered_Product</th>\n",
       "      <th>Deal_Closepred</th>\n",
       "      <th>Close_pred</th>\n",
       "    </tr>\n",
       "  </thead>\n",
       "  <tbody>\n",
       "    <tr>\n",
       "      <th>2828</th>\n",
       "      <td>487</td>\n",
       "      <td>29</td>\n",
       "      <td>pleased inform accepted business proposal sent...</td>\n",
       "      <td>20</td>\n",
       "      <td>1</td>\n",
       "      <td>1</td>\n",
       "      <td>3360.046684</td>\n",
       "    </tr>\n",
       "    <tr>\n",
       "      <th>3170</th>\n",
       "      <td>1180</td>\n",
       "      <td>45</td>\n",
       "      <td>enjoyed presentation proposed change employee ...</td>\n",
       "      <td>16</td>\n",
       "      <td>4</td>\n",
       "      <td>1</td>\n",
       "      <td>705.162146</td>\n",
       "    </tr>\n",
       "    <tr>\n",
       "      <th>5929</th>\n",
       "      <td>560</td>\n",
       "      <td>12</td>\n",
       "      <td>please convey compliments entire staff exceedi...</td>\n",
       "      <td>9</td>\n",
       "      <td>4</td>\n",
       "      <td>1</td>\n",
       "      <td>705.162146</td>\n",
       "    </tr>\n",
       "    <tr>\n",
       "      <th>7819</th>\n",
       "      <td>1180</td>\n",
       "      <td>3</td>\n",
       "      <td>honored would choose fill vacancy must decline...</td>\n",
       "      <td>7</td>\n",
       "      <td>1</td>\n",
       "      <td>1</td>\n",
       "      <td>3391.625199</td>\n",
       "    </tr>\n",
       "    <tr>\n",
       "      <th>10228</th>\n",
       "      <td>493</td>\n",
       "      <td>23</td>\n",
       "      <td>read innovative plans improve tax deductible i...</td>\n",
       "      <td>16</td>\n",
       "      <td>4</td>\n",
       "      <td>1</td>\n",
       "      <td>705.162146</td>\n",
       "    </tr>\n",
       "  </tbody>\n",
       "</table>\n",
       "</div>"
      ],
      "text/plain": [
       "       Close_Value  DateDiff  \\\n",
       "2828           487        29   \n",
       "3170          1180        45   \n",
       "5929           560        12   \n",
       "7819          1180         3   \n",
       "10228          493        23   \n",
       "\n",
       "                              Extracted Interaction Text  Ordered_Agent  \\\n",
       "2828   pleased inform accepted business proposal sent...             20   \n",
       "3170   enjoyed presentation proposed change employee ...             16   \n",
       "5929   please convey compliments entire staff exceedi...              9   \n",
       "7819   honored would choose fill vacancy must decline...              7   \n",
       "10228  read innovative plans improve tax deductible i...             16   \n",
       "\n",
       "       Ordered_Product  Deal_Closepred   Close_pred  \n",
       "2828                 1               1  3360.046684  \n",
       "3170                 4               1   705.162146  \n",
       "5929                 4               1   705.162146  \n",
       "7819                 1               1  3391.625199  \n",
       "10228                4               1   705.162146  "
      ]
     },
     "execution_count": 121,
     "metadata": {},
     "output_type": "execute_result"
    }
   ],
   "source": [
    "quarter = df1[(df1['DateDiff'] <= 120)]\n",
    "quarter.head()"
   ]
  },
  {
   "cell_type": "code",
   "execution_count": null,
   "metadata": {},
   "outputs": [],
   "source": []
  },
  {
   "cell_type": "code",
   "execution_count": 122,
   "metadata": {},
   "outputs": [
    {
     "name": "stdout",
     "output_type": "stream",
     "text": [
      "326307.29196127545\n"
     ]
    }
   ],
   "source": [
    "forecast_quarter = (sum(quarter[quarter['Deal_Closepred'] == 1]['Close_pred']))\n",
    "print(forecast_quarter)"
   ]
  },
  {
   "cell_type": "code",
   "execution_count": null,
   "metadata": {},
   "outputs": [],
   "source": []
  },
  {
   "cell_type": "markdown",
   "metadata": {},
   "source": [
    "## 3. Prediction for one Year"
   ]
  },
  {
   "cell_type": "code",
   "execution_count": 123,
   "metadata": {},
   "outputs": [
    {
     "data": {
      "text/html": [
       "<div>\n",
       "<style scoped>\n",
       "    .dataframe tbody tr th:only-of-type {\n",
       "        vertical-align: middle;\n",
       "    }\n",
       "\n",
       "    .dataframe tbody tr th {\n",
       "        vertical-align: top;\n",
       "    }\n",
       "\n",
       "    .dataframe thead th {\n",
       "        text-align: right;\n",
       "    }\n",
       "</style>\n",
       "<table border=\"1\" class=\"dataframe\">\n",
       "  <thead>\n",
       "    <tr style=\"text-align: right;\">\n",
       "      <th></th>\n",
       "      <th>Close_Value</th>\n",
       "      <th>DateDiff</th>\n",
       "      <th>Extracted Interaction Text</th>\n",
       "      <th>Ordered_Agent</th>\n",
       "      <th>Ordered_Product</th>\n",
       "      <th>Deal_Closepred</th>\n",
       "      <th>Close_pred</th>\n",
       "    </tr>\n",
       "  </thead>\n",
       "  <tbody>\n",
       "    <tr>\n",
       "      <th>47</th>\n",
       "      <td>1054</td>\n",
       "      <td>249</td>\n",
       "      <td>receiving letter proposal initially decided ac...</td>\n",
       "      <td>22</td>\n",
       "      <td>1</td>\n",
       "      <td>1</td>\n",
       "      <td>3380.947611</td>\n",
       "    </tr>\n",
       "    <tr>\n",
       "      <th>1561</th>\n",
       "      <td>2000</td>\n",
       "      <td>208</td>\n",
       "      <td>regret must cancel appointment discuss athleti...</td>\n",
       "      <td>28</td>\n",
       "      <td>1</td>\n",
       "      <td>1</td>\n",
       "      <td>3380.947611</td>\n",
       "    </tr>\n",
       "    <tr>\n",
       "      <th>2828</th>\n",
       "      <td>487</td>\n",
       "      <td>29</td>\n",
       "      <td>pleased inform accepted business proposal sent...</td>\n",
       "      <td>20</td>\n",
       "      <td>1</td>\n",
       "      <td>1</td>\n",
       "      <td>3360.046684</td>\n",
       "    </tr>\n",
       "    <tr>\n",
       "      <th>3170</th>\n",
       "      <td>1180</td>\n",
       "      <td>45</td>\n",
       "      <td>enjoyed presentation proposed change employee ...</td>\n",
       "      <td>16</td>\n",
       "      <td>4</td>\n",
       "      <td>1</td>\n",
       "      <td>705.162146</td>\n",
       "    </tr>\n",
       "    <tr>\n",
       "      <th>4258</th>\n",
       "      <td>561</td>\n",
       "      <td>178</td>\n",
       "      <td>unfortunately home office unwilling consider n...</td>\n",
       "      <td>23</td>\n",
       "      <td>2</td>\n",
       "      <td>1</td>\n",
       "      <td>1214.940722</td>\n",
       "    </tr>\n",
       "  </tbody>\n",
       "</table>\n",
       "</div>"
      ],
      "text/plain": [
       "      Close_Value  DateDiff  \\\n",
       "47           1054       249   \n",
       "1561         2000       208   \n",
       "2828          487        29   \n",
       "3170         1180        45   \n",
       "4258          561       178   \n",
       "\n",
       "                             Extracted Interaction Text  Ordered_Agent  \\\n",
       "47    receiving letter proposal initially decided ac...             22   \n",
       "1561  regret must cancel appointment discuss athleti...             28   \n",
       "2828  pleased inform accepted business proposal sent...             20   \n",
       "3170  enjoyed presentation proposed change employee ...             16   \n",
       "4258  unfortunately home office unwilling consider n...             23   \n",
       "\n",
       "      Ordered_Product  Deal_Closepred   Close_pred  \n",
       "47                  1               1  3380.947611  \n",
       "1561                1               1  3380.947611  \n",
       "2828                1               1  3360.046684  \n",
       "3170                4               1   705.162146  \n",
       "4258                2               1  1214.940722  "
      ]
     },
     "execution_count": 123,
     "metadata": {},
     "output_type": "execute_result"
    }
   ],
   "source": [
    "year = df1[(df1['DateDiff'] <= 365)]\n",
    "year.head()"
   ]
  },
  {
   "cell_type": "code",
   "execution_count": null,
   "metadata": {},
   "outputs": [],
   "source": []
  },
  {
   "cell_type": "code",
   "execution_count": 124,
   "metadata": {},
   "outputs": [
    {
     "name": "stdout",
     "output_type": "stream",
     "text": [
      "992618.7853325543\n"
     ]
    }
   ],
   "source": [
    "forecast_quarter = (sum(year[year['Deal_Closepred'] == 1]['Close_pred']))\n",
    "print(forecast_quarter)"
   ]
  },
  {
   "cell_type": "code",
   "execution_count": null,
   "metadata": {},
   "outputs": [],
   "source": []
  },
  {
   "cell_type": "markdown",
   "metadata": {},
   "source": [
    "## Results"
   ]
  },
  {
   "cell_type": "markdown",
   "metadata": {},
   "source": [
    "### 1. For all the values in the dataset, we predicted that 686 deals would be won and 149 deals would be lost.\n",
    "\n",
    "##### 2. We then made the predictions of sales for 30 days, 60 days, 365 days"
   ]
  },
  {
   "cell_type": "markdown",
   "metadata": {},
   "source": [
    "#### 1. For the first month we will make a predicted sales of Rs. 105352.10499\n",
    "\n",
    "#### 2. For the first quarter we will make a predicted sales of Rs. 326307.29196\n",
    "\n",
    "#### 3. For the entire year we make predicted sales of Rs. 992618.78533"
   ]
  },
  {
   "cell_type": "code",
   "execution_count": null,
   "metadata": {},
   "outputs": [],
   "source": []
  }
 ],
 "metadata": {
  "kernelspec": {
   "display_name": "Python 3",
   "language": "python",
   "name": "python3"
  },
  "language_info": {
   "codemirror_mode": {
    "name": "ipython",
    "version": 3
   },
   "file_extension": ".py",
   "mimetype": "text/x-python",
   "name": "python",
   "nbconvert_exporter": "python",
   "pygments_lexer": "ipython3",
   "version": "3.7.3"
  }
 },
 "nbformat": 4,
 "nbformat_minor": 2
}

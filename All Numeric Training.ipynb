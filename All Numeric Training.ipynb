{
 "cells": [
  {
   "cell_type": "markdown",
   "metadata": {},
   "source": [
    "In this notebook i will build a model which predicts the close_value and 'DateDiff' for the dataset.\n",
    "\n",
    "I have used Random Forests and Gradient Boosting, Regression , SVR for making the predictions"
   ]
  },
  {
   "cell_type": "code",
   "execution_count": 1,
   "metadata": {},
   "outputs": [],
   "source": [
    "import pandas as pd\n",
    "import numpy as np\n",
    "import matplotlib.pyplot as plt\n",
    "import seaborn as sns"
   ]
  },
  {
   "cell_type": "code",
   "execution_count": 37,
   "metadata": {},
   "outputs": [
    {
     "data": {
      "text/html": [
       "<div>\n",
       "<style scoped>\n",
       "    .dataframe tbody tr th:only-of-type {\n",
       "        vertical-align: middle;\n",
       "    }\n",
       "\n",
       "    .dataframe tbody tr th {\n",
       "        vertical-align: top;\n",
       "    }\n",
       "\n",
       "    .dataframe thead th {\n",
       "        text-align: right;\n",
       "    }\n",
       "</style>\n",
       "<table border=\"1\" class=\"dataframe\">\n",
       "  <thead>\n",
       "    <tr style=\"text-align: right;\">\n",
       "      <th></th>\n",
       "      <th>Account</th>\n",
       "      <th>Opportunity_ID</th>\n",
       "      <th>Sales_Agent</th>\n",
       "      <th>SalesAgentEmailID</th>\n",
       "      <th>ContactEmailID</th>\n",
       "      <th>Deal_Stage</th>\n",
       "      <th>Product</th>\n",
       "      <th>Close_Value</th>\n",
       "      <th>Created Date</th>\n",
       "      <th>Close Date</th>\n",
       "      <th>DateDiff</th>\n",
       "      <th>Ordered_Product</th>\n",
       "      <th>Ordered_Agent</th>\n",
       "    </tr>\n",
       "  </thead>\n",
       "  <tbody>\n",
       "    <tr>\n",
       "      <th>0</th>\n",
       "      <td>Konex</td>\n",
       "      <td>3KR50X38</td>\n",
       "      <td>Corliss Cosme</td>\n",
       "      <td>corliss@piedpiper.com</td>\n",
       "      <td>delila@konex.com</td>\n",
       "      <td>1</td>\n",
       "      <td>GTX Plus Basic</td>\n",
       "      <td>1255</td>\n",
       "      <td>2016-01-04</td>\n",
       "      <td>2016-05-24</td>\n",
       "      <td>141</td>\n",
       "      <td>2</td>\n",
       "      <td>21</td>\n",
       "    </tr>\n",
       "    <tr>\n",
       "      <th>1</th>\n",
       "      <td>Finjob</td>\n",
       "      <td>YFS5KLJJ</td>\n",
       "      <td>Rosalina Dieter</td>\n",
       "      <td>rosalina@piedpiper.com</td>\n",
       "      <td>belinda@finjob.com</td>\n",
       "      <td>1</td>\n",
       "      <td>MG Special</td>\n",
       "      <td>45</td>\n",
       "      <td>2016-01-04</td>\n",
       "      <td>2016-11-02</td>\n",
       "      <td>303</td>\n",
       "      <td>6</td>\n",
       "      <td>20</td>\n",
       "    </tr>\n",
       "    <tr>\n",
       "      <th>2</th>\n",
       "      <td>Kinnamplus</td>\n",
       "      <td>N0ONCYVZ</td>\n",
       "      <td>Donn Cantrell</td>\n",
       "      <td>donn@piedpiper.com</td>\n",
       "      <td>monte@kinnamplus.com</td>\n",
       "      <td>0</td>\n",
       "      <td>MG Special</td>\n",
       "      <td>1054</td>\n",
       "      <td>2016-01-06</td>\n",
       "      <td>2016-12-07</td>\n",
       "      <td>336</td>\n",
       "      <td>6</td>\n",
       "      <td>2</td>\n",
       "    </tr>\n",
       "    <tr>\n",
       "      <th>4</th>\n",
       "      <td>Initech</td>\n",
       "      <td>G8AO5FA2</td>\n",
       "      <td>Wilburn Farren</td>\n",
       "      <td>wilburn@piedpiper.com</td>\n",
       "      <td>alejandro@initech.com</td>\n",
       "      <td>0</td>\n",
       "      <td>MG Advanced</td>\n",
       "      <td>517</td>\n",
       "      <td>2016-01-06</td>\n",
       "      <td>2016-09-18</td>\n",
       "      <td>256</td>\n",
       "      <td>1</td>\n",
       "      <td>27</td>\n",
       "    </tr>\n",
       "    <tr>\n",
       "      <th>5</th>\n",
       "      <td>Stanredtax</td>\n",
       "      <td>2V848WZD</td>\n",
       "      <td>Lajuana Vencill</td>\n",
       "      <td>lajuana@piedpiper.com</td>\n",
       "      <td>candice@stanredtax.com</td>\n",
       "      <td>1</td>\n",
       "      <td>MG Advanced</td>\n",
       "      <td>3180</td>\n",
       "      <td>2016-01-07</td>\n",
       "      <td>2016-01-31</td>\n",
       "      <td>24</td>\n",
       "      <td>1</td>\n",
       "      <td>0</td>\n",
       "    </tr>\n",
       "  </tbody>\n",
       "</table>\n",
       "</div>"
      ],
      "text/plain": [
       "      Account Opportunity_ID      Sales_Agent       SalesAgentEmailID  \\\n",
       "0       Konex       3KR50X38    Corliss Cosme   corliss@piedpiper.com   \n",
       "1      Finjob       YFS5KLJJ  Rosalina Dieter  rosalina@piedpiper.com   \n",
       "2  Kinnamplus       N0ONCYVZ    Donn Cantrell      donn@piedpiper.com   \n",
       "4     Initech       G8AO5FA2   Wilburn Farren   wilburn@piedpiper.com   \n",
       "5  Stanredtax       2V848WZD  Lajuana Vencill   lajuana@piedpiper.com   \n",
       "\n",
       "           ContactEmailID  Deal_Stage         Product  Close_Value  \\\n",
       "0        delila@konex.com           1  GTX Plus Basic         1255   \n",
       "1      belinda@finjob.com           1      MG Special           45   \n",
       "2    monte@kinnamplus.com           0      MG Special         1054   \n",
       "4   alejandro@initech.com           0     MG Advanced          517   \n",
       "5  candice@stanredtax.com           1     MG Advanced         3180   \n",
       "\n",
       "  Created Date  Close Date  DateDiff  Ordered_Product  Ordered_Agent  \n",
       "0   2016-01-04  2016-05-24       141                2             21  \n",
       "1   2016-01-04  2016-11-02       303                6             20  \n",
       "2   2016-01-06  2016-12-07       336                6              2  \n",
       "4   2016-01-06  2016-09-18       256                1             27  \n",
       "5   2016-01-07  2016-01-31        24                1              0  "
      ]
     },
     "execution_count": 37,
     "metadata": {},
     "output_type": "execute_result"
    }
   ],
   "source": [
    "df = pd.read_csv('sales.csv', index_col=0)\n",
    "df.head()"
   ]
  },
  {
   "cell_type": "code",
   "execution_count": 146,
   "metadata": {},
   "outputs": [
    {
     "data": {
      "text/plain": [
       "(6711, 13)"
      ]
     },
     "execution_count": 146,
     "metadata": {},
     "output_type": "execute_result"
    }
   ],
   "source": [
    "df.shape"
   ]
  },
  {
   "cell_type": "code",
   "execution_count": 38,
   "metadata": {},
   "outputs": [],
   "source": [
    "msk = np.random.rand(len(df)) < 0.70\n",
    "\n",
    "train = df[msk]\n",
    "test = df[~msk]"
   ]
  },
  {
   "cell_type": "code",
   "execution_count": 39,
   "metadata": {},
   "outputs": [],
   "source": [
    "X = df[['Deal_Stage','DateDiff', 'Ordered_Product','Ordered_Agent']]\n",
    "y = df['Close_Value']"
   ]
  },
  {
   "cell_type": "code",
   "execution_count": 40,
   "metadata": {},
   "outputs": [
    {
     "data": {
      "text/html": [
       "<div>\n",
       "<style scoped>\n",
       "    .dataframe tbody tr th:only-of-type {\n",
       "        vertical-align: middle;\n",
       "    }\n",
       "\n",
       "    .dataframe tbody tr th {\n",
       "        vertical-align: top;\n",
       "    }\n",
       "\n",
       "    .dataframe thead th {\n",
       "        text-align: right;\n",
       "    }\n",
       "</style>\n",
       "<table border=\"1\" class=\"dataframe\">\n",
       "  <thead>\n",
       "    <tr style=\"text-align: right;\">\n",
       "      <th></th>\n",
       "      <th>Deal_Stage</th>\n",
       "      <th>DateDiff</th>\n",
       "      <th>Ordered_Product</th>\n",
       "      <th>Ordered_Agent</th>\n",
       "    </tr>\n",
       "  </thead>\n",
       "  <tbody>\n",
       "    <tr>\n",
       "      <th>0</th>\n",
       "      <td>1</td>\n",
       "      <td>141</td>\n",
       "      <td>2</td>\n",
       "      <td>21</td>\n",
       "    </tr>\n",
       "    <tr>\n",
       "      <th>1</th>\n",
       "      <td>1</td>\n",
       "      <td>303</td>\n",
       "      <td>6</td>\n",
       "      <td>20</td>\n",
       "    </tr>\n",
       "    <tr>\n",
       "      <th>2</th>\n",
       "      <td>0</td>\n",
       "      <td>336</td>\n",
       "      <td>6</td>\n",
       "      <td>2</td>\n",
       "    </tr>\n",
       "    <tr>\n",
       "      <th>4</th>\n",
       "      <td>0</td>\n",
       "      <td>256</td>\n",
       "      <td>1</td>\n",
       "      <td>27</td>\n",
       "    </tr>\n",
       "    <tr>\n",
       "      <th>5</th>\n",
       "      <td>1</td>\n",
       "      <td>24</td>\n",
       "      <td>1</td>\n",
       "      <td>0</td>\n",
       "    </tr>\n",
       "  </tbody>\n",
       "</table>\n",
       "</div>"
      ],
      "text/plain": [
       "   Deal_Stage  DateDiff  Ordered_Product  Ordered_Agent\n",
       "0           1       141                2             21\n",
       "1           1       303                6             20\n",
       "2           0       336                6              2\n",
       "4           0       256                1             27\n",
       "5           1        24                1              0"
      ]
     },
     "execution_count": 40,
     "metadata": {},
     "output_type": "execute_result"
    }
   ],
   "source": [
    "X.head()"
   ]
  },
  {
   "cell_type": "code",
   "execution_count": 41,
   "metadata": {},
   "outputs": [],
   "source": [
    "from sklearn.preprocessing import RobustScaler\n",
    "\n",
    "from sklearn.metrics import roc_auc_score\n",
    "from sklearn.model_selection import train_test_split"
   ]
  },
  {
   "cell_type": "code",
   "execution_count": 42,
   "metadata": {},
   "outputs": [
    {
     "data": {
      "text/plain": [
       "((4697, 4), (2014, 4))"
      ]
     },
     "execution_count": 42,
     "metadata": {},
     "output_type": "execute_result"
    }
   ],
   "source": [
    "# let's separate into training and testing set\n",
    "X_train, X_test, y_train, y_test = train_test_split(X, y, test_size=0.3,\n",
    "                                                    random_state=0,shuffle=True)\n",
    "X_train.shape, X_test.shape"
   ]
  },
  {
   "cell_type": "code",
   "execution_count": 43,
   "metadata": {},
   "outputs": [],
   "source": [
    "scaler = RobustScaler() # call the object\n",
    "X_train_scaled = scaler.fit_transform(X_train) # fit the scaler to the train set, and then scale it\n",
    "X_test_scaled = scaler.transform(X_test) # scale the test set"
   ]
  },
  {
   "cell_type": "code",
   "execution_count": 183,
   "metadata": {},
   "outputs": [
    {
     "data": {
      "text/plain": [
       "Index(['Deal_Stage', 'Close_Value', 'Ordered_Product', 'Ordered_Agent'], dtype='object')"
      ]
     },
     "execution_count": 183,
     "metadata": {},
     "output_type": "execute_result"
    }
   ],
   "source": [
    "X_train.columns"
   ]
  },
  {
   "cell_type": "code",
   "execution_count": 11,
   "metadata": {},
   "outputs": [],
   "source": [
    "# Algorithm 1 Ridge Regression"
   ]
  },
  {
   "cell_type": "code",
   "execution_count": 44,
   "metadata": {},
   "outputs": [],
   "source": [
    "from sklearn.linear_model import Ridge, Lasso\n",
    "# example of grid searching key hyperparametres for logistic regression\n",
    "from sklearn.model_selection import RepeatedStratifiedKFold\n",
    "from sklearn.model_selection import GridSearchCV\n",
    "from sklearn.metrics import mean_squared_error, r2_score"
   ]
  },
  {
   "cell_type": "code",
   "execution_count": 45,
   "metadata": {},
   "outputs": [
    {
     "name": "stdout",
     "output_type": "stream",
     "text": [
      "Ridge(alpha=1, copy_X=True, fit_intercept=True, max_iter=None, normalize=False,\n",
      "      random_state=None, solver='auto', tol=0.001)\n"
     ]
    }
   ],
   "source": [
    "parameters = {'alpha':[1, 10]}\n",
    "\n",
    "# define the model/ estimator\n",
    "model = Ridge()\n",
    "\n",
    "# define the grid search\n",
    "Ridge_reg= GridSearchCV(model, parameters, scoring='neg_mean_squared_error',cv=5)\n",
    "\n",
    "#fit the grid search\n",
    "Ridge_reg.fit(X_train_scaled,y_train)\n",
    "\n",
    "# best estimator\n",
    "print(Ridge_reg.best_estimator_)"
   ]
  },
  {
   "cell_type": "code",
   "execution_count": 46,
   "metadata": {},
   "outputs": [
    {
     "data": {
      "text/plain": [
       "Ridge(alpha=1, copy_X=True, fit_intercept=True, max_iter=None, normalize=False,\n",
       "      random_state=None, solver='auto', tol=0.001)"
      ]
     },
     "execution_count": 46,
     "metadata": {},
     "output_type": "execute_result"
    }
   ],
   "source": [
    "best_model = Ridge_reg.best_estimator_\n",
    "best_model.fit(X_train_scaled,y_train)"
   ]
  },
  {
   "cell_type": "code",
   "execution_count": 47,
   "metadata": {},
   "outputs": [],
   "source": [
    "y_pred = best_model.predict(X_test_scaled)"
   ]
  },
  {
   "cell_type": "code",
   "execution_count": 48,
   "metadata": {},
   "outputs": [
    {
     "name": "stdout",
     "output_type": "stream",
     "text": [
      "2181.2680381450295\n"
     ]
    }
   ],
   "source": [
    "print(np.sqrt(mean_squared_error(y_test, y_pred)))"
   ]
  },
  {
   "cell_type": "code",
   "execution_count": null,
   "metadata": {},
   "outputs": [],
   "source": []
  },
  {
   "cell_type": "code",
   "execution_count": 49,
   "metadata": {},
   "outputs": [
    {
     "name": "stdout",
     "output_type": "stream",
     "text": [
      "Lasso(alpha=1, copy_X=True, fit_intercept=True, max_iter=1000, normalize=False,\n",
      "      positive=False, precompute=False, random_state=None, selection='cyclic',\n",
      "      tol=0.0001, warm_start=False)\n"
     ]
    }
   ],
   "source": [
    "parameters = {'alpha':[1, 10, 5,2,3]}\n",
    "\n",
    "# define the model/ estimator\n",
    "model = Lasso()\n",
    "\n",
    "# define the grid search\n",
    "Lasso_reg= GridSearchCV(model, parameters, scoring='neg_mean_squared_error',cv=5)\n",
    "\n",
    "#fit the grid search\n",
    "Lasso_reg.fit(X_train_scaled,y_train)\n",
    "\n",
    "# best estimator\n",
    "print(Lasso_reg.best_estimator_)"
   ]
  },
  {
   "cell_type": "code",
   "execution_count": 50,
   "metadata": {},
   "outputs": [
    {
     "data": {
      "text/plain": [
       "Lasso(alpha=1, copy_X=True, fit_intercept=True, max_iter=1000, normalize=False,\n",
       "      positive=False, precompute=False, random_state=None, selection='cyclic',\n",
       "      tol=0.0001, warm_start=False)"
      ]
     },
     "execution_count": 50,
     "metadata": {},
     "output_type": "execute_result"
    }
   ],
   "source": [
    "best_model = Lasso_reg.best_estimator_\n",
    "best_model.fit(X_train_scaled,y_train)"
   ]
  },
  {
   "cell_type": "code",
   "execution_count": 51,
   "metadata": {},
   "outputs": [
    {
     "name": "stdout",
     "output_type": "stream",
     "text": [
      "2181.1148567076916\n"
     ]
    }
   ],
   "source": [
    "y_pred = best_model.predict(X_test_scaled)\n",
    "print(np.sqrt(mean_squared_error(y_test, y_pred)))"
   ]
  },
  {
   "cell_type": "code",
   "execution_count": 26,
   "metadata": {},
   "outputs": [],
   "source": [
    "# Random Forest Regression"
   ]
  },
  {
   "cell_type": "code",
   "execution_count": 52,
   "metadata": {},
   "outputs": [],
   "source": [
    "from sklearn.ensemble import RandomForestRegressor"
   ]
  },
  {
   "cell_type": "code",
   "execution_count": 54,
   "metadata": {},
   "outputs": [
    {
     "name": "stdout",
     "output_type": "stream",
     "text": [
      "Fitting 3 folds for each of 100 candidates, totalling 300 fits\n"
     ]
    },
    {
     "name": "stderr",
     "output_type": "stream",
     "text": [
      "[Parallel(n_jobs=-1)]: Using backend LokyBackend with 4 concurrent workers.\n",
      "[Parallel(n_jobs=-1)]: Done  42 tasks      | elapsed:   29.6s\n",
      "[Parallel(n_jobs=-1)]: Done 192 tasks      | elapsed:  2.0min\n",
      "[Parallel(n_jobs=-1)]: Done 300 out of 300 | elapsed:  3.3min finished\n"
     ]
    }
   ],
   "source": [
    "rf1 = RandomForestRegressor()\n",
    "\n",
    "n_estimators = [200, 300, 500, 400, 100]\n",
    "max_depth = [4,6,5, 7,8]\n",
    "min_samples_split = [6,8,9,7]\n",
    "\n",
    "hyperF = dict(n_estimators = n_estimators, max_depth = max_depth,  \n",
    "              min_samples_split = min_samples_split)\n",
    "\n",
    "gridF = GridSearchCV(rf1, hyperF, cv = 3, verbose = 1, scoring='neg_mean_squared_error',\n",
    "                      n_jobs = -1)\n",
    "bestF = gridF.fit(X_train_scaled, y_train)"
   ]
  },
  {
   "cell_type": "code",
   "execution_count": 55,
   "metadata": {},
   "outputs": [
    {
     "name": "stdout",
     "output_type": "stream",
     "text": [
      "Best: -1063238.192297 using {'max_depth': 7, 'min_samples_split': 6, 'n_estimators': 100}\n"
     ]
    }
   ],
   "source": [
    "# summarize results\n",
    "print(\"Best: %f using %s\" % (bestF.best_score_, bestF.best_params_))"
   ]
  },
  {
   "cell_type": "code",
   "execution_count": 56,
   "metadata": {},
   "outputs": [],
   "source": [
    "rf_best = RandomForestRegressor(max_depth= 7, min_samples_split= 6, n_estimators= 100, min_samples_leaf=3, max_features='sqrt')"
   ]
  },
  {
   "cell_type": "code",
   "execution_count": 57,
   "metadata": {},
   "outputs": [
    {
     "name": "stdout",
     "output_type": "stream",
     "text": [
      "1415.2333785310432\n",
      "Accuracy of our model is:  0.6140729806850534\n"
     ]
    }
   ],
   "source": [
    "rf_best.fit(X_train_scaled, y_train)\n",
    "y_pred = rf_best.predict(X_test_scaled)\n",
    "\n",
    "print(np.sqrt(mean_squared_error(y_test, y_pred)))\n",
    "print('Accuracy of our model is: ', r2_score(y_test, y_pred))"
   ]
  },
  {
   "cell_type": "code",
   "execution_count": null,
   "metadata": {},
   "outputs": [],
   "source": []
  },
  {
   "cell_type": "code",
   "execution_count": 33,
   "metadata": {},
   "outputs": [],
   "source": [
    "from sklearn.neighbors import KNeighborsRegressor"
   ]
  },
  {
   "cell_type": "code",
   "execution_count": 61,
   "metadata": {},
   "outputs": [
    {
     "name": "stdout",
     "output_type": "stream",
     "text": [
      "Minimum error:- 1419.0300006958541 at K = 1\n"
     ]
    },
    {
     "data": {
      "image/png": "[encoded data removed]",
      "text/plain": [
       "<Figure size 720x432 with 1 Axes>"
      ]
     },
     "metadata": {
      "needs_background": "light"
     },
     "output_type": "display_data"
    }
   ],
   "source": [
    "Ks = 25\n",
    "error_rate = []\n",
    "# Will take some time\n",
    "for i in range(1,25):\n",
    "    #print(i)\n",
    "    knn = KNeighborsRegressor(n_neighbors=i)\n",
    "    knn.fit(X_train_scaled, y_train)\n",
    "    pred_i = knn.predict(X_test_scaled)\n",
    "    error_rate.append(np.sqrt(mean_squared_error(y_test, pred_i)))\n",
    "\n",
    "plt.figure(figsize=(10,6))\n",
    "plt.plot(range(1,25),error_rate,color='blue', linestyle='dashed', marker='o',markerfacecolor='red', markersize=10)\n",
    "plt.title('Error Rate vs. K Value')\n",
    "plt.xlabel('K')\n",
    "plt.ylabel('Error Rate')\n",
    "\n",
    "print(\"Minimum error:-\",min(error_rate),\"at K =\",error_rate.index(min(error_rate)))"
   ]
  },
  {
   "cell_type": "code",
   "execution_count": 53,
   "metadata": {},
   "outputs": [
    {
     "data": {
      "text/plain": [
       "(4697, 4)"
      ]
     },
     "execution_count": 53,
     "metadata": {},
     "output_type": "execute_result"
    }
   ],
   "source": [
    "X_train_scaled.shape"
   ]
  },
  {
   "cell_type": "code",
   "execution_count": 62,
   "metadata": {
    "collapsed": true
   },
   "outputs": [
    {
     "name": "stdout",
     "output_type": "stream",
     "text": [
      "Fitting 3 folds for each of 30 candidates, totalling 90 fits\n",
      "[CV] C=5, gamma=0.1, kernel=rbf ......................................\n"
     ]
    },
    {
     "name": "stderr",
     "output_type": "stream",
     "text": [
      "[Parallel(n_jobs=1)]: Using backend SequentialBackend with 1 concurrent workers.\n"
     ]
    },
    {
     "name": "stdout",
     "output_type": "stream",
     "text": [
      "[CV] ... C=5, gamma=0.1, kernel=rbf, score=-5895955.135, total=   0.6s\n",
      "[CV] C=5, gamma=0.1, kernel=rbf ......................................\n"
     ]
    },
    {
     "name": "stderr",
     "output_type": "stream",
     "text": [
      "[Parallel(n_jobs=1)]: Done   1 out of   1 | elapsed:    0.5s remaining:    0.0s\n"
     ]
    },
    {
     "name": "stdout",
     "output_type": "stream",
     "text": [
      "[CV] ... C=5, gamma=0.1, kernel=rbf, score=-5488419.138, total=   0.6s\n",
      "[CV] C=5, gamma=0.1, kernel=rbf ......................................\n"
     ]
    },
    {
     "name": "stderr",
     "output_type": "stream",
     "text": [
      "[Parallel(n_jobs=1)]: Done   2 out of   2 | elapsed:    1.0s remaining:    0.0s\n"
     ]
    },
    {
     "name": "stdout",
     "output_type": "stream",
     "text": [
      "[CV] ... C=5, gamma=0.1, kernel=rbf, score=-7664309.808, total=   0.5s\n",
      "[CV] C=5, gamma=0.1, kernel=poly .....................................\n",
      "[CV] .. C=5, gamma=0.1, kernel=poly, score=-5805819.320, total=   0.3s\n",
      "[CV] C=5, gamma=0.1, kernel=poly .....................................\n",
      "[CV] .. C=5, gamma=0.1, kernel=poly, score=-5369294.952, total=   0.4s\n",
      "[CV] C=5, gamma=0.1, kernel=poly .....................................\n",
      "[CV] .. C=5, gamma=0.1, kernel=poly, score=-7495400.362, total=   0.3s\n",
      "[CV] C=5, gamma=0.01, kernel=rbf .....................................\n",
      "[CV] .. C=5, gamma=0.01, kernel=rbf, score=-5779254.008, total=   0.8s\n",
      "[CV] C=5, gamma=0.01, kernel=rbf .....................................\n",
      "[CV] .. C=5, gamma=0.01, kernel=rbf, score=-5355824.096, total=   0.5s\n",
      "[CV] C=5, gamma=0.01, kernel=rbf .....................................\n",
      "[CV] .. C=5, gamma=0.01, kernel=rbf, score=-7505502.582, total=   0.6s\n",
      "[CV] C=5, gamma=0.01, kernel=poly ....................................\n",
      "[CV] . C=5, gamma=0.01, kernel=poly, score=-5809991.985, total=   0.3s\n",
      "[CV] C=5, gamma=0.01, kernel=poly ....................................\n",
      "[CV] . C=5, gamma=0.01, kernel=poly, score=-5370089.075, total=   0.3s\n",
      "[CV] C=5, gamma=0.01, kernel=poly ....................................\n",
      "[CV] . C=5, gamma=0.01, kernel=poly, score=-7508148.982, total=   0.4s\n",
      "[CV] C=5, gamma=0.001, kernel=rbf ....................................\n",
      "[CV] . C=5, gamma=0.001, kernel=rbf, score=-5808159.111, total=   0.5s\n",
      "[CV] C=5, gamma=0.001, kernel=rbf ....................................\n",
      "[CV] . C=5, gamma=0.001, kernel=rbf, score=-5372188.042, total=   0.5s\n",
      "[CV] C=5, gamma=0.001, kernel=rbf ....................................\n",
      "[CV] . C=5, gamma=0.001, kernel=rbf, score=-7492782.014, total=   0.5s\n",
      "[CV] C=5, gamma=0.001, kernel=poly ...................................\n",
      "[CV]  C=5, gamma=0.001, kernel=poly, score=-5809978.769, total=   0.3s\n",
      "[CV] C=5, gamma=0.001, kernel=poly ...................................\n",
      "[CV]  C=5, gamma=0.001, kernel=poly, score=-5370091.402, total=   0.4s\n",
      "[CV] C=5, gamma=0.001, kernel=poly ...................................\n",
      "[CV]  C=5, gamma=0.001, kernel=poly, score=-7508164.059, total=   0.3s\n",
      "[CV] C=10, gamma=0.1, kernel=rbf .....................................\n",
      "[CV] .. C=10, gamma=0.1, kernel=rbf, score=-5969022.972, total=   0.5s\n",
      "[CV] C=10, gamma=0.1, kernel=rbf .....................................\n",
      "[CV] .. C=10, gamma=0.1, kernel=rbf, score=-5573257.428, total=   0.5s\n",
      "[CV] C=10, gamma=0.1, kernel=rbf .....................................\n",
      "[CV] .. C=10, gamma=0.1, kernel=rbf, score=-7766035.464, total=   0.5s\n",
      "[CV] C=10, gamma=0.1, kernel=poly ....................................\n",
      "[CV] . C=10, gamma=0.1, kernel=poly, score=-5799581.714, total=   0.4s\n",
      "[CV] C=10, gamma=0.1, kernel=poly ....................................\n",
      "[CV] . C=10, gamma=0.1, kernel=poly, score=-5364111.783, total=   0.3s\n",
      "[CV] C=10, gamma=0.1, kernel=poly ....................................\n",
      "[CV] . C=10, gamma=0.1, kernel=poly, score=-7488994.604, total=   0.3s\n",
      "[CV] C=10, gamma=0.01, kernel=rbf ....................................\n",
      "[CV] . C=10, gamma=0.01, kernel=rbf, score=-5787732.948, total=   0.6s\n",
      "[CV] C=10, gamma=0.01, kernel=rbf ....................................\n",
      "[CV] . C=10, gamma=0.01, kernel=rbf, score=-5362013.236, total=   0.7s\n",
      "[CV] C=10, gamma=0.01, kernel=rbf ....................................\n",
      "[CV] . C=10, gamma=0.01, kernel=rbf, score=-7517399.959, total=   0.6s\n",
      "[CV] C=10, gamma=0.01, kernel=poly ...................................\n",
      "[CV]  C=10, gamma=0.01, kernel=poly, score=-5810005.215, total=   0.4s\n",
      "[CV] C=10, gamma=0.01, kernel=poly ...................................\n",
      "[CV]  C=10, gamma=0.01, kernel=poly, score=-5370086.745, total=   0.3s\n",
      "[CV] C=10, gamma=0.01, kernel=poly ...................................\n",
      "[CV]  C=10, gamma=0.01, kernel=poly, score=-7508133.890, total=   0.6s\n",
      "[CV] C=10, gamma=0.001, kernel=rbf ...................................\n",
      "[CV]  C=10, gamma=0.001, kernel=rbf, score=-5800306.090, total=   0.8s\n",
      "[CV] C=10, gamma=0.001, kernel=rbf ...................................\n",
      "[CV]  C=10, gamma=0.001, kernel=rbf, score=-5368280.112, total=   0.8s\n",
      "[CV] C=10, gamma=0.001, kernel=rbf ...................................\n",
      "[CV]  C=10, gamma=0.001, kernel=rbf, score=-7487313.309, total=   0.7s\n",
      "[CV] C=10, gamma=0.001, kernel=poly ..................................\n",
      "[CV]  C=10, gamma=0.001, kernel=poly, score=-5809978.782, total=   0.4s\n",
      "[CV] C=10, gamma=0.001, kernel=poly ..................................\n",
      "[CV]  C=10, gamma=0.001, kernel=poly, score=-5370091.399, total=   0.3s\n",
      "[CV] C=10, gamma=0.001, kernel=poly ..................................\n",
      "[CV]  C=10, gamma=0.001, kernel=poly, score=-7508164.043, total=   0.3s\n",
      "[CV] C=100, gamma=0.1, kernel=rbf ....................................\n",
      "[CV] . C=100, gamma=0.1, kernel=rbf, score=-5770241.568, total=   0.5s\n",
      "[CV] C=100, gamma=0.1, kernel=rbf ....................................\n",
      "[CV] . C=100, gamma=0.1, kernel=rbf, score=-5033688.426, total=   0.6s\n",
      "[CV] C=100, gamma=0.1, kernel=rbf ....................................\n",
      "[CV] . C=100, gamma=0.1, kernel=rbf, score=-7410751.879, total=   0.5s\n",
      "[CV] C=100, gamma=0.1, kernel=poly ...................................\n",
      "[CV]  C=100, gamma=0.1, kernel=poly, score=-5752633.895, total=   0.5s\n",
      "[CV] C=100, gamma=0.1, kernel=poly ...................................\n",
      "[CV]  C=100, gamma=0.1, kernel=poly, score=-5316886.250, total=   0.4s\n",
      "[CV] C=100, gamma=0.1, kernel=poly ...................................\n",
      "[CV]  C=100, gamma=0.1, kernel=poly, score=-7490951.694, total=   0.5s\n",
      "[CV] C=100, gamma=0.01, kernel=rbf ...................................\n",
      "[CV]  C=100, gamma=0.01, kernel=rbf, score=-5988520.926, total=   0.7s\n",
      "[CV] C=100, gamma=0.01, kernel=rbf ...................................\n",
      "[CV]  C=100, gamma=0.01, kernel=rbf, score=-5578600.167, total=   0.5s\n",
      "[CV] C=100, gamma=0.01, kernel=rbf ...................................\n",
      "[CV]  C=100, gamma=0.01, kernel=rbf, score=-7794621.577, total=   0.5s\n",
      "[CV] C=100, gamma=0.01, kernel=poly ..................................\n",
      "[CV]  C=100, gamma=0.01, kernel=poly, score=-5810243.390, total=   0.3s\n",
      "[CV] C=100, gamma=0.01, kernel=poly ..................................\n",
      "[CV]  C=100, gamma=0.01, kernel=poly, score=-5370044.824, total=   0.4s\n",
      "[CV] C=100, gamma=0.01, kernel=poly ..................................\n",
      "[CV]  C=100, gamma=0.01, kernel=poly, score=-7507862.253, total=   0.3s\n",
      "[CV] C=100, gamma=0.001, kernel=rbf ..................................\n",
      "[CV]  C=100, gamma=0.001, kernel=rbf, score=-5787879.672, total=   0.6s\n",
      "[CV] C=100, gamma=0.001, kernel=rbf ..................................\n",
      "[CV]  C=100, gamma=0.001, kernel=rbf, score=-5363252.590, total=   0.6s\n",
      "[CV] C=100, gamma=0.001, kernel=rbf ..................................\n",
      "[CV]  C=100, gamma=0.001, kernel=rbf, score=-7520115.297, total=   0.6s\n",
      "[CV] C=100, gamma=0.001, kernel=poly .................................\n",
      "[CV]  C=100, gamma=0.001, kernel=poly, score=-5809979.020, total=   0.4s\n",
      "[CV] C=100, gamma=0.001, kernel=poly .................................\n",
      "[CV]  C=100, gamma=0.001, kernel=poly, score=-5370091.357, total=   0.5s\n",
      "[CV] C=100, gamma=0.001, kernel=poly .................................\n",
      "[CV]  C=100, gamma=0.001, kernel=poly, score=-7508163.772, total=   0.4s\n",
      "[CV] C=50, gamma=0.1, kernel=rbf .....................................\n",
      "[CV] .. C=50, gamma=0.1, kernel=rbf, score=-5969348.787, total=   0.6s\n",
      "[CV] C=50, gamma=0.1, kernel=rbf .....................................\n",
      "[CV] .. C=50, gamma=0.1, kernel=rbf, score=-5531031.832, total=   0.5s\n",
      "[CV] C=50, gamma=0.1, kernel=rbf .....................................\n",
      "[CV] .. C=50, gamma=0.1, kernel=rbf, score=-7688956.541, total=   0.6s\n",
      "[CV] C=50, gamma=0.1, kernel=poly ....................................\n",
      "[CV] . C=50, gamma=0.1, kernel=poly, score=-5764158.990, total=   0.3s\n",
      "[CV] C=50, gamma=0.1, kernel=poly ....................................\n",
      "[CV] . C=50, gamma=0.1, kernel=poly, score=-5333212.109, total=   0.4s\n",
      "[CV] C=50, gamma=0.1, kernel=poly ....................................\n",
      "[CV] . C=50, gamma=0.1, kernel=poly, score=-7473121.434, total=   0.4s\n",
      "[CV] C=50, gamma=0.01, kernel=rbf ....................................\n"
     ]
    },
    {
     "name": "stdout",
     "output_type": "stream",
     "text": [
      "[CV] . C=50, gamma=0.01, kernel=rbf, score=-5888324.374, total=   0.8s\n",
      "[CV] C=50, gamma=0.01, kernel=rbf ....................................\n",
      "[CV] . C=50, gamma=0.01, kernel=rbf, score=-5481532.514, total=   0.7s\n",
      "[CV] C=50, gamma=0.01, kernel=rbf ....................................\n",
      "[CV] . C=50, gamma=0.01, kernel=rbf, score=-7641314.918, total=   0.7s\n",
      "[CV] C=50, gamma=0.01, kernel=poly ...................................\n",
      "[CV]  C=50, gamma=0.01, kernel=poly, score=-5810111.061, total=   0.3s\n",
      "[CV] C=50, gamma=0.01, kernel=poly ...................................\n",
      "[CV]  C=50, gamma=0.01, kernel=poly, score=-5370068.112, total=   0.4s\n",
      "[CV] C=50, gamma=0.01, kernel=poly ...................................\n",
      "[CV]  C=50, gamma=0.01, kernel=poly, score=-7508013.160, total=   0.6s\n",
      "[CV] C=50, gamma=0.001, kernel=rbf ...................................\n",
      "[CV]  C=50, gamma=0.001, kernel=rbf, score=-5778530.801, total=   0.5s\n",
      "[CV] C=50, gamma=0.001, kernel=rbf ...................................\n",
      "[CV]  C=50, gamma=0.001, kernel=rbf, score=-5356111.433, total=   0.6s\n",
      "[CV] C=50, gamma=0.001, kernel=rbf ...................................\n",
      "[CV]  C=50, gamma=0.001, kernel=rbf, score=-7506525.214, total=   0.5s\n",
      "[CV] C=50, gamma=0.001, kernel=poly ..................................\n",
      "[CV]  C=50, gamma=0.001, kernel=poly, score=-5809978.888, total=   0.4s\n",
      "[CV] C=50, gamma=0.001, kernel=poly ..................................\n",
      "[CV]  C=50, gamma=0.001, kernel=poly, score=-5370091.381, total=   0.3s\n",
      "[CV] C=50, gamma=0.001, kernel=poly ..................................\n",
      "[CV]  C=50, gamma=0.001, kernel=poly, score=-7508163.923, total=   0.3s\n",
      "[CV] C=75, gamma=0.1, kernel=rbf .....................................\n",
      "[CV] .. C=75, gamma=0.1, kernel=rbf, score=-5871630.363, total=   0.6s\n",
      "[CV] C=75, gamma=0.1, kernel=rbf .....................................\n",
      "[CV] .. C=75, gamma=0.1, kernel=rbf, score=-5297811.153, total=   0.6s\n",
      "[CV] C=75, gamma=0.1, kernel=rbf .....................................\n",
      "[CV] .. C=75, gamma=0.1, kernel=rbf, score=-7553058.925, total=   0.7s\n",
      "[CV] C=75, gamma=0.1, kernel=poly ....................................\n",
      "[CV] . C=75, gamma=0.1, kernel=poly, score=-5759337.295, total=   0.4s\n",
      "[CV] C=75, gamma=0.1, kernel=poly ....................................\n",
      "[CV] . C=75, gamma=0.1, kernel=poly, score=-5325923.087, total=   0.7s\n",
      "[CV] C=75, gamma=0.1, kernel=poly ....................................\n",
      "[CV] . C=75, gamma=0.1, kernel=poly, score=-7474347.747, total=   0.7s\n",
      "[CV] C=75, gamma=0.01, kernel=rbf ....................................\n",
      "[CV] . C=75, gamma=0.01, kernel=rbf, score=-5935141.382, total=   0.5s\n",
      "[CV] C=75, gamma=0.01, kernel=rbf ....................................\n",
      "[CV] . C=75, gamma=0.01, kernel=rbf, score=-5521494.855, total=   0.6s\n",
      "[CV] C=75, gamma=0.01, kernel=rbf ....................................\n",
      "[CV] . C=75, gamma=0.01, kernel=rbf, score=-7716627.156, total=   0.6s\n",
      "[CV] C=75, gamma=0.01, kernel=poly ...................................\n",
      "[CV]  C=75, gamma=0.01, kernel=poly, score=-5810177.223, total=   0.4s\n",
      "[CV] C=75, gamma=0.01, kernel=poly ...................................\n",
      "[CV]  C=75, gamma=0.01, kernel=poly, score=-5370056.468, total=   0.4s\n",
      "[CV] C=75, gamma=0.01, kernel=poly ...................................\n",
      "[CV]  C=75, gamma=0.01, kernel=poly, score=-7507937.705, total=   0.4s\n",
      "[CV] C=75, gamma=0.001, kernel=rbf ...................................\n",
      "[CV]  C=75, gamma=0.001, kernel=rbf, score=-5786338.034, total=   0.6s\n",
      "[CV] C=75, gamma=0.001, kernel=rbf ...................................\n",
      "[CV]  C=75, gamma=0.001, kernel=rbf, score=-5361408.879, total=   0.5s\n",
      "[CV] C=75, gamma=0.001, kernel=rbf ...................................\n",
      "[CV]  C=75, gamma=0.001, kernel=rbf, score=-7506357.432, total=   0.5s\n",
      "[CV] C=75, gamma=0.001, kernel=poly ..................................\n",
      "[CV]  C=75, gamma=0.001, kernel=poly, score=-5809978.954, total=   0.3s\n",
      "[CV] C=75, gamma=0.001, kernel=poly ..................................\n",
      "[CV]  C=75, gamma=0.001, kernel=poly, score=-5370091.369, total=   0.3s\n",
      "[CV] C=75, gamma=0.001, kernel=poly ..................................\n",
      "[CV]  C=75, gamma=0.001, kernel=poly, score=-7508163.847, total=   0.4s\n"
     ]
    },
    {
     "name": "stderr",
     "output_type": "stream",
     "text": [
      "[Parallel(n_jobs=1)]: Done  90 out of  90 | elapsed:   44.1s finished\n"
     ]
    },
    {
     "data": {
      "text/plain": [
       "GridSearchCV(cv=3, error_score=nan,\n",
       "             estimator=SVR(C=1.0, cache_size=200, coef0=0.0, degree=3,\n",
       "                           epsilon=0.1, gamma='scale', kernel='rbf',\n",
       "                           max_iter=-1, shrinking=True, tol=0.001,\n",
       "                           verbose=False),\n",
       "             iid='deprecated', n_jobs=None,\n",
       "             param_grid={'C': [5, 10, 100, 50, 75], 'gamma': [0.1, 0.01, 0.001],\n",
       "                         'kernel': ['rbf', 'poly']},\n",
       "             pre_dispatch='2*n_jobs', refit=True, return_train_score=False,\n",
       "             scoring='neg_mean_squared_error', verbose=3)"
      ]
     },
     "execution_count": 62,
     "metadata": {},
     "output_type": "execute_result"
    }
   ],
   "source": [
    "from sklearn.svm import SVR \n",
    "\n",
    "from sklearn.model_selection import GridSearchCV \n",
    "\n",
    "# defining parameter range \n",
    "param_grid = {'C': [ 5, 10, 100, 50, 75], \n",
    "            'gamma': [ 0.1, 0.01, 0.001], \n",
    "            'kernel': ['rbf', 'poly']} \n",
    "\n",
    "grid = GridSearchCV(SVR(), param_grid, refit = True, verbose = 3, cv=3, scoring='neg_mean_squared_error') \n",
    "\n",
    "# fitting the model for grid search \n",
    "grid.fit(X_train_scaled, y_train) "
   ]
  },
  {
   "cell_type": "code",
   "execution_count": 63,
   "metadata": {},
   "outputs": [
    {
     "name": "stdout",
     "output_type": "stream",
     "text": [
      "{'C': 100, 'gamma': 0.1, 'kernel': 'rbf'}\n",
      "SVR(C=100, cache_size=200, coef0=0.0, degree=3, epsilon=0.1, gamma=0.1,\n",
      "    kernel='rbf', max_iter=-1, shrinking=True, tol=0.001, verbose=False)\n"
     ]
    }
   ],
   "source": [
    "# print best parameter after tuning \n",
    "print(grid.best_params_) \n",
    "\n",
    "# print how our model looks after hyper-parameter tuning \n",
    "print(grid.best_estimator_) "
   ]
  },
  {
   "cell_type": "code",
   "execution_count": 64,
   "metadata": {},
   "outputs": [],
   "source": [
    "svr = SVR(C=100, cache_size=200, coef0=0.0, degree=3, epsilon=0.1, gamma=0.1,\n",
    "    kernel='rbf', max_iter=-1, shrinking=True, tol=0.001, verbose=False)\n",
    "svr.fit(X_train_scaled, y_train)\n",
    "y_pred = svr.predict(X_test_scaled)"
   ]
  },
  {
   "cell_type": "code",
   "execution_count": 65,
   "metadata": {},
   "outputs": [
    {
     "name": "stdout",
     "output_type": "stream",
     "text": [
      "2367.2980970703834\n",
      "Accuracy of our model is:  -0.07982892691158527\n"
     ]
    }
   ],
   "source": [
    "print(np.sqrt(mean_squared_error(y_test, y_pred)))\n",
    "print('Accuracy of our model is: ', r2_score(y_test, y_pred))"
   ]
  },
  {
   "cell_type": "code",
   "execution_count": 66,
   "metadata": {},
   "outputs": [],
   "source": [
    "#GBM"
   ]
  },
  {
   "cell_type": "code",
   "execution_count": 67,
   "metadata": {},
   "outputs": [],
   "source": [
    "from sklearn.ensemble import GradientBoostingRegressor"
   ]
  },
  {
   "cell_type": "code",
   "execution_count": 76,
   "metadata": {},
   "outputs": [],
   "source": [
    "parameters = {'n_estimators': [5,10],\n",
    "              'loss':['huber', 'deviance'],\n",
    "              'criterion': ['mse', \"friedman_mse\"],\n",
    "              'max_depth': [5,10,3], \n",
    "              \"max_features\":[\"log2\",\"sqrt\"],\n",
    "              'min_samples_split': [2,5,3],\n",
    "              'min_samples_leaf': [1,3,5]\n",
    "             }\n",
    "\n",
    "\n",
    "clf = GridSearchCV(GradientBoostingRegressor(), parameters, cv=3, n_jobs=-1, verbose=1)"
   ]
  },
  {
   "cell_type": "code",
   "execution_count": 77,
   "metadata": {},
   "outputs": [
    {
     "name": "stdout",
     "output_type": "stream",
     "text": [
      "Fitting 3 folds for each of 432 candidates, totalling 1296 fits\n"
     ]
    },
    {
     "name": "stderr",
     "output_type": "stream",
     "text": [
      "[Parallel(n_jobs=-1)]: Using backend LokyBackend with 4 concurrent workers.\n",
      "[Parallel(n_jobs=-1)]: Done  76 tasks      | elapsed:    2.2s\n",
      "[Parallel(n_jobs=-1)]: Done 260 tasks      | elapsed:   25.2s\n",
      "[Parallel(n_jobs=-1)]: Done 1296 out of 1296 | elapsed:   50.7s finished\n"
     ]
    },
    {
     "name": "stdout",
     "output_type": "stream",
     "text": [
      "0.6385658595501832\n",
      "{'criterion': 'mse', 'loss': 'huber', 'max_depth': 10, 'max_features': 'log2', 'min_samples_leaf': 1, 'min_samples_split': 5, 'n_estimators': 10}\n"
     ]
    }
   ],
   "source": [
    "clf.fit(X_train_scaled, y_train) \n",
    "print(clf.score(X_train_scaled, y_train))\n",
    "print(clf.best_params_)"
   ]
  },
  {
   "cell_type": "code",
   "execution_count": 78,
   "metadata": {
    "collapsed": true
   },
   "outputs": [
    {
     "data": {
      "text/plain": [
       "GridSearchCV(cv=3, error_score=nan,\n",
       "             estimator=GradientBoostingRegressor(alpha=0.9, ccp_alpha=0.0,\n",
       "                                                 criterion='friedman_mse',\n",
       "                                                 init=None, learning_rate=0.1,\n",
       "                                                 loss='ls', max_depth=3,\n",
       "                                                 max_features=None,\n",
       "                                                 max_leaf_nodes=None,\n",
       "                                                 min_impurity_decrease=0.0,\n",
       "                                                 min_impurity_split=None,\n",
       "                                                 min_samples_leaf=1,\n",
       "                                                 min_samples_split=2,\n",
       "                                                 min_weight_fraction_leaf=0.0,\n",
       "                                                 n_estimators=100,\n",
       "                                                 n_iter_n...\n",
       "                                                 validation_fraction=0.1,\n",
       "                                                 verbose=0, warm_start=False),\n",
       "             iid='deprecated', n_jobs=-1,\n",
       "             param_grid={'criterion': ['mse', 'friedman_mse'],\n",
       "                         'loss': ['huber', 'deviance'], 'max_depth': [5, 10, 3],\n",
       "                         'max_features': ['log2', 'sqrt'],\n",
       "                         'min_samples_leaf': [1, 3, 5],\n",
       "                         'min_samples_split': [2, 5, 3],\n",
       "                         'n_estimators': [5, 10]},\n",
       "             pre_dispatch='2*n_jobs', refit=True, return_train_score=False,\n",
       "             scoring=None, verbose=1)"
      ]
     },
     "execution_count": 78,
     "metadata": {},
     "output_type": "execute_result"
    }
   ],
   "source": [
    "clf"
   ]
  },
  {
   "cell_type": "code",
   "execution_count": 72,
   "metadata": {},
   "outputs": [
    {
     "data": {
      "text/plain": [
       "GradientBoostingRegressor(alpha=0.9, ccp_alpha=0.0, criterion='friedman_mse',\n",
       "                          init=None, learning_rate=0.1, loss='ls', max_depth=3,\n",
       "                          max_features=None, max_leaf_nodes=None,\n",
       "                          min_impurity_decrease=0.0, min_impurity_split=None,\n",
       "                          min_samples_leaf=1, min_samples_split=2,\n",
       "                          min_weight_fraction_leaf=0.0, n_estimators=100,\n",
       "                          n_iter_no_change=None, presort='deprecated',\n",
       "                          random_state=None, subsample=1.0, tol=0.0001,\n",
       "                          validation_fraction=0.1, verbose=0, warm_start=False)"
      ]
     },
     "execution_count": 72,
     "metadata": {},
     "output_type": "execute_result"
    }
   ],
   "source": [
    "gbm = GradientBoostingRegressor(alpha=0.9, ccp_alpha=0.0,\n",
    "                                                 criterion='friedman_mse',\n",
    "                                                 init=None, learning_rate=0.1,\n",
    "                                                 loss='ls', max_depth=3,\n",
    "                                                 max_features=None,\n",
    "                                                 max_leaf_nodes=None,\n",
    "                                                 min_impurity_decrease=0.0,\n",
    "                                                 min_impurity_split=None,\n",
    "                                                 min_samples_leaf=1,\n",
    "                                                 min_samples_split=2,\n",
    "                                                 min_weight_fraction_leaf=0.0,\n",
    "                                                 n_estimators=100)\n",
    "gbm.fit(X_train_scaled, y_train)"
   ]
  },
  {
   "cell_type": "code",
   "execution_count": 74,
   "metadata": {},
   "outputs": [],
   "source": [
    "y_pred = gbm.predict(X_test_scaled)"
   ]
  },
  {
   "cell_type": "code",
   "execution_count": 75,
   "metadata": {},
   "outputs": [
    {
     "name": "stdout",
     "output_type": "stream",
     "text": [
      "1017.0751010077884\n",
      "Accuracy of our model is:  0.8006780605374886\n"
     ]
    }
   ],
   "source": [
    "print(np.sqrt(mean_squared_error(y_test, y_pred)))\n",
    "print('Accuracy of our model is: ', r2_score(y_test, y_pred))"
   ]
  },
  {
   "cell_type": "code",
   "execution_count": 79,
   "metadata": {},
   "outputs": [],
   "source": [
    "## going with GBM regressor"
   ]
  },
  {
   "cell_type": "code",
   "execution_count": 81,
   "metadata": {},
   "outputs": [
    {
     "data": {
      "image/png": "[encoded data removed]",
      "text/plain": [
       "<Figure size 1440x720 with 1 Axes>"
      ]
     },
     "metadata": {
      "needs_background": "light"
     },
     "output_type": "display_data"
    }
   ],
   "source": [
    "# sorted(zip(clf.feature_importances_, X.columns), reverse=True)\n",
    "feature_imp = pd.DataFrame(sorted(zip(gbm.feature_importances_,X.columns)), columns=['Value','Feature'])\n",
    "\n",
    "plt.figure(figsize=(20, 10))\n",
    "sns.barplot(x=\"Value\", y=\"Feature\", data=feature_imp.sort_values(by=\"Value\", ascending=False))\n",
    "plt.title('GBM Features (avg over folds)')\n",
    "plt.tight_layout()\n",
    "plt.show()"
   ]
  },
  {
   "cell_type": "code",
   "execution_count": 178,
   "metadata": {},
   "outputs": [],
   "source": [
    "import pickle"
   ]
  },
  {
   "cell_type": "code",
   "execution_count": 180,
   "metadata": {},
   "outputs": [],
   "source": [
    "pickle.dump(gbm, open('gbm_model', 'wb'))\n",
    "pickle.dump(scaler, open('scaler_RS', 'wb'))"
   ]
  },
  {
   "cell_type": "code",
   "execution_count": 83,
   "metadata": {},
   "outputs": [],
   "source": [
    "## going with GBM model for predictions"
   ]
  },
  {
   "cell_type": "code",
   "execution_count": 149,
   "metadata": {},
   "outputs": [],
   "source": [
    "test=df1[['Deal_Stage','DateDiff', 'Ordered_Product','Ordered_Agent','Close_Value']]"
   ]
  },
  {
   "cell_type": "code",
   "execution_count": 150,
   "metadata": {},
   "outputs": [
    {
     "data": {
      "text/html": [
       "<div>\n",
       "<style scoped>\n",
       "    .dataframe tbody tr th:only-of-type {\n",
       "        vertical-align: middle;\n",
       "    }\n",
       "\n",
       "    .dataframe tbody tr th {\n",
       "        vertical-align: top;\n",
       "    }\n",
       "\n",
       "    .dataframe thead th {\n",
       "        text-align: right;\n",
       "    }\n",
       "</style>\n",
       "<table border=\"1\" class=\"dataframe\">\n",
       "  <thead>\n",
       "    <tr style=\"text-align: right;\">\n",
       "      <th></th>\n",
       "      <th>Deal_Stage</th>\n",
       "      <th>DateDiff</th>\n",
       "      <th>Ordered_Product</th>\n",
       "      <th>Ordered_Agent</th>\n",
       "      <th>Close_Value</th>\n",
       "    </tr>\n",
       "  </thead>\n",
       "  <tbody>\n",
       "    <tr>\n",
       "      <th>0</th>\n",
       "      <td>1</td>\n",
       "      <td>141</td>\n",
       "      <td>2</td>\n",
       "      <td>21</td>\n",
       "      <td>1255</td>\n",
       "    </tr>\n",
       "    <tr>\n",
       "      <th>1</th>\n",
       "      <td>1</td>\n",
       "      <td>303</td>\n",
       "      <td>6</td>\n",
       "      <td>20</td>\n",
       "      <td>45</td>\n",
       "    </tr>\n",
       "    <tr>\n",
       "      <th>2</th>\n",
       "      <td>0</td>\n",
       "      <td>336</td>\n",
       "      <td>6</td>\n",
       "      <td>2</td>\n",
       "      <td>1054</td>\n",
       "    </tr>\n",
       "    <tr>\n",
       "      <th>4</th>\n",
       "      <td>0</td>\n",
       "      <td>256</td>\n",
       "      <td>1</td>\n",
       "      <td>27</td>\n",
       "      <td>517</td>\n",
       "    </tr>\n",
       "    <tr>\n",
       "      <th>5</th>\n",
       "      <td>1</td>\n",
       "      <td>24</td>\n",
       "      <td>1</td>\n",
       "      <td>0</td>\n",
       "      <td>3180</td>\n",
       "    </tr>\n",
       "  </tbody>\n",
       "</table>\n",
       "</div>"
      ],
      "text/plain": [
       "   Deal_Stage  DateDiff  Ordered_Product  Ordered_Agent  Close_Value\n",
       "0           1       141                2             21         1255\n",
       "1           1       303                6             20           45\n",
       "2           0       336                6              2         1054\n",
       "4           0       256                1             27          517\n",
       "5           1        24                1              0         3180"
      ]
     },
     "execution_count": 150,
     "metadata": {},
     "output_type": "execute_result"
    }
   ],
   "source": [
    "test.head()"
   ]
  },
  {
   "cell_type": "code",
   "execution_count": 151,
   "metadata": {},
   "outputs": [],
   "source": [
    "test1 = scaler.transform(test[['Deal_Stage','DateDiff', 'Ordered_Product','Ordered_Agent']])"
   ]
  },
  {
   "cell_type": "code",
   "execution_count": 152,
   "metadata": {},
   "outputs": [],
   "source": [
    "close_preds = gbm.predict(test1)"
   ]
  },
  {
   "cell_type": "code",
   "execution_count": 153,
   "metadata": {},
   "outputs": [],
   "source": [
    "df1['Close_Value_predicted'] = close_preds"
   ]
  },
  {
   "cell_type": "code",
   "execution_count": 154,
   "metadata": {},
   "outputs": [
    {
     "data": {
      "text/html": [
       "<div>\n",
       "<style scoped>\n",
       "    .dataframe tbody tr th:only-of-type {\n",
       "        vertical-align: middle;\n",
       "    }\n",
       "\n",
       "    .dataframe tbody tr th {\n",
       "        vertical-align: top;\n",
       "    }\n",
       "\n",
       "    .dataframe thead th {\n",
       "        text-align: right;\n",
       "    }\n",
       "</style>\n",
       "<table border=\"1\" class=\"dataframe\">\n",
       "  <thead>\n",
       "    <tr style=\"text-align: right;\">\n",
       "      <th></th>\n",
       "      <th>Account</th>\n",
       "      <th>Opportunity_ID</th>\n",
       "      <th>Sales_Agent</th>\n",
       "      <th>SalesAgentEmailID</th>\n",
       "      <th>ContactEmailID</th>\n",
       "      <th>Deal_Stage</th>\n",
       "      <th>Product</th>\n",
       "      <th>Close_Value</th>\n",
       "      <th>Created Date</th>\n",
       "      <th>Close Date</th>\n",
       "      <th>DateDiff</th>\n",
       "      <th>Ordered_Product</th>\n",
       "      <th>Ordered_Agent</th>\n",
       "      <th>Close_Value_predicted</th>\n",
       "    </tr>\n",
       "  </thead>\n",
       "  <tbody>\n",
       "    <tr>\n",
       "      <th>0</th>\n",
       "      <td>Konex</td>\n",
       "      <td>3KR50X38</td>\n",
       "      <td>Corliss Cosme</td>\n",
       "      <td>corliss@piedpiper.com</td>\n",
       "      <td>delila@konex.com</td>\n",
       "      <td>1</td>\n",
       "      <td>GTX Plus Basic</td>\n",
       "      <td>1255</td>\n",
       "      <td>2016-01-04</td>\n",
       "      <td>2016-05-24</td>\n",
       "      <td>141</td>\n",
       "      <td>2</td>\n",
       "      <td>21</td>\n",
       "      <td>1214.940722</td>\n",
       "    </tr>\n",
       "    <tr>\n",
       "      <th>1</th>\n",
       "      <td>Finjob</td>\n",
       "      <td>YFS5KLJJ</td>\n",
       "      <td>Rosalina Dieter</td>\n",
       "      <td>rosalina@piedpiper.com</td>\n",
       "      <td>belinda@finjob.com</td>\n",
       "      <td>1</td>\n",
       "      <td>MG Special</td>\n",
       "      <td>45</td>\n",
       "      <td>2016-01-04</td>\n",
       "      <td>2016-11-02</td>\n",
       "      <td>303</td>\n",
       "      <td>6</td>\n",
       "      <td>20</td>\n",
       "      <td>117.016476</td>\n",
       "    </tr>\n",
       "    <tr>\n",
       "      <th>2</th>\n",
       "      <td>Kinnamplus</td>\n",
       "      <td>N0ONCYVZ</td>\n",
       "      <td>Donn Cantrell</td>\n",
       "      <td>donn@piedpiper.com</td>\n",
       "      <td>monte@kinnamplus.com</td>\n",
       "      <td>0</td>\n",
       "      <td>MG Special</td>\n",
       "      <td>1054</td>\n",
       "      <td>2016-01-06</td>\n",
       "      <td>2016-12-07</td>\n",
       "      <td>336</td>\n",
       "      <td>6</td>\n",
       "      <td>2</td>\n",
       "      <td>1058.400356</td>\n",
       "    </tr>\n",
       "    <tr>\n",
       "      <th>4</th>\n",
       "      <td>Initech</td>\n",
       "      <td>G8AO5FA2</td>\n",
       "      <td>Wilburn Farren</td>\n",
       "      <td>wilburn@piedpiper.com</td>\n",
       "      <td>alejandro@initech.com</td>\n",
       "      <td>0</td>\n",
       "      <td>MG Advanced</td>\n",
       "      <td>517</td>\n",
       "      <td>2016-01-06</td>\n",
       "      <td>2016-09-18</td>\n",
       "      <td>256</td>\n",
       "      <td>1</td>\n",
       "      <td>27</td>\n",
       "      <td>1427.541335</td>\n",
       "    </tr>\n",
       "    <tr>\n",
       "      <th>5</th>\n",
       "      <td>Stanredtax</td>\n",
       "      <td>2V848WZD</td>\n",
       "      <td>Lajuana Vencill</td>\n",
       "      <td>lajuana@piedpiper.com</td>\n",
       "      <td>candice@stanredtax.com</td>\n",
       "      <td>1</td>\n",
       "      <td>MG Advanced</td>\n",
       "      <td>3180</td>\n",
       "      <td>2016-01-07</td>\n",
       "      <td>2016-01-31</td>\n",
       "      <td>24</td>\n",
       "      <td>1</td>\n",
       "      <td>0</td>\n",
       "      <td>3377.844653</td>\n",
       "    </tr>\n",
       "  </tbody>\n",
       "</table>\n",
       "</div>"
      ],
      "text/plain": [
       "      Account Opportunity_ID      Sales_Agent       SalesAgentEmailID  \\\n",
       "0       Konex       3KR50X38    Corliss Cosme   corliss@piedpiper.com   \n",
       "1      Finjob       YFS5KLJJ  Rosalina Dieter  rosalina@piedpiper.com   \n",
       "2  Kinnamplus       N0ONCYVZ    Donn Cantrell      donn@piedpiper.com   \n",
       "4     Initech       G8AO5FA2   Wilburn Farren   wilburn@piedpiper.com   \n",
       "5  Stanredtax       2V848WZD  Lajuana Vencill   lajuana@piedpiper.com   \n",
       "\n",
       "           ContactEmailID  Deal_Stage         Product  Close_Value  \\\n",
       "0        delila@konex.com           1  GTX Plus Basic         1255   \n",
       "1      belinda@finjob.com           1      MG Special           45   \n",
       "2    monte@kinnamplus.com           0      MG Special         1054   \n",
       "4   alejandro@initech.com           0     MG Advanced          517   \n",
       "5  candice@stanredtax.com           1     MG Advanced         3180   \n",
       "\n",
       "  Created Date  Close Date  DateDiff  Ordered_Product  Ordered_Agent  \\\n",
       "0   2016-01-04  2016-05-24       141                2             21   \n",
       "1   2016-01-04  2016-11-02       303                6             20   \n",
       "2   2016-01-06  2016-12-07       336                6              2   \n",
       "4   2016-01-06  2016-09-18       256                1             27   \n",
       "5   2016-01-07  2016-01-31        24                1              0   \n",
       "\n",
       "   Close_Value_predicted  \n",
       "0            1214.940722  \n",
       "1             117.016476  \n",
       "2            1058.400356  \n",
       "4            1427.541335  \n",
       "5            3377.844653  "
      ]
     },
     "execution_count": 154,
     "metadata": {},
     "output_type": "execute_result"
    }
   ],
   "source": [
    "df1.head()"
   ]
  },
  {
   "cell_type": "code",
   "execution_count": 92,
   "metadata": {},
   "outputs": [],
   "source": [
    "# Now predicting dealdiff"
   ]
  },
  {
   "cell_type": "code",
   "execution_count": 93,
   "metadata": {},
   "outputs": [],
   "source": [
    "X = df[['Deal_Stage','Close_Value', 'Ordered_Product','Ordered_Agent']]\n",
    "y = df['DateDiff']"
   ]
  },
  {
   "cell_type": "code",
   "execution_count": 94,
   "metadata": {},
   "outputs": [
    {
     "data": {
      "text/plain": [
       "((4697, 4), (2014, 4))"
      ]
     },
     "execution_count": 94,
     "metadata": {},
     "output_type": "execute_result"
    }
   ],
   "source": [
    "# let's separate into training and testing set\n",
    "X_train, X_test, y_train, y_test = train_test_split(X, y, test_size=0.3,\n",
    "                                                    random_state=0,shuffle=True)\n",
    "X_train.shape, X_test.shape"
   ]
  },
  {
   "cell_type": "code",
   "execution_count": 95,
   "metadata": {},
   "outputs": [],
   "source": [
    "scaler = RobustScaler() # call the object\n",
    "X_train_scaled = scaler.fit_transform(X_train) # fit the scaler to the train set, and then scale it\n",
    "X_test_scaled = scaler.transform(X_test) # scale the test set"
   ]
  },
  {
   "cell_type": "code",
   "execution_count": 144,
   "metadata": {},
   "outputs": [],
   "source": [
    "parameters = {'n_estimators': [5,10,7,15],\n",
    "              'max_depth': [5,10,3,8], \n",
    "              'min_samples_split': [2,5,3,10],\n",
    "              'min_samples_leaf': [1,3,5]\n",
    "             }\n",
    "\n",
    "\n",
    "clf = GridSearchCV(GradientBoostingRegressor(), parameters, cv=3, n_jobs=-1, verbose=1,scoring='r2' )"
   ]
  },
  {
   "cell_type": "code",
   "execution_count": 145,
   "metadata": {},
   "outputs": [
    {
     "name": "stdout",
     "output_type": "stream",
     "text": [
      "Fitting 3 folds for each of 192 candidates, totalling 576 fits\n"
     ]
    },
    {
     "name": "stderr",
     "output_type": "stream",
     "text": [
      "[Parallel(n_jobs=-1)]: Using backend LokyBackend with 4 concurrent workers.\n",
      "[Parallel(n_jobs=-1)]: Done 128 tasks      | elapsed:    1.3s\n"
     ]
    },
    {
     "name": "stdout",
     "output_type": "stream",
     "text": [
      "0.007634735282956662\n",
      "{'max_depth': 3, 'min_samples_leaf': 3, 'min_samples_split': 2, 'n_estimators': 5}\n"
     ]
    },
    {
     "name": "stderr",
     "output_type": "stream",
     "text": [
      "[Parallel(n_jobs=-1)]: Done 576 out of 576 | elapsed:    7.2s finished\n"
     ]
    }
   ],
   "source": [
    "clf.fit(X_train_scaled, y_train) \n",
    "print(clf.score(X_train_scaled, y_train))\n",
    "print(clf.best_params_)"
   ]
  },
  {
   "cell_type": "code",
   "execution_count": 98,
   "metadata": {
    "collapsed": true
   },
   "outputs": [
    {
     "data": {
      "text/plain": [
       "GridSearchCV(cv=3, error_score=nan,\n",
       "             estimator=GradientBoostingRegressor(alpha=0.9, ccp_alpha=0.0,\n",
       "                                                 criterion='friedman_mse',\n",
       "                                                 init=None, learning_rate=0.1,\n",
       "                                                 loss='ls', max_depth=3,\n",
       "                                                 max_features=None,\n",
       "                                                 max_leaf_nodes=None,\n",
       "                                                 min_impurity_decrease=0.0,\n",
       "                                                 min_impurity_split=None,\n",
       "                                                 min_samples_leaf=1,\n",
       "                                                 min_samples_split=2,\n",
       "                                                 min_weight_fraction_leaf=0.0,\n",
       "                                                 n_estimators=100,\n",
       "                                                 n_iter_n...\n",
       "                                                 random_state=None,\n",
       "                                                 subsample=1.0, tol=0.0001,\n",
       "                                                 validation_fraction=0.1,\n",
       "                                                 verbose=0, warm_start=False),\n",
       "             iid='deprecated', n_jobs=-1,\n",
       "             param_grid={'max_depth': [5, 10, 3, 8],\n",
       "                         'max_features': ['log2', 'sqrt'],\n",
       "                         'min_samples_leaf': [1, 3, 5],\n",
       "                         'min_samples_split': [2, 5, 3, 10],\n",
       "                         'n_estimators': [5, 10, 7, 15]},\n",
       "             pre_dispatch='2*n_jobs', refit=True, return_train_score=False,\n",
       "             scoring=None, verbose=1)"
      ]
     },
     "execution_count": 98,
     "metadata": {},
     "output_type": "execute_result"
    }
   ],
   "source": [
    "clf"
   ]
  },
  {
   "cell_type": "code",
   "execution_count": 104,
   "metadata": {},
   "outputs": [],
   "source": [
    "gbm1 = GradientBoostingRegressor(max_depth=3,min_samples_leaf=3,\n",
    "                                                 min_samples_split=2,\n",
    "                                                 min_weight_fraction_leaf=0.0,\n",
    "                                                 n_estimators=5,max_features='sqrt')"
   ]
  },
  {
   "cell_type": "code",
   "execution_count": 105,
   "metadata": {},
   "outputs": [],
   "source": [
    "gbm1.fit(X_train_scaled, y_train)\n",
    "y_pred = gbm1.predict(X_test_scaled)"
   ]
  },
  {
   "cell_type": "code",
   "execution_count": 107,
   "metadata": {},
   "outputs": [
    {
     "name": "stdout",
     "output_type": "stream",
     "text": [
      "244.04925481211785\n"
     ]
    }
   ],
   "source": [
    "print(np.sqrt(mean_squared_error(y_test, y_pred)))"
   ]
  },
  {
   "cell_type": "code",
   "execution_count": 140,
   "metadata": {},
   "outputs": [
    {
     "name": "stdout",
     "output_type": "stream",
     "text": [
      "Fitting 3 folds for each of 48 candidates, totalling 144 fits\n"
     ]
    },
    {
     "name": "stderr",
     "output_type": "stream",
     "text": [
      "[Parallel(n_jobs=-1)]: Using backend LokyBackend with 4 concurrent workers.\n",
      "[Parallel(n_jobs=-1)]: Done  42 tasks      | elapsed:   13.3s\n",
      "[Parallel(n_jobs=-1)]: Done 144 out of 144 | elapsed:   48.7s finished\n"
     ]
    }
   ],
   "source": [
    "rf1 = RandomForestRegressor()\n",
    "\n",
    "n_estimators = [200, 300, 100]\n",
    "max_depth = [8, 7, 10, 15]\n",
    "min_samples_split = [6,8,9,7]\n",
    "\n",
    "hyperF = dict(n_estimators = n_estimators, max_depth = max_depth,  \n",
    "              min_samples_split = min_samples_split)\n",
    "\n",
    "gridF = GridSearchCV(rf1, hyperF, cv = 3, verbose = 1, scoring='r2',\n",
    "                      n_jobs = -1)\n",
    "bestF = gridF.fit(X_train_scaled, y_train)"
   ]
  },
  {
   "cell_type": "code",
   "execution_count": 141,
   "metadata": {},
   "outputs": [
    {
     "name": "stdout",
     "output_type": "stream",
     "text": [
      "Best: -0.018195 using {'max_depth': 7, 'min_samples_split': 6, 'n_estimators': 300}\n"
     ]
    }
   ],
   "source": [
    "# summarize results\n",
    "print(\"Best: %f using %s\" % (bestF.best_score_, bestF.best_params_))"
   ]
  },
  {
   "cell_type": "code",
   "execution_count": 142,
   "metadata": {},
   "outputs": [],
   "source": [
    "rf_best = RandomForestRegressor(max_depth= 10, min_samples_split= 6, n_estimators= 100, min_samples_leaf=3, max_features='sqrt')"
   ]
  },
  {
   "cell_type": "code",
   "execution_count": 143,
   "metadata": {},
   "outputs": [
    {
     "name": "stdout",
     "output_type": "stream",
     "text": [
      "247.3184664736158\n"
     ]
    }
   ],
   "source": [
    "rf_best.fit(X_train_scaled, y_train)\n",
    "y_pred = rf_best.predict(X_test_scaled)\n",
    "\n",
    "print(np.sqrt(mean_squared_error(y_test, y_pred)))\n"
   ]
  },
  {
   "cell_type": "code",
   "execution_count": 114,
   "metadata": {},
   "outputs": [],
   "source": [
    "#Going with Random Forest for predicting DateDiff"
   ]
  },
  {
   "cell_type": "markdown",
   "metadata": {},
   "source": [
    "### Results"
   ]
  },
  {
   "cell_type": "markdown",
   "metadata": {},
   "source": [
    "### 1. I will be using the Gradient boosting Regressor for predicting future close_value's for the dataset.\n",
    "\n",
    "#### The GBM model had the following scores:\n",
    "\n",
    "RMSE - 1017.0751010077884\n",
    "\n",
    "Accuracy of our model is:  0.8006780605374886"
   ]
  },
  {
   "cell_type": "code",
   "execution_count": null,
   "metadata": {},
   "outputs": [],
   "source": []
  }
 ],
 "metadata": {
  "kernelspec": {
   "display_name": "Python 3",
   "language": "python",
   "name": "python3"
  },
  "language_info": {
   "codemirror_mode": {
    "name": "ipython",
    "version": 3
   },
   "file_extension": ".py",
   "mimetype": "text/x-python",
   "name": "python",
   "nbconvert_exporter": "python",
   "pygments_lexer": "ipython3",
   "version": "3.7.3"
  }
 },
 "nbformat": 4,
 "nbformat_minor": 2
}

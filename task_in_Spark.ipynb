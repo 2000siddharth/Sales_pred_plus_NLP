{
  "nbformat": 4,
  "nbformat_minor": 0,
  "metadata": {
    "colab": {
      "name": "task_in_Spark.ipynb",
      "provenance": [],
      "collapsed_sections": [],
      "authorship_tag": "ABX9TyNlQgO7DxIMaYE3ZJSjN0zf",
      "include_colab_link": true
    },
    "kernelspec": {
      "name": "python3",
      "display_name": "Python 3"
    }
  },
  "cells": [
    {
      "cell_type": "markdown",
      "metadata": {
        "id": "view-in-github",
        "colab_type": "text"
      },
      "source": [
        "<a href=\"https://colab.research.google.com/github/2000siddharth/relatas_assgn/blob/master/task_in_Spark.ipynb\" target=\"_parent\"><img src=\"https://colab.research.google.com/assets/colab-badge.svg\" alt=\"Open In Colab\"/></a>"
      ]
    },
    {
      "cell_type": "code",
      "metadata": {
        "id": "mpjZEXMjiwmO",
        "colab_type": "code",
        "colab": {}
      },
      "source": [
        "!sudo apt-get update"
      ],
      "execution_count": null,
      "outputs": []
    },
    {
      "cell_type": "code",
      "metadata": {
        "id": "GEt8ctCdjQxN",
        "colab_type": "code",
        "colab": {}
      },
      "source": [
        "!sudo apt-get install openjdk-8-jdk-headless -qq > /dev/null"
      ],
      "execution_count": null,
      "outputs": []
    },
    {
      "cell_type": "code",
      "metadata": {
        "id": "7CZITZRBjUPl",
        "colab_type": "code",
        "colab": {}
      },
      "source": [
        "!wget -q https://www-us.apache.org/dist/spark/spark-2.4.6/spark-2.4.6-bin-hadoop2.7.tgz\n",
        "!tar xf spark-2.4.6-bin-hadoop2.7.tgz\n",
        "!pip install -q findspark\n",
        "import os\n",
        "os.environ[\"JAVA_HOME\"] = \"/usr/lib/jvm/java-8-openjdk-amd64\"\n",
        "os.environ[\"SPARK_HOME\"] = \"/content/spark-2.4.6-bin-hadoop2.7\"\n",
        "import findspark\n",
        "findspark.init()"
      ],
      "execution_count": 3,
      "outputs": []
    },
    {
      "cell_type": "code",
      "metadata": {
        "id": "hlul40o-jYRH",
        "colab_type": "code",
        "colab": {}
      },
      "source": [
        "from pyspark.sql import SparkSession\n",
        "spark = SparkSession.builder \\\n",
        "    .master(\"local[*]\") \\\n",
        "    .appName(\"Learning_Spark\") \\\n",
        "    .getOrCreate()"
      ],
      "execution_count": 4,
      "outputs": []
    },
    {
      "cell_type": "code",
      "metadata": {
        "id": "GEaj3hVFjd-n",
        "colab_type": "code",
        "colab": {}
      },
      "source": [
        "data = spark.read.csv('/content/sales.csv',inferSchema=True, header =True)"
      ],
      "execution_count": 5,
      "outputs": []
    },
    {
      "cell_type": "code",
      "metadata": {
        "id": "J3JEB6XdjvTP",
        "colab_type": "code",
        "colab": {
          "base_uri": "https://localhost:8080/",
          "height": 222
        },
        "outputId": "d5b56428-1946-4327-e6ad-f2fdfdcddf6c"
      },
      "source": [
        "data.show(5)"
      ],
      "execution_count": 6,
      "outputs": [
        {
          "output_type": "stream",
          "text": [
            "+---+----------+--------------+---------------+--------------------+--------------------+----------+--------------+-----------+-------------------+-------------------+--------+---------------+-------------+\n",
            "|_c0|   Account|Opportunity_ID|    Sales_Agent|   SalesAgentEmailID|      ContactEmailID|Deal_Stage|       Product|Close_Value|       Created Date|         Close Date|DateDiff|Ordered_Product|Ordered_Agent|\n",
            "+---+----------+--------------+---------------+--------------------+--------------------+----------+--------------+-----------+-------------------+-------------------+--------+---------------+-------------+\n",
            "|  0|     Konex|      3KR50X38|  Corliss Cosme|corliss@piedpiper...|    delila@konex.com|         1|GTX Plus Basic|       1255|2016-01-04 00:00:00|2016-05-24 00:00:00|     141|              2|           21|\n",
            "|  1|    Finjob|      YFS5KLJJ|Rosalina Dieter|rosalina@piedpipe...|  belinda@finjob.com|         1|    MG Special|         45|2016-01-04 00:00:00|2016-11-02 00:00:00|     303|              6|           20|\n",
            "|  2|Kinnamplus|      N0ONCYVZ|  Donn Cantrell|  donn@piedpiper.com|monte@kinnamplus.com|         0|    MG Special|       1054|2016-01-06 00:00:00|2016-12-07 00:00:00|     336|              6|            2|\n",
            "|  4|   Initech|      G8AO5FA2| Wilburn Farren|wilburn@piedpiper...|alejandro@initech...|         0|   MG Advanced|        517|2016-01-06 00:00:00|2016-09-18 00:00:00|     256|              1|           27|\n",
            "|  5|Stanredtax|      2V848WZD|Lajuana Vencill|lajuana@piedpiper...|candice@stanredta...|         1|   MG Advanced|       3180|2016-01-07 00:00:00|2016-01-31 00:00:00|      24|              1|            0|\n",
            "+---+----------+--------------+---------------+--------------------+--------------------+----------+--------------+-----------+-------------------+-------------------+--------+---------------+-------------+\n",
            "only showing top 5 rows\n",
            "\n"
          ],
          "name": "stdout"
        }
      ]
    },
    {
      "cell_type": "code",
      "metadata": {
        "id": "Wy9s6DwqsJte",
        "colab_type": "code",
        "colab": {
          "base_uri": "https://localhost:8080/",
          "height": 286
        },
        "outputId": "02c92bea-4a47-41c4-de9f-5fe2250f96c4"
      },
      "source": [
        "data = data.select(['Deal_Stage', 'Close_Value', 'DateDiff', 'Ordered_Product', 'Ordered_Agent'])\n",
        "data.show(10)"
      ],
      "execution_count": 6,
      "outputs": [
        {
          "output_type": "stream",
          "text": [
            "+----------+-----------+--------+---------------+-------------+\n",
            "|Deal_Stage|Close_Value|DateDiff|Ordered_Product|Ordered_Agent|\n",
            "+----------+-----------+--------+---------------+-------------+\n",
            "|         1|       1255|     141|              2|           21|\n",
            "|         1|         45|     303|              6|           20|\n",
            "|         0|       1054|     336|              6|            2|\n",
            "|         0|        517|     256|              1|           27|\n",
            "|         1|       3180|      24|              1|            0|\n",
            "|         1|        517|     335|              4|            7|\n",
            "|         1|       5539|     328|              3|            9|\n",
            "|         1|       4359|      18|              3|           12|\n",
            "|         1|         41|     353|              6|            6|\n",
            "|         1|       5169|     292|              5|           22|\n",
            "+----------+-----------+--------+---------------+-------------+\n",
            "only showing top 10 rows\n",
            "\n"
          ],
          "name": "stdout"
        }
      ]
    },
    {
      "cell_type": "code",
      "metadata": {
        "id": "Fy1vrqasq79H",
        "colab_type": "code",
        "colab": {
          "base_uri": "https://localhost:8080/",
          "height": 286
        },
        "outputId": "8032155c-1bc6-46a5-87d9-2dfff3d6118b"
      },
      "source": [
        "from pyspark.ml.feature import VectorAssembler\n",
        "\n",
        "# specify the input and output columns of the vector assembler\n",
        "assembler = VectorAssembler(inputCols=['Close_Value',\n",
        "                                       'DateDiff',\n",
        "                                       'Ordered_Product',                                       \n",
        "                                       'Ordered_Agent'],\n",
        "                           outputCol='features')\n",
        "\n",
        "# transform the data\n",
        "final_data = assembler.transform(data)\n",
        "\n",
        "# view the transformed vector\n",
        "final_data=final_data.select(['features', 'Deal_Stage'])\n",
        "final_data.show(10)"
      ],
      "execution_count": 7,
      "outputs": [
        {
          "output_type": "stream",
          "text": [
            "+--------------------+----------+\n",
            "|            features|Deal_Stage|\n",
            "+--------------------+----------+\n",
            "|[1255.0,141.0,2.0...|         1|\n",
            "|[45.0,303.0,6.0,2...|         1|\n",
            "|[1054.0,336.0,6.0...|         0|\n",
            "|[517.0,256.0,1.0,...|         0|\n",
            "|[3180.0,24.0,1.0,...|         1|\n",
            "|[517.0,335.0,4.0,...|         1|\n",
            "|[5539.0,328.0,3.0...|         1|\n",
            "|[4359.0,18.0,3.0,...|         1|\n",
            "|[41.0,353.0,6.0,6.0]|         1|\n",
            "|[5169.0,292.0,5.0...|         1|\n",
            "+--------------------+----------+\n",
            "only showing top 10 rows\n",
            "\n"
          ],
          "name": "stdout"
        }
      ]
    },
    {
      "cell_type": "code",
      "metadata": {
        "id": "9i2Y_UHlNnkA",
        "colab_type": "code",
        "colab": {
          "base_uri": "https://localhost:8080/",
          "height": 454
        },
        "outputId": "6a0e0f18-382a-4d82-94a9-46f064f56432"
      },
      "source": [
        "from pyspark.ml.feature import StandardScaler\n",
        "\n",
        "scaler = StandardScaler(inputCol=\"features\", outputCol=\"scaledFeatures\",\n",
        "                        withStd=True, withMean=False)\n",
        "\n",
        "# Compute summary statistics by fitting the StandardScaler\n",
        "scalerModel = scaler.fit(final_data)\n",
        "\n",
        "# Normalize each feature to have unit standard deviation.\n",
        "scaledData = scalerModel.transform(final_data)\n",
        "scaledData.show()"
      ],
      "execution_count": 8,
      "outputs": [
        {
          "output_type": "stream",
          "text": [
            "+--------------------+----------+--------------------+\n",
            "|            features|Deal_Stage|      scaledFeatures|\n",
            "+--------------------+----------+--------------------+\n",
            "|[1255.0,141.0,2.0...|         1|[0.54853113110482...|\n",
            "|[45.0,303.0,6.0,2...|         1|[0.01966844693204...|\n",
            "|[1054.0,336.0,6.0...|         0|[0.46067873480835...|\n",
            "|[517.0,256.0,1.0,...|         0|[0.22596860141927...|\n",
            "|[3180.0,24.0,1.0,...|         1|[1.38990358319788...|\n",
            "|[517.0,335.0,4.0,...|         1|[0.22596860141927...|\n",
            "|[5539.0,328.0,3.0...|         1|[2.42096727903556...|\n",
            "|[4359.0,18.0,3.0,...|         1|[1.90521689281747...|\n",
            "|[41.0,353.0,6.0,6.0]|         1|[0.01792014053808...|\n",
            "|[5169.0,292.0,5.0...|         1|[2.25924893759429...|\n",
            "|[3284.0,310.0,1.0...|         1|[1.43535954944083...|\n",
            "|[1164.0,18.0,2.0,...|         1|[0.50875716064224...|\n",
            "|[1233.0,84.0,2.0,...|         1|[0.53891544593804...|\n",
            "|[578.0,303.0,4.0,...|         1|[0.25263027392716...|\n",
            "|[54.0,306.0,6.0,2...|         1|[0.02360213631845...|\n",
            "|[1070.0,23.0,2.0,...|         1|[0.46767196038419...|\n",
            "| [46.0,70.0,3.0,2.0]|         0|[0.02010552353053...|\n",
            "|[3647.0,137.0,1.0...|         1|[1.59401835469266...|\n",
            "|[5149.0,54.0,3.0,...|         1|[2.2505074056245,...|\n",
            "|[5673.0,257.0,3.0...|         1|[2.47953554323320...|\n",
            "+--------------------+----------+--------------------+\n",
            "only showing top 20 rows\n",
            "\n"
          ],
          "name": "stdout"
        }
      ]
    },
    {
      "cell_type": "code",
      "metadata": {
        "id": "bdgtdSSsNnt4",
        "colab_type": "code",
        "colab": {
          "base_uri": "https://localhost:8080/",
          "height": 50
        },
        "outputId": "b680b7a2-ce52-4584-aec6-5b5661dd1fdd"
      },
      "source": [
        "train, test = scaledData.randomSplit([0.7, 0.3], seed = 2018)\n",
        "print(\"Training Dataset Count: \" + str(train.count()))\n",
        "print(\"Test Dataset Count: \" + str(test.count()))"
      ],
      "execution_count": 9,
      "outputs": [
        {
          "output_type": "stream",
          "text": [
            "Training Dataset Count: 4691\n",
            "Test Dataset Count: 2020\n"
          ],
          "name": "stdout"
        }
      ]
    },
    {
      "cell_type": "code",
      "metadata": {
        "id": "Yy6Gi9iAOeoo",
        "colab_type": "code",
        "colab": {}
      },
      "source": [
        "from pyspark.ml.classification import LogisticRegression\n",
        "lr = LogisticRegression(featuresCol = 'scaledFeatures', labelCol = 'Deal_Stage', maxIter=10)\n",
        "lrModel = lr.fit(train)"
      ],
      "execution_count": 12,
      "outputs": []
    },
    {
      "cell_type": "code",
      "metadata": {
        "id": "7jtZpCuZOfi-",
        "colab_type": "code",
        "colab": {
          "base_uri": "https://localhost:8080/",
          "height": 265
        },
        "outputId": "955a5545-9fa2-41c6-ec59-98a0136a3fbc"
      },
      "source": [
        "import matplotlib.pyplot as plt\n",
        "import numpy as np\n",
        "beta = np.sort(lrModel.coefficients)\n",
        "plt.plot(beta)\n",
        "plt.ylabel('Beta Coefficients')\n",
        "plt.show()"
      ],
      "execution_count": 13,
      "outputs": [
        {
          "output_type": "display_data",
          "data": {
            "image/png": "[encoded data removed]",
            "text/plain": [
              "<Figure size 432x288 with 1 Axes>"
            ]
          },
          "metadata": {
            "tags": [],
            "needs_background": "light"
          }
        }
      ]
    },
    {
      "cell_type": "code",
      "metadata": {
        "id": "l0n2bKJdOfx3",
        "colab_type": "code",
        "colab": {
          "base_uri": "https://localhost:8080/",
          "height": 312
        },
        "outputId": "010a2e36-df44-4384-d2bd-8fbfafdbc388"
      },
      "source": [
        "trainingSummary = lrModel.summary\n",
        "roc = trainingSummary.roc.toPandas()\n",
        "plt.plot(roc['FPR'],roc['TPR'])\n",
        "plt.ylabel('False Positive Rate')\n",
        "plt.xlabel('True Positive Rate')\n",
        "plt.title('ROC Curve')\n",
        "plt.show()\n",
        "print('Training set areaUnderROC: ' + str(trainingSummary.areaUnderROC))"
      ],
      "execution_count": 14,
      "outputs": [
        {
          "output_type": "display_data",
          "data": {
            "image/png": "[encoded data removed]",
            "text/plain": [
              "<Figure size 432x288 with 1 Axes>"
            ]
          },
          "metadata": {
            "tags": [],
            "needs_background": "light"
          }
        },
        {
          "output_type": "stream",
          "text": [
            "Training set areaUnderROC: 0.6589458528853125\n"
          ],
          "name": "stdout"
        }
      ]
    },
    {
      "cell_type": "code",
      "metadata": {
        "id": "uEWY-6HoOfUj",
        "colab_type": "code",
        "colab": {
          "base_uri": "https://localhost:8080/",
          "height": 286
        },
        "outputId": "25aec68e-300f-4856-8616-5f3c06e02709"
      },
      "source": [
        "predictions = lrModel.transform(test)\n",
        "predictions.select('scaledFeatures', 'Deal_Stage','prediction', 'probability').show(10)"
      ],
      "execution_count": 15,
      "outputs": [
        {
          "output_type": "stream",
          "text": [
            "+--------------------+----------+----------+--------------------+\n",
            "|      scaledFeatures|Deal_Stage|prediction|         probability|\n",
            "+--------------------+----------+----------+--------------------+\n",
            "|[0.01792014053808...|         1|       1.0|[0.41009165335827...|\n",
            "|[0.01792014053808...|         1|       1.0|[0.45686411165641...|\n",
            "|[0.01879429373506...|         1|       1.0|[0.37455858205529...|\n",
            "|[0.01923137033355...|         1|       1.0|[0.45780406809477...|\n",
            "|[0.01923137033355...|         1|       1.0|[0.48418632278085...|\n",
            "|[0.01966844693204...|         1|       1.0|[0.44833590540186...|\n",
            "|[0.02010552353053...|         0|       0.0|[0.51181616966673...|\n",
            "|[0.02010552353053...|         0|       0.0|[0.51336033128938...|\n",
            "|[0.02010552353053...|         0|       1.0|[0.44510603042372...|\n",
            "|[0.02010552353053...|         0|       0.0|[0.57883575544596...|\n",
            "+--------------------+----------+----------+--------------------+\n",
            "only showing top 10 rows\n",
            "\n"
          ],
          "name": "stdout"
        }
      ]
    },
    {
      "cell_type": "code",
      "metadata": {
        "id": "oAbBHgRvOdnC",
        "colab_type": "code",
        "colab": {
          "base_uri": "https://localhost:8080/",
          "height": 34
        },
        "outputId": "a6977f14-2836-4c92-b66f-19105cceec34"
      },
      "source": [
        "from pyspark.ml.evaluation import BinaryClassificationEvaluator\n",
        "\n",
        "evaluator = BinaryClassificationEvaluator(labelCol=\"Deal_Stage\")\n",
        "print('Test Area Under ROC', evaluator.evaluate(predictions))"
      ],
      "execution_count": 18,
      "outputs": [
        {
          "output_type": "stream",
          "text": [
            "Test Area Under ROC 0.6480506190095842\n"
          ],
          "name": "stdout"
        }
      ]
    },
    {
      "cell_type": "code",
      "metadata": {
        "id": "IXWWxnxeOdj2",
        "colab_type": "code",
        "colab": {}
      },
      "source": [
        "y_true = predictions.select(['Deal_Stage']).collect()\n",
        "y_pred = predictions.select(['prediction']).collect()"
      ],
      "execution_count": 19,
      "outputs": []
    },
    {
      "cell_type": "code",
      "metadata": {
        "id": "aNAT6QwfS1gU",
        "colab_type": "code",
        "colab": {}
      },
      "source": [
        "from sklearn.metrics import classification_report, confusion_matrix,accuracy_score"
      ],
      "execution_count": 20,
      "outputs": []
    },
    {
      "cell_type": "code",
      "metadata": {
        "id": "e9WWtNalS4-N",
        "colab_type": "code",
        "colab": {
          "base_uri": "https://localhost:8080/",
          "height": 202
        },
        "outputId": "786408f6-a2c6-4522-97ca-8d84d5c0c43b"
      },
      "source": [
        "print(classification_report(y_true, y_pred))\n",
        "print(confusion_matrix(y_true, y_pred))"
      ],
      "execution_count": 21,
      "outputs": [
        {
          "output_type": "stream",
          "text": [
            "              precision    recall  f1-score   support\n",
            "\n",
            "           0       0.80      0.19      0.31       768\n",
            "           1       0.66      0.97      0.79      1252\n",
            "\n",
            "    accuracy                           0.68      2020\n",
            "   macro avg       0.73      0.58      0.55      2020\n",
            "weighted avg       0.72      0.68      0.61      2020\n",
            "\n",
            "[[ 149  619]\n",
            " [  37 1215]]\n"
          ],
          "name": "stdout"
        }
      ]
    },
    {
      "cell_type": "code",
      "metadata": {
        "id": "QN7FiBaUS9af",
        "colab_type": "code",
        "colab": {}
      },
      "source": [
        ""
      ],
      "execution_count": null,
      "outputs": []
    },
    {
      "cell_type": "code",
      "metadata": {
        "id": "yXdLb-oUaOuG",
        "colab_type": "code",
        "colab": {
          "base_uri": "https://localhost:8080/",
          "height": 286
        },
        "outputId": "c82d6843-9b2a-4845-a340-e208246cd927"
      },
      "source": [
        "from pyspark.ml.classification import DecisionTreeClassifier\n",
        "\n",
        "dt = DecisionTreeClassifier(featuresCol = 'scaledFeatures', labelCol = 'Deal_Stage', maxDepth = 8)\n",
        "dtModel = dt.fit(train)\n",
        "\n",
        "predictions = dtModel.transform(test)\n",
        "predictions.select('scaledFeatures', 'Deal_Stage','prediction', 'probability').show(10)"
      ],
      "execution_count": 10,
      "outputs": [
        {
          "output_type": "stream",
          "text": [
            "+--------------------+----------+----------+--------------------+\n",
            "|      scaledFeatures|Deal_Stage|prediction|         probability|\n",
            "+--------------------+----------+----------+--------------------+\n",
            "|[0.01792014053808...|         1|       1.0|     [0.1125,0.8875]|\n",
            "|[0.01792014053808...|         1|       1.0|     [0.1125,0.8875]|\n",
            "|[0.01879429373506...|         1|       1.0|     [0.1125,0.8875]|\n",
            "|[0.01923137033355...|         1|       0.0|           [0.5,0.5]|\n",
            "|[0.01923137033355...|         1|       1.0|[0.11111111111111...|\n",
            "|[0.01966844693204...|         1|       1.0|[0.11111111111111...|\n",
            "|[0.02010552353053...|         0|       0.0|           [1.0,0.0]|\n",
            "|[0.02010552353053...|         0|       0.0|           [1.0,0.0]|\n",
            "|[0.02010552353053...|         0|       0.0|           [1.0,0.0]|\n",
            "|[0.02010552353053...|         0|       0.0|           [1.0,0.0]|\n",
            "+--------------------+----------+----------+--------------------+\n",
            "only showing top 10 rows\n",
            "\n"
          ],
          "name": "stdout"
        }
      ]
    },
    {
      "cell_type": "code",
      "metadata": {
        "id": "PErqrEJvaO30",
        "colab_type": "code",
        "colab": {
          "base_uri": "https://localhost:8080/",
          "height": 34
        },
        "outputId": "0ad931de-087f-4bb9-b67b-fbea6d9962da"
      },
      "source": [
        "from pyspark.ml.evaluation import BinaryClassificationEvaluator\n",
        "\n",
        "evaluator = BinaryClassificationEvaluator(labelCol=\"Deal_Stage\")\n",
        "print('Test Area Under ROC', evaluator.evaluate(predictions))"
      ],
      "execution_count": 11,
      "outputs": [
        {
          "output_type": "stream",
          "text": [
            "Test Area Under ROC 0.8296080437965921\n"
          ],
          "name": "stdout"
        }
      ]
    },
    {
      "cell_type": "code",
      "metadata": {
        "id": "pCKYUw2YaPBw",
        "colab_type": "code",
        "colab": {}
      },
      "source": [
        "y_true = predictions.select(['Deal_Stage']).collect()\n",
        "y_pred = predictions.select(['prediction']).collect()"
      ],
      "execution_count": 18,
      "outputs": []
    },
    {
      "cell_type": "code",
      "metadata": {
        "id": "a11CsLFJaO-u",
        "colab_type": "code",
        "colab": {
          "base_uri": "https://localhost:8080/",
          "height": 218
        },
        "outputId": "bf18192f-f59b-44a3-c349-38fc9daef8e3"
      },
      "source": [
        "print(classification_report(y_true, y_pred))\n",
        "print(confusion_matrix(y_true, y_pred))\n",
        "print(accuracy_score(y_true, y_pred))"
      ],
      "execution_count": 21,
      "outputs": [
        {
          "output_type": "stream",
          "text": [
            "              precision    recall  f1-score   support\n",
            "\n",
            "           0       0.98      0.71      0.83       768\n",
            "           1       0.85      0.99      0.91      1252\n",
            "\n",
            "    accuracy                           0.89      2020\n",
            "   macro avg       0.91      0.85      0.87      2020\n",
            "weighted avg       0.90      0.89      0.88      2020\n",
            "\n",
            "[[ 548  220]\n",
            " [  11 1241]]\n",
            "0.8856435643564357\n"
          ],
          "name": "stdout"
        }
      ]
    },
    {
      "cell_type": "code",
      "metadata": {
        "id": "wIMc4ihOaO0l",
        "colab_type": "code",
        "colab": {}
      },
      "source": [
        ""
      ],
      "execution_count": null,
      "outputs": []
    },
    {
      "cell_type": "code",
      "metadata": {
        "id": "_K0XqDqaaOev",
        "colab_type": "code",
        "colab": {
          "base_uri": "https://localhost:8080/",
          "height": 286
        },
        "outputId": "30face34-707f-4e9c-b059-8cbdff083ce9"
      },
      "source": [
        "from pyspark.ml.classification import RandomForestClassifier\n",
        "rf = RandomForestClassifier(featuresCol = 'scaledFeatures', labelCol = 'Deal_Stage' ,numTrees=200, maxDepth=8)\n",
        "rfModel = rf.fit(train)\n",
        "\n",
        "\n",
        "predictions = rfModel.transform(test)\n",
        "predictions.select('scaledFeatures', 'Deal_Stage','prediction', 'probability').show(10)"
      ],
      "execution_count": 23,
      "outputs": [
        {
          "output_type": "stream",
          "text": [
            "+--------------------+----------+----------+--------------------+\n",
            "|      scaledFeatures|Deal_Stage|prediction|         probability|\n",
            "+--------------------+----------+----------+--------------------+\n",
            "|[0.01792014053808...|         1|       1.0|[0.13437686700645...|\n",
            "|[0.01792014053808...|         1|       1.0|[0.19744537794944...|\n",
            "|[0.01879429373506...|         1|       1.0|[0.19086762545513...|\n",
            "|[0.01923137033355...|         1|       1.0|[0.26204864365004...|\n",
            "|[0.01923137033355...|         1|       1.0|[0.23340804462922...|\n",
            "|[0.01966844693204...|         1|       1.0|[0.21797515581109...|\n",
            "|[0.02010552353053...|         0|       0.0|[0.97965484026372...|\n",
            "|[0.02010552353053...|         0|       0.0|[0.96168259160984...|\n",
            "|[0.02010552353053...|         0|       0.0|[0.96620218491904...|\n",
            "|[0.02010552353053...|         0|       0.0|[0.98077782636180...|\n",
            "+--------------------+----------+----------+--------------------+\n",
            "only showing top 10 rows\n",
            "\n"
          ],
          "name": "stdout"
        }
      ]
    },
    {
      "cell_type": "code",
      "metadata": {
        "id": "3BD5KdougnQ8",
        "colab_type": "code",
        "colab": {
          "base_uri": "https://localhost:8080/",
          "height": 235
        },
        "outputId": "ddbb9d94-971f-4ff5-dc6b-b6dbecd43a45"
      },
      "source": [
        "evaluator = BinaryClassificationEvaluator(labelCol=\"Deal_Stage\")\n",
        "print('Test Area Under ROC', evaluator.evaluate(predictions))\n",
        "\n",
        "y_true = predictions.select(['Deal_Stage']).collect()\n",
        "y_pred = predictions.select(['prediction']).collect()\n",
        "\n",
        "print(classification_report(y_true, y_pred))\n",
        "print(confusion_matrix(y_true, y_pred))\n",
        "print('Accuracy: ', accuracy_score(y_true, y_pred))"
      ],
      "execution_count": 24,
      "outputs": [
        {
          "output_type": "stream",
          "text": [
            "Test Area Under ROC 0.9249424878527691\n",
            "              precision    recall  f1-score   support\n",
            "\n",
            "           0       0.99      0.72      0.83       768\n",
            "           1       0.85      1.00      0.92      1252\n",
            "\n",
            "    accuracy                           0.89      2020\n",
            "   macro avg       0.92      0.86      0.87      2020\n",
            "weighted avg       0.90      0.89      0.88      2020\n",
            "\n",
            "[[ 550  218]\n",
            " [   6 1246]]\n",
            "Accuracy:  0.8891089108910891\n"
          ],
          "name": "stdout"
        }
      ]
    },
    {
      "cell_type": "code",
      "metadata": {
        "id": "awcvj_8BhZX7",
        "colab_type": "code",
        "colab": {
          "base_uri": "https://localhost:8080/",
          "height": 34
        },
        "outputId": "8713ec55-0d66-44f1-cc36-81566a86c8ea"
      },
      "source": [
        "rfModel.featureImportances"
      ],
      "execution_count": 25,
      "outputs": [
        {
          "output_type": "execute_result",
          "data": {
            "text/plain": [
              "SparseVector(4, {0: 0.59, 1: 0.0309, 2: 0.3416, 3: 0.0375})"
            ]
          },
          "metadata": {
            "tags": []
          },
          "execution_count": 25
        }
      ]
    },
    {
      "cell_type": "code",
      "metadata": {
        "id": "1Ip10qmuh1M7",
        "colab_type": "code",
        "colab": {}
      },
      "source": [
        ""
      ],
      "execution_count": null,
      "outputs": []
    },
    {
      "cell_type": "code",
      "metadata": {
        "id": "yCso4R9Vh8pm",
        "colab_type": "code",
        "colab": {
          "base_uri": "https://localhost:8080/",
          "height": 286
        },
        "outputId": "f6367fed-86d9-4ab5-b9bd-0f1fc3a43e1a"
      },
      "source": [
        "from pyspark.ml.classification import GBTClassifier\n",
        "gbt = GBTClassifier(featuresCol = 'scaledFeatures', labelCol = 'Deal_Stage', maxIter=10, maxDepth=10, featureSubsetStrategy='sqrt', minInstancesPerNode=3)\n",
        "gbtModel = gbt.fit(train)\n",
        "predictions = gbtModel.transform(test)\n",
        "predictions.select('scaledFeatures', 'Deal_Stage','prediction', 'probability').show(10)"
      ],
      "execution_count": 26,
      "outputs": [
        {
          "output_type": "stream",
          "text": [
            "+--------------------+----------+----------+--------------------+\n",
            "|      scaledFeatures|Deal_Stage|prediction|         probability|\n",
            "+--------------------+----------+----------+--------------------+\n",
            "|[0.01792014053808...|         1|       1.0|[0.11679624907723...|\n",
            "|[0.01792014053808...|         1|       1.0|[0.06882003008126...|\n",
            "|[0.01879429373506...|         1|       1.0|[0.15083532203045...|\n",
            "|[0.01923137033355...|         1|       1.0|[0.19891461020209...|\n",
            "|[0.01923137033355...|         1|       1.0|[0.16282751627125...|\n",
            "|[0.01966844693204...|         1|       1.0|[0.17732943309099...|\n",
            "|[0.02010552353053...|         0|       0.0|[0.92946366692386...|\n",
            "|[0.02010552353053...|         0|       0.0|[0.93856482706043...|\n",
            "|[0.02010552353053...|         0|       0.0|[0.93447433700074...|\n",
            "|[0.02010552353053...|         0|       0.0|[0.93393440474241...|\n",
            "+--------------------+----------+----------+--------------------+\n",
            "only showing top 10 rows\n",
            "\n"
          ],
          "name": "stdout"
        }
      ]
    },
    {
      "cell_type": "code",
      "metadata": {
        "id": "ljeZxneAjT6k",
        "colab_type": "code",
        "colab": {
          "base_uri": "https://localhost:8080/",
          "height": 235
        },
        "outputId": "fa897948-c1f2-467e-bf41-3b78f801c27a"
      },
      "source": [
        "evaluator = BinaryClassificationEvaluator(labelCol=\"Deal_Stage\")\n",
        "print('Test Area Under ROC', evaluator.evaluate(predictions))\n",
        "\n",
        "y_true = predictions.select(['Deal_Stage']).collect()\n",
        "y_pred = predictions.select(['prediction']).collect()\n",
        "\n",
        "print(classification_report(y_true, y_pred))\n",
        "print(confusion_matrix(y_true, y_pred))\n",
        "print('Accuracy: ', accuracy_score(y_true, y_pred))"
      ],
      "execution_count": 27,
      "outputs": [
        {
          "output_type": "stream",
          "text": [
            "Test Area Under ROC 0.9248764476837056\n",
            "              precision    recall  f1-score   support\n",
            "\n",
            "           0       0.94      0.74      0.83       768\n",
            "           1       0.86      0.97      0.91      1252\n",
            "\n",
            "    accuracy                           0.89      2020\n",
            "   macro avg       0.90      0.86      0.87      2020\n",
            "weighted avg       0.89      0.89      0.88      2020\n",
            "\n",
            "[[ 570  198]\n",
            " [  34 1218]]\n",
            "Accuracy:  0.8851485148514852\n"
          ],
          "name": "stdout"
        }
      ]
    },
    {
      "cell_type": "code",
      "metadata": {
        "id": "brbaMlV4jZBF",
        "colab_type": "code",
        "colab": {}
      },
      "source": [
        ""
      ],
      "execution_count": null,
      "outputs": []
    },
    {
      "cell_type": "code",
      "metadata": {
        "id": "sI76AQo9jfA1",
        "colab_type": "code",
        "colab": {
          "base_uri": "https://localhost:8080/",
          "height": 286
        },
        "outputId": "7cdc89a0-eca5-4c52-c5e9-108cfc897f31"
      },
      "source": [
        "from pyspark.ml.classification import MultilayerPerceptronClassifier\n",
        "\n",
        "layers = [4, 5, 4, 2]\n",
        "# create the trainer and set its parameters\n",
        "trainer = MultilayerPerceptronClassifier(featuresCol = 'scaledFeatures', labelCol = 'Deal_Stage' , maxIter=100, layers=layers, blockSize=128, seed=1234)\n",
        "\n",
        "# train the model\n",
        "model = trainer.fit(train)\n",
        "predictions = model.transform(test)\n",
        "predictions.select('scaledFeatures', 'Deal_Stage','prediction', 'probability').show(10)"
      ],
      "execution_count": 30,
      "outputs": [
        {
          "output_type": "stream",
          "text": [
            "+--------------------+----------+----------+--------------------+\n",
            "|      scaledFeatures|Deal_Stage|prediction|         probability|\n",
            "+--------------------+----------+----------+--------------------+\n",
            "|[0.01792014053808...|         1|       1.0|[0.38619960979760...|\n",
            "|[0.01792014053808...|         1|       1.0|[0.38619960979760...|\n",
            "|[0.01879429373506...|         1|       1.0|[0.38619960979760...|\n",
            "|[0.01923137033355...|         1|       1.0|[0.38619960979760...|\n",
            "|[0.01923137033355...|         1|       1.0|[0.38619960979760...|\n",
            "|[0.01966844693204...|         1|       1.0|[0.38619960979760...|\n",
            "|[0.02010552353053...|         0|       0.0|[1.0,2.4840244878...|\n",
            "|[0.02010552353053...|         0|       0.0|[0.99999251343035...|\n",
            "|[0.02010552353053...|         0|       0.0|[0.99197027079861...|\n",
            "|[0.02010552353053...|         0|       0.0|[1.0,2.4840243786...|\n",
            "+--------------------+----------+----------+--------------------+\n",
            "only showing top 10 rows\n",
            "\n"
          ],
          "name": "stdout"
        }
      ]
    },
    {
      "cell_type": "code",
      "metadata": {
        "id": "tKbGW5OBkTGQ",
        "colab_type": "code",
        "colab": {
          "base_uri": "https://localhost:8080/",
          "height": 235
        },
        "outputId": "20df8894-5344-4a54-ed62-b97e48529a85"
      },
      "source": [
        "evaluator = BinaryClassificationEvaluator(labelCol=\"Deal_Stage\")\n",
        "print('Test Area Under ROC', evaluator.evaluate(predictions))\n",
        "\n",
        "y_true = predictions.select(['Deal_Stage']).collect()\n",
        "y_pred = predictions.select(['prediction']).collect()\n",
        "\n",
        "print(classification_report(y_true, y_pred))\n",
        "print(confusion_matrix(y_true, y_pred))\n",
        "print('Accuracy: ', accuracy_score(y_true, y_pred))"
      ],
      "execution_count": 31,
      "outputs": [
        {
          "output_type": "stream",
          "text": [
            "Test Area Under ROC 0.6626512163871138\n",
            "              precision    recall  f1-score   support\n",
            "\n",
            "           0       0.96      0.27      0.42       768\n",
            "           1       0.69      0.99      0.81      1252\n",
            "\n",
            "    accuracy                           0.72      2020\n",
            "   macro avg       0.82      0.63      0.61      2020\n",
            "weighted avg       0.79      0.72      0.66      2020\n",
            "\n",
            "[[ 204  564]\n",
            " [   9 1243]]\n",
            "Accuracy:  0.7163366336633663\n"
          ],
          "name": "stdout"
        }
      ]
    },
    {
      "cell_type": "code",
      "metadata": {
        "id": "fSVchikKkTWe",
        "colab_type": "code",
        "colab": {}
      },
      "source": [
        ""
      ],
      "execution_count": null,
      "outputs": []
    }
  ]
}
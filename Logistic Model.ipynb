{
 "cells": [
  {
   "cell_type": "markdown",
   "metadata": {},
   "source": [
    "## In this notebook I have the done the following operations:\n",
    "\n",
    "1. Merging the two provided datasets for predicting chances of deal_closing using Text transcripts from conversations between Sales agents and customers.\n",
    "\n",
    "2. Building a Text Classifier using numeric features as well using a Logistic Regression model using Hyperparameter tuning and different vectorizers( BOW and TFIDF )\n",
    "\n",
    "3. Using a Logistic Regression by applying L1 and L2 penalty for better predictions and convergence.\n",
    "#### All the observations have been documented"
   ]
  },
  {
   "cell_type": "code",
   "execution_count": 4,
   "metadata": {},
   "outputs": [],
   "source": [
    "import pandas as pd\n",
    "import numpy as np\n",
    "import matplotlib.pyplot as plt  \n",
    "import seaborn as sns"
   ]
  },
  {
   "cell_type": "code",
   "execution_count": 5,
   "metadata": {},
   "outputs": [
    {
     "data": {
      "text/html": [
       "<div>\n",
       "<style scoped>\n",
       "    .dataframe tbody tr th:only-of-type {\n",
       "        vertical-align: middle;\n",
       "    }\n",
       "\n",
       "    .dataframe tbody tr th {\n",
       "        vertical-align: top;\n",
       "    }\n",
       "\n",
       "    .dataframe thead th {\n",
       "        text-align: right;\n",
       "    }\n",
       "</style>\n",
       "<table border=\"1\" class=\"dataframe\">\n",
       "  <thead>\n",
       "    <tr style=\"text-align: right;\">\n",
       "      <th></th>\n",
       "      <th>Deal_Stage</th>\n",
       "      <th>Close_Value</th>\n",
       "      <th>DateDiff</th>\n",
       "      <th>Extracted Interaction Text</th>\n",
       "      <th>Ordered_Agent</th>\n",
       "      <th>Ordered_Product</th>\n",
       "    </tr>\n",
       "  </thead>\n",
       "  <tbody>\n",
       "    <tr>\n",
       "      <th>0</th>\n",
       "      <td>1</td>\n",
       "      <td>4639</td>\n",
       "      <td>635</td>\n",
       "      <td>letter response request weekly progress report...</td>\n",
       "      <td>12</td>\n",
       "      <td>3</td>\n",
       "    </tr>\n",
       "    <tr>\n",
       "      <th>1</th>\n",
       "      <td>0</td>\n",
       "      <td>588</td>\n",
       "      <td>725</td>\n",
       "      <td>sorry unable help individual tax return past y...</td>\n",
       "      <td>17</td>\n",
       "      <td>5</td>\n",
       "    </tr>\n",
       "    <tr>\n",
       "      <th>2</th>\n",
       "      <td>0</td>\n",
       "      <td>1026</td>\n",
       "      <td>401</td>\n",
       "      <td>gives immense pleasure write regard offer mark...</td>\n",
       "      <td>11</td>\n",
       "      <td>5</td>\n",
       "    </tr>\n",
       "    <tr>\n",
       "      <th>3</th>\n",
       "      <td>1</td>\n",
       "      <td>5068</td>\n",
       "      <td>29</td>\n",
       "      <td>iop corporation commence reduction work force ...</td>\n",
       "      <td>9</td>\n",
       "      <td>3</td>\n",
       "    </tr>\n",
       "    <tr>\n",
       "      <th>4</th>\n",
       "      <td>0</td>\n",
       "      <td>492</td>\n",
       "      <td>563</td>\n",
       "      <td>want compliment one excellent employees julie ...</td>\n",
       "      <td>27</td>\n",
       "      <td>5</td>\n",
       "    </tr>\n",
       "  </tbody>\n",
       "</table>\n",
       "</div>"
      ],
      "text/plain": [
       "   Deal_Stage  Close_Value  DateDiff  \\\n",
       "0           1         4639       635   \n",
       "1           0          588       725   \n",
       "2           0         1026       401   \n",
       "3           1         5068        29   \n",
       "4           0          492       563   \n",
       "\n",
       "                          Extracted Interaction Text  Ordered_Agent  \\\n",
       "0  letter response request weekly progress report...             12   \n",
       "1  sorry unable help individual tax return past y...             17   \n",
       "2  gives immense pleasure write regard offer mark...             11   \n",
       "3  iop corporation commence reduction work force ...              9   \n",
       "4  want compliment one excellent employees julie ...             27   \n",
       "\n",
       "   Ordered_Product  \n",
       "0                3  \n",
       "1                5  \n",
       "2                5  \n",
       "3                3  \n",
       "4                5  "
      ]
     },
     "execution_count": 5,
     "metadata": {},
     "output_type": "execute_result"
    }
   ],
   "source": [
    "df = pd.read_csv('clean_sales.csv', index_col=0)\n",
    "df.head()"
   ]
  },
  {
   "cell_type": "code",
   "execution_count": 19,
   "metadata": {},
   "outputs": [],
   "source": [
    "from sklearn.preprocessing import RobustScaler\n",
    "import sqlite3\n",
    "from sklearn.feature_extraction.text import CountVectorizer\n",
    "from sklearn.feature_extraction.text import TfidfVectorizer\n",
    "from sklearn.metrics import confusion_matrix, roc_auc_score\n",
    "from sklearn.metrics import roc_curve, auc, accuracy_score\n",
    "from sklearn.metrics import classification_report\n",
    "from prettytable import PrettyTable"
   ]
  },
  {
   "cell_type": "code",
   "execution_count": 7,
   "metadata": {},
   "outputs": [],
   "source": [
    "X = df['Extracted Interaction Text']\n",
    "y = df['Deal_Stage']"
   ]
  },
  {
   "cell_type": "code",
   "execution_count": 8,
   "metadata": {},
   "outputs": [],
   "source": [
    "from sklearn.model_selection import train_test_split\n",
    "X_Train, X_test, y_Train, y_test = train_test_split(X, y, test_size=0.2, random_state=42, stratify=y, shuffle=True)\n",
    "\n",
    "X_train, X_cross, y_train, y_cross = train_test_split(X_Train, y_Train, test_size=0.1, random_state=42, shuffle=True)"
   ]
  },
  {
   "cell_type": "code",
   "execution_count": 18,
   "metadata": {},
   "outputs": [],
   "source": [
    "from sklearn.linear_model import LogisticRegression"
   ]
  },
  {
   "cell_type": "markdown",
   "metadata": {},
   "source": [
    "# Bag of Words"
   ]
  },
  {
   "cell_type": "code",
   "execution_count": 19,
   "metadata": {},
   "outputs": [],
   "source": [
    "count= CountVectorizer()"
   ]
  },
  {
   "cell_type": "code",
   "execution_count": 20,
   "metadata": {},
   "outputs": [],
   "source": [
    "count.fit(X_train)\n",
    "Train_BOW = count.transform(X_train)\n",
    "CrossVal_BOW = count.transform(X_cross)\n",
    "Test_BOW= count.transform(X_test)"
   ]
  },
  {
   "cell_type": "code",
   "execution_count": 21,
   "metadata": {},
   "outputs": [],
   "source": [
    "#Logistic Regression using BOW on only text feature"
   ]
  },
  {
   "cell_type": "code",
   "execution_count": 24,
   "metadata": {},
   "outputs": [],
   "source": [
    "c=[0.0001,0.001,0.01,0.1,1,10,100,1000]\n",
    "Train_AUC_BOW = []\n",
    "CrossVal_AUC_BOW = []\n",
    "for i in c:\n",
    "  logreg = LogisticRegression(C=i)\n",
    "  logreg.fit(Train_BOW, y_train)\n",
    "  Train_y_pred =  logreg.predict_proba(Train_BOW)[:,1]\n",
    "  Train_AUC_BOW.append(roc_auc_score(y_train,Train_y_pred))\n",
    "  CrossVal_y_pred =  logreg.predict_proba(CrossVal_BOW)[:,1]\n",
    "  CrossVal_AUC_BOW.append(roc_auc_score(y_cross,CrossVal_y_pred))"
   ]
  },
  {
   "cell_type": "code",
   "execution_count": 25,
   "metadata": {},
   "outputs": [],
   "source": [
    "C=[]\n",
    "for i in range(len(c)):\n",
    "  C.append(np.math.log(c[i]))"
   ]
  },
  {
   "cell_type": "code",
   "execution_count": 26,
   "metadata": {},
   "outputs": [
    {
     "data": {
      "image/png": "[encoded data removed]",
      "text/plain": [
       "<Figure size 432x288 with 1 Axes>"
      ]
     },
     "metadata": {
      "needs_background": "light"
     },
     "output_type": "display_data"
    }
   ],
   "source": [
    "plt.plot(C, Train_AUC_BOW, label='Train AUC')\n",
    "plt.scatter(C, Train_AUC_BOW)\n",
    "plt.plot(C, CrossVal_AUC_BOW, label='CrossVal AUC')\n",
    "plt.scatter(C, CrossVal_AUC_BOW)\n",
    "plt.legend()\n",
    "plt.xlabel(\"lambda : hyperparameter\")\n",
    "plt.ylabel(\"AUC\")\n",
    "plt.title(\"ERROR PLOTS\")\n",
    "plt.show()"
   ]
  },
  {
   "cell_type": "code",
   "execution_count": 28,
   "metadata": {},
   "outputs": [
    {
     "name": "stdout",
     "output_type": "stream",
     "text": [
      "0.0001\n"
     ]
    }
   ],
   "source": [
    "optimal_inverse_lambda=c[CrossVal_AUC_BOW.index(max(CrossVal_AUC_BOW))]\n",
    "print(optimal_inverse_lambda)"
   ]
  },
  {
   "cell_type": "code",
   "execution_count": 30,
   "metadata": {},
   "outputs": [],
   "source": [
    "Classifier=LogisticRegression(C=optimal_inverse_lambda)\n",
    "Classifier.fit(Train_BOW,y_train)\n",
    "Train_FPR, Train_TPR, Thresholds = roc_curve(y_train, Classifier.predict_proba(Train_BOW)[:,1])\n",
    "Test_FPR, Test_TPR, Thresholds = roc_curve(y_test, Classifier.predict_proba(Test_BOW)[:,1])"
   ]
  },
  {
   "cell_type": "code",
   "execution_count": 31,
   "metadata": {},
   "outputs": [
    {
     "data": {
      "image/png": "[encoded data removed]",
      "text/plain": [
       "<Figure size 432x288 with 1 Axes>"
      ]
     },
     "metadata": {
      "needs_background": "light"
     },
     "output_type": "display_data"
    }
   ],
   "source": [
    "plt.plot(Train_FPR, Train_TPR, label=\"Train AUC =\"+str(auc(Train_FPR, Train_TPR)))\n",
    "plt.plot(Test_FPR, Test_TPR, label=\"Test AUC =\"+str(auc(Test_FPR, Test_TPR)))\n",
    "plt.legend()\n",
    "plt.xlabel(\"lambda : hyperparameter\")\n",
    "plt.ylabel(\"AUC\")\n",
    "plt.title(\"ERROR PLOTS\")\n",
    "plt.show()"
   ]
  },
  {
   "cell_type": "code",
   "execution_count": 32,
   "metadata": {},
   "outputs": [],
   "source": [
    "y_pred = Classifier.predict(Test_BOW)"
   ]
  },
  {
   "cell_type": "code",
   "execution_count": 33,
   "metadata": {},
   "outputs": [
    {
     "name": "stdout",
     "output_type": "stream",
     "text": [
      "[[    0 52124]\n",
      " [    0 88696]]\n",
      "Accuracy of our model is:  0.629853713961085\n"
     ]
    }
   ],
   "source": [
    "print(confusion_matrix(y_test, y_pred))\n",
    "print('Accuracy of our model is: ', accuracy_score(y_test, y_pred))"
   ]
  },
  {
   "cell_type": "code",
   "execution_count": 34,
   "metadata": {},
   "outputs": [
    {
     "name": "stdout",
     "output_type": "stream",
     "text": [
      "              precision    recall  f1-score   support\n",
      "\n",
      "           0       0.00      0.00      0.00     52124\n",
      "           1       0.63      1.00      0.77     88696\n",
      "\n",
      "    accuracy                           0.63    140820\n",
      "   macro avg       0.31      0.50      0.39    140820\n",
      "weighted avg       0.40      0.63      0.49    140820\n",
      "\n"
     ]
    },
    {
     "name": "stderr",
     "output_type": "stream",
     "text": [
      "C:\\Users\\SIDDHARTH\\Anaconda3\\lib\\site-packages\\sklearn\\metrics\\_classification.py:1272: UndefinedMetricWarning: Precision and F-score are ill-defined and being set to 0.0 in labels with no predicted samples. Use `zero_division` parameter to control this behavior.\n",
      "  _warn_prf(average, modifier, msg_start, len(result))\n"
     ]
    }
   ],
   "source": [
    "print(classification_report(y_test, y_pred))"
   ]
  },
  {
   "cell_type": "code",
   "execution_count": 37,
   "metadata": {},
   "outputs": [
    {
     "name": "stdout",
     "output_type": "stream",
     "text": [
      "Top 10 negative class words\n",
      "[(-0.008777004626901076, 'begin'), (-0.007930378974487251, 'last'), (-0.007180138126354252, 'however'), (-0.006905575634971576, 'ideas'), (-0.006728467759182713, 'working'), (-0.006590983913964734, 'soon'), (-0.0060358204882998215, 'take'), (-0.005769520211329075, 'business'), (-0.005735818596150227, 'possible'), (-0.005321459563623918, 'getting')]\n",
      "Top 10 positive class words\n",
      "[(0.00986654009410282, 'proposal'), (0.0073852819892179095, 'next'), (0.006591608892731516, 'sure'), (0.005956424210337052, 'please'), (0.004961084779639781, 'proceed'), (0.004961084779639781, 'pricing'), (0.004905667325966142, 'percent'), (0.004775300522958226, 'unfortunately'), (0.004703317112210402, 'high'), (0.004611943901751719, 'another')]\n"
     ]
    }
   ],
   "source": [
    "feature_names = count.get_feature_names()\n",
    "prob_sorted = sorted(zip(Classifier.coef_[0], feature_names))\n",
    "print(\"Top 10 negative class words\")\n",
    "print(prob_sorted[:10])\n",
    "print(\"Top 10 positive class words\")\n",
    "print(prob_sorted[:-(11):-1])"
   ]
  },
  {
   "cell_type": "code",
   "execution_count": 35,
   "metadata": {},
   "outputs": [],
   "source": [
    "# We see that a Logistic Regression model using BOW classifies each example to a single class"
   ]
  },
  {
   "cell_type": "code",
   "execution_count": 100,
   "metadata": {},
   "outputs": [],
   "source": [
    "#Now using the other numeric features along with the text features"
   ]
  },
  {
   "cell_type": "code",
   "execution_count": 10,
   "metadata": {},
   "outputs": [],
   "source": [
    "from scipy.sparse import hstack"
   ]
  },
  {
   "cell_type": "code",
   "execution_count": 11,
   "metadata": {},
   "outputs": [],
   "source": [
    "X = df.drop('Deal_Stage', axis=1)\n",
    "y = df['Deal_Stage']"
   ]
  },
  {
   "cell_type": "code",
   "execution_count": 12,
   "metadata": {},
   "outputs": [],
   "source": [
    "X_Train, X_test, y_Train, y_test = train_test_split(X, y, test_size=0.2, random_state=42, stratify=y, shuffle=True)\n",
    "\n",
    "X_train, X_cross, y_train, y_cross = train_test_split(X_Train, y_Train, test_size=0.1, random_state=42, shuffle=True)"
   ]
  },
  {
   "cell_type": "code",
   "execution_count": 13,
   "metadata": {},
   "outputs": [],
   "source": [
    "Train_agent=[]\n",
    "for i in X_train['Ordered_Agent']:\n",
    "    Train_agent.append(i)\n",
    "Train_pdt=[]\n",
    "for i in X_train['Ordered_Product']:\n",
    "    Train_pdt.append(i)\n",
    "Train_diff=[]\n",
    "for i in X_train['DateDiff']:\n",
    "    Train_diff.append(i)\n",
    "Train_val=[]\n",
    "for i in X_train['Close_Value']:\n",
    "    Train_val.append(i)"
   ]
  },
  {
   "cell_type": "code",
   "execution_count": 14,
   "metadata": {},
   "outputs": [],
   "source": [
    "cross_agent=[]\n",
    "for i in X_cross['Ordered_Agent']:\n",
    "    cross_agent.append(i)\n",
    "cross_pdt=[]\n",
    "for i in X_cross['Ordered_Product']:\n",
    "    cross_pdt.append(i)\n",
    "cross_diff=[]\n",
    "for i in X_cross['DateDiff']:\n",
    "    cross_diff.append(i)\n",
    "cross_val=[]\n",
    "for i in X_cross['Close_Value']:\n",
    "    cross_val.append(i)"
   ]
  },
  {
   "cell_type": "code",
   "execution_count": 15,
   "metadata": {},
   "outputs": [],
   "source": [
    "test_agent=[]\n",
    "for i in X_test['Ordered_Agent']:\n",
    "    test_agent.append(i)\n",
    "test_pdt=[]\n",
    "for i in X_test['Ordered_Product']:\n",
    "    test_pdt.append(i)\n",
    "test_diff=[]\n",
    "for i in X_test['DateDiff']:\n",
    "    test_diff.append(i)\n",
    "test_val=[]\n",
    "for i in X_test['Close_Value']:\n",
    "    test_val.append(i)"
   ]
  },
  {
   "cell_type": "code",
   "execution_count": 52,
   "metadata": {},
   "outputs": [],
   "source": [
    "Train_BOW_mix = (hstack((Train_BOW,np.array(Train_agent)[:,None], np.array(Train_pdt)[:,None], np.array(Train_diff)[:,None], np.array(Train_val)[:,None]))).tocsr()\n",
    "\n",
    "Cross_BOW_mix = (hstack((CrossVal_BOW,np.array(cross_agent)[:,None], np.array(cross_pdt)[:,None], np.array(cross_diff)[:,None], np.array(cross_val)[:,None]))).tocsr()\n",
    "\n",
    "Test_BOW_mix = (hstack((Test_BOW,np.array(test_agent)[:,None], np.array(test_pdt)[:,None], np.array(test_diff)[:,None], np.array(test_val)[:,None]))).tocsr()"
   ]
  },
  {
   "cell_type": "code",
   "execution_count": 26,
   "metadata": {},
   "outputs": [],
   "source": [
    "# Model building using Text + Numeric Features"
   ]
  },
  {
   "cell_type": "code",
   "execution_count": 53,
   "metadata": {
    "collapsed": true
   },
   "outputs": [
    {
     "name": "stderr",
     "output_type": "stream",
     "text": [
      "C:\\Users\\SIDDHARTH\\Anaconda3\\lib\\site-packages\\sklearn\\linear_model\\_logistic.py:940: ConvergenceWarning: lbfgs failed to converge (status=1):\n",
      "STOP: TOTAL NO. of ITERATIONS REACHED LIMIT.\n",
      "\n",
      "Increase the number of iterations (max_iter) or scale the data as shown in:\n",
      "    https://scikit-learn.org/stable/modules/preprocessing.html\n",
      "Please also refer to the documentation for alternative solver options:\n",
      "    https://scikit-learn.org/stable/modules/linear_model.html#logistic-regression\n",
      "  extra_warning_msg=_LOGISTIC_SOLVER_CONVERGENCE_MSG)\n",
      "C:\\Users\\SIDDHARTH\\Anaconda3\\lib\\site-packages\\sklearn\\linear_model\\_logistic.py:940: ConvergenceWarning: lbfgs failed to converge (status=1):\n",
      "STOP: TOTAL NO. of ITERATIONS REACHED LIMIT.\n",
      "\n",
      "Increase the number of iterations (max_iter) or scale the data as shown in:\n",
      "    https://scikit-learn.org/stable/modules/preprocessing.html\n",
      "Please also refer to the documentation for alternative solver options:\n",
      "    https://scikit-learn.org/stable/modules/linear_model.html#logistic-regression\n",
      "  extra_warning_msg=_LOGISTIC_SOLVER_CONVERGENCE_MSG)\n"
     ]
    }
   ],
   "source": [
    "c=[0.0001,0.001,0.01,0.1,1,10,100,1000]\n",
    "Train_AUC_BOW = []\n",
    "CrossVal_AUC_BOW = []\n",
    "for i in c:\n",
    "  logreg = LogisticRegression(C=i)\n",
    "  logreg.fit(Train_BOW_mix, y_train)\n",
    "  Train_y_pred =  logreg.predict_proba(Train_BOW_mix)[:,1]\n",
    "  Train_AUC_BOW.append(roc_auc_score(y_train,Train_y_pred))\n",
    "  CrossVal_y_pred =  logreg.predict_proba(Cross_BOW_mix)[:,1]\n",
    "  CrossVal_AUC_BOW.append(roc_auc_score(y_cross,CrossVal_y_pred))"
   ]
  },
  {
   "cell_type": "code",
   "execution_count": 55,
   "metadata": {},
   "outputs": [],
   "source": [
    "C=[]\n",
    "for i in range(len(c)):\n",
    "  C.append(np.math.log(c[i]))"
   ]
  },
  {
   "cell_type": "code",
   "execution_count": 56,
   "metadata": {},
   "outputs": [
    {
     "data": {
      "image/png": "[encoded data removed]",
      "text/plain": [
       "<Figure size 432x288 with 1 Axes>"
      ]
     },
     "metadata": {
      "needs_background": "light"
     },
     "output_type": "display_data"
    }
   ],
   "source": [
    "plt.plot(C, Train_AUC_BOW, label='Train AUC')\n",
    "plt.scatter(C, Train_AUC_BOW)\n",
    "plt.plot(C, CrossVal_AUC_BOW, label='CrossVal AUC')\n",
    "plt.scatter(C, CrossVal_AUC_BOW)\n",
    "plt.legend()\n",
    "plt.xlabel(\"lambda : hyperparameter\")\n",
    "plt.ylabel(\"AUC\")\n",
    "plt.title(\"ERROR PLOTS\")\n",
    "plt.show()"
   ]
  },
  {
   "cell_type": "code",
   "execution_count": 57,
   "metadata": {},
   "outputs": [
    {
     "name": "stdout",
     "output_type": "stream",
     "text": [
      "0.0001\n"
     ]
    }
   ],
   "source": [
    "optimal_inverse_lambda=c[CrossVal_AUC_BOW.index(max(CrossVal_AUC_BOW))]\n",
    "print(optimal_inverse_lambda)"
   ]
  },
  {
   "cell_type": "code",
   "execution_count": 102,
   "metadata": {},
   "outputs": [
    {
     "name": "stderr",
     "output_type": "stream",
     "text": [
      "C:\\Users\\SIDDHARTH\\Anaconda3\\lib\\site-packages\\sklearn\\linear_model\\_logistic.py:940: ConvergenceWarning: lbfgs failed to converge (status=1):\n",
      "STOP: TOTAL NO. of ITERATIONS REACHED LIMIT.\n",
      "\n",
      "Increase the number of iterations (max_iter) or scale the data as shown in:\n",
      "    https://scikit-learn.org/stable/modules/preprocessing.html\n",
      "Please also refer to the documentation for alternative solver options:\n",
      "    https://scikit-learn.org/stable/modules/linear_model.html#logistic-regression\n",
      "  extra_warning_msg=_LOGISTIC_SOLVER_CONVERGENCE_MSG)\n"
     ]
    }
   ],
   "source": [
    "Classifier=LogisticRegression(C=optimal_inverse_lambda)\n",
    "Classifier.fit(Train_BOW_mix,y_train)\n",
    "Train_FPR, Train_TPR, Thresholds = roc_curve(y_train, Classifier.predict_proba(Train_BOW_mix)[:,1])\n",
    "Test_FPR, Test_TPR, Thresholds = roc_curve(y_test, Classifier.predict_proba(Test_BOW_mix)[:,1])"
   ]
  },
  {
   "cell_type": "code",
   "execution_count": 60,
   "metadata": {},
   "outputs": [
    {
     "name": "stderr",
     "output_type": "stream",
     "text": [
      "C:\\Users\\SIDDHARTH\\Anaconda3\\lib\\site-packages\\IPython\\core\\pylabtools.py:128: UserWarning: Creating legend with loc=\"best\" can be slow with large amounts of data.\n",
      "  fig.canvas.print_figure(bytes_io, **kw)\n"
     ]
    },
    {
     "data": {
      "image/png": "[encoded data removed]",
      "text/plain": [
       "<Figure size 432x288 with 1 Axes>"
      ]
     },
     "metadata": {
      "needs_background": "light"
     },
     "output_type": "display_data"
    }
   ],
   "source": [
    "plt.plot(Train_FPR, Train_TPR, label=\"Train AUC =\"+str(auc(Train_FPR, Train_TPR)))\n",
    "plt.plot(Test_FPR, Test_TPR, label=\"Test AUC =\"+str(auc(Test_FPR, Test_TPR)))\n",
    "plt.legend()\n",
    "plt.xlabel(\"lambda : hyperparameter\")\n",
    "plt.ylabel(\"AUC\")\n",
    "plt.title(\"ERROR PLOTS\")\n",
    "plt.show()"
   ]
  },
  {
   "cell_type": "code",
   "execution_count": 62,
   "metadata": {},
   "outputs": [],
   "source": [
    "y_pred = Classifier.predict(Test_BOW_mix)"
   ]
  },
  {
   "cell_type": "code",
   "execution_count": 63,
   "metadata": {},
   "outputs": [
    {
     "name": "stdout",
     "output_type": "stream",
     "text": [
      "[[12376 39748]\n",
      " [ 4147 84549]]\n",
      "Accuracy of our model is:  0.6882900156227808\n",
      "              precision    recall  f1-score   support\n",
      "\n",
      "           0       0.75      0.24      0.36     52124\n",
      "           1       0.68      0.95      0.79     88696\n",
      "\n",
      "    accuracy                           0.69    140820\n",
      "   macro avg       0.71      0.60      0.58    140820\n",
      "weighted avg       0.71      0.69      0.63    140820\n",
      "\n"
     ]
    }
   ],
   "source": [
    "print(confusion_matrix(y_test, y_pred))\n",
    "print('Accuracy of our model is: ', accuracy_score(y_test, y_pred))\n",
    "\n",
    "print(classification_report(y_test, y_pred))"
   ]
  },
  {
   "cell_type": "code",
   "execution_count": 103,
   "metadata": {},
   "outputs": [
    {
     "name": "stdout",
     "output_type": "stream",
     "text": [
      "Top 10 negative class words\n",
      "[(-0.060362920547825674, 'time'), (-0.0408857447915864, 'product'), (-0.034986237510186986, 'meet'), (-0.031738004515687104, 'new'), (-0.0297931836021813, 'us'), (-0.029613070877198895, 'inform'), (-0.029381713548403642, 'thank'), (-0.027295798212657645, 'work'), (-0.02671878605742858, 'need'), (-0.02581117278947182, 'last')]\n",
      "Top 10 positive class words\n",
      "[(0.011695532820607568, 'proposal'), (0.007013477995242535, 'conduct'), (0.0066020559267251, 'marketing'), (0.005993660499384265, 'accepted'), (0.0057505203124596505, 'looking'), (0.005745047476379108, 'reply'), (0.005466849587026959, 'percent'), (0.00468786134434446, 'responsiveness'), (0.00468786134434446, 'recommended'), (0.00468786134434446, 'provides')]\n"
     ]
    }
   ],
   "source": [
    "feature_names = count.get_feature_names()\n",
    "prob_sorted = sorted(zip(Classifier.coef_[0], feature_names))\n",
    "print(\"Top 10 negative class words\")\n",
    "print(prob_sorted[:10])\n",
    "print(\"Top 10 positive class words\")\n",
    "print(prob_sorted[:-(11):-1])"
   ]
  },
  {
   "cell_type": "code",
   "execution_count": 104,
   "metadata": {},
   "outputs": [],
   "source": [
    "# Using L1 penalty"
   ]
  },
  {
   "cell_type": "code",
   "execution_count": 95,
   "metadata": {},
   "outputs": [
    {
     "data": {
      "text/plain": [
       "LogisticRegression(C=0.001, class_weight=None, dual=False, fit_intercept=True,\n",
       "                   intercept_scaling=1, l1_ratio=None, max_iter=100,\n",
       "                   multi_class='auto', n_jobs=None, penalty='l1',\n",
       "                   random_state=None, solver='liblinear', tol=0.0001, verbose=0,\n",
       "                   warm_start=False)"
      ]
     },
     "execution_count": 95,
     "metadata": {},
     "output_type": "execute_result"
    }
   ],
   "source": [
    "Classifier=LogisticRegression(C=optimal_inverse_lambda,penalty='l1', solver='liblinear' )\n",
    "Classifier.fit(Train_BOW_mix,y_train)"
   ]
  },
  {
   "cell_type": "code",
   "execution_count": 96,
   "metadata": {},
   "outputs": [],
   "source": [
    "y_pred = Classifier.predict(Test_BOW_mix)"
   ]
  },
  {
   "cell_type": "code",
   "execution_count": 97,
   "metadata": {},
   "outputs": [
    {
     "name": "stdout",
     "output_type": "stream",
     "text": [
      "[[12055 40069]\n",
      " [ 2920 85776]]\n",
      "Accuracy of our model is:  0.6947237608294277\n",
      "              precision    recall  f1-score   support\n",
      "\n",
      "           0       0.81      0.23      0.36     52124\n",
      "           1       0.68      0.97      0.80     88696\n",
      "\n",
      "    accuracy                           0.69    140820\n",
      "   macro avg       0.74      0.60      0.58    140820\n",
      "weighted avg       0.73      0.69      0.64    140820\n",
      "\n"
     ]
    }
   ],
   "source": [
    "print(confusion_matrix(y_test, y_pred))\n",
    "print('Accuracy of our model is: ', accuracy_score(y_test, y_pred))\n",
    "\n",
    "print(classification_report(y_test, y_pred))"
   ]
  },
  {
   "cell_type": "code",
   "execution_count": null,
   "metadata": {},
   "outputs": [],
   "source": []
  },
  {
   "cell_type": "markdown",
   "metadata": {},
   "source": [
    "# TF-IDF"
   ]
  },
  {
   "cell_type": "code",
   "execution_count": 101,
   "metadata": {},
   "outputs": [],
   "source": [
    "# TF-IDF vectorizer using l2 penalty"
   ]
  },
  {
   "cell_type": "code",
   "execution_count": 9,
   "metadata": {},
   "outputs": [],
   "source": [
    "tf_idf=TfidfVectorizer(min_df=5,use_idf=True,ngram_range=(2,3))\n",
    "tf_idf.fit(X_train)\n",
    "Train_TFIDF = tf_idf.transform(X_train)\n",
    "CrossVal_TFIDF = tf_idf.transform(X_cross)\n",
    "Test_TFIDF= tf_idf.transform(X_test)"
   ]
  },
  {
   "cell_type": "code",
   "execution_count": 40,
   "metadata": {},
   "outputs": [],
   "source": [
    "c=[0.0001,0.001,0.01,0.1,1,10,100,1000]\n",
    "Train_AUC_TFIDF = []\n",
    "CrossVal_AUC_TFIDF = []\n",
    "for i in c:\n",
    "  logreg = LogisticRegression(C=i,penalty='l2')\n",
    "  logreg.fit(Train_TFIDF, y_train)\n",
    "  Train_y_pred =  logreg.predict_proba(Train_TFIDF)[:,1]\n",
    "  Train_AUC_TFIDF.append(roc_auc_score(y_train,Train_y_pred))\n",
    "  CrossVal_y_pred =  logreg.predict_proba(CrossVal_TFIDF)[:,1]\n",
    "  CrossVal_AUC_TFIDF.append(roc_auc_score(y_cross,CrossVal_y_pred))"
   ]
  },
  {
   "cell_type": "code",
   "execution_count": 41,
   "metadata": {},
   "outputs": [],
   "source": [
    "C=[]\n",
    "for i in range(len(c)):\n",
    "  C.append(np.math.log(c[i]))"
   ]
  },
  {
   "cell_type": "code",
   "execution_count": 42,
   "metadata": {},
   "outputs": [
    {
     "data": {
      "image/png": "[encoded data removed]",
      "text/plain": [
       "<Figure size 432x288 with 1 Axes>"
      ]
     },
     "metadata": {
      "needs_background": "light"
     },
     "output_type": "display_data"
    }
   ],
   "source": [
    "plt.plot(C, Train_AUC_TFIDF, label='Train AUC')\n",
    "plt.scatter(C, Train_AUC_TFIDF)\n",
    "plt.plot(C, CrossVal_AUC_TFIDF, label='CrossVal AUC')\n",
    "plt.scatter(C, CrossVal_AUC_TFIDF)\n",
    "plt.legend()\n",
    "plt.xlabel(\"lambda : hyperparameter\")\n",
    "plt.ylabel(\"AUC\")\n",
    "plt.title(\"ERROR PLOTS\")\n",
    "plt.show()"
   ]
  },
  {
   "cell_type": "code",
   "execution_count": 43,
   "metadata": {},
   "outputs": [],
   "source": [
    "optimal_inverse_lambda=c[CrossVal_AUC_TFIDF.index(max(CrossVal_AUC_TFIDF))]"
   ]
  },
  {
   "cell_type": "code",
   "execution_count": 105,
   "metadata": {},
   "outputs": [
    {
     "data": {
      "text/plain": [
       "LogisticRegression(C=0.001, class_weight=None, dual=False, fit_intercept=True,\n",
       "                   intercept_scaling=1, l1_ratio=None, max_iter=100,\n",
       "                   multi_class='auto', n_jobs=None, penalty='l2',\n",
       "                   random_state=None, solver='lbfgs', tol=0.0001, verbose=0,\n",
       "                   warm_start=False)"
      ]
     },
     "execution_count": 105,
     "metadata": {},
     "output_type": "execute_result"
    }
   ],
   "source": [
    "Classifier=LogisticRegression(C=optimal_inverse_lambda,penalty='l2')\n",
    "Classifier.fit(Train_TFIDF, y_train)"
   ]
  },
  {
   "cell_type": "code",
   "execution_count": 45,
   "metadata": {},
   "outputs": [
    {
     "name": "stdout",
     "output_type": "stream",
     "text": [
      "[[    0 52124]\n",
      " [    0 88696]]\n",
      "Accuracy of our model is:  0.629853713961085\n"
     ]
    }
   ],
   "source": [
    "y_pred = Classifier.predict(Test_TFIDF)\n",
    "print(confusion_matrix(y_test, y_pred))\n",
    "print('Accuracy of our model is: ', accuracy_score(y_test, y_pred))"
   ]
  },
  {
   "cell_type": "code",
   "execution_count": 106,
   "metadata": {},
   "outputs": [
    {
     "name": "stdout",
     "output_type": "stream",
     "text": [
      "Top 10 negative class words\n",
      "[(-0.024799775957053283, 'able meet'), (-0.017176456961063787, 'product impressive'), (-0.017039263422046577, 'available call'), (-0.013880422263924663, 'deal closed'), (-0.012375533412350313, 'begin project'), (-0.012375533412350313, 'begin project soon'), (-0.012375533412350313, 'like begin'), (-0.012375533412350313, 'like begin project'), (-0.012375533412350313, 'possible look'), (-0.012375533412350313, 'possible look forward')]\n",
      "Top 10 positive class words\n",
      "[(0.054463681032613634, 'like proposal'), (0.026475346845924976, 'convinced idea'), (0.017085994395133176, 'proceed deal pricing'), (0.017085994395133176, 'proceed deal'), (0.017085994395133176, 'pricing high'), (0.017085994395133176, 'deal pricing high'), (0.017085994395133176, 'deal pricing'), (0.014405088142948726, 'accept proposal'), (0.012469120044095257, 'sure need product'), (0.012469120044095257, 'sure need')]\n"
     ]
    }
   ],
   "source": [
    "feature_names = tf_idf.get_feature_names()\n",
    "prob_sorted = sorted(zip(Classifier.coef_[0], feature_names))\n",
    "print(\"Top 10 negative class words\")\n",
    "print(prob_sorted[:10])\n",
    "print(\"Top 10 positive class words\")\n",
    "print(prob_sorted[:-(11):-1])"
   ]
  },
  {
   "cell_type": "code",
   "execution_count": 65,
   "metadata": {},
   "outputs": [],
   "source": [
    "#Uisng Numeric Features as well"
   ]
  },
  {
   "cell_type": "code",
   "execution_count": 16,
   "metadata": {},
   "outputs": [],
   "source": [
    "Train_TFIDF_mix = (hstack((Train_TFIDF,np.array(Train_agent)[:,None], np.array(Train_pdt)[:,None], np.array(Train_diff)[:,None], np.array(Train_val)[:,None]))).tocsr()\n",
    "\n",
    "Cross_TFIDF_mix = (hstack((CrossVal_TFIDF,np.array(cross_agent)[:,None], np.array(cross_pdt)[:,None], np.array(cross_diff)[:,None], np.array(cross_val)[:,None]))).tocsr()\n",
    "\n",
    "Test_TFIDF_mix = (hstack((Test_TFIDF,np.array(test_agent)[:,None], np.array(test_pdt)[:,None], np.array(test_diff)[:,None], np.array(test_val)[:,None]))).tocsr()"
   ]
  },
  {
   "cell_type": "code",
   "execution_count": 71,
   "metadata": {},
   "outputs": [],
   "source": [
    "c=[0.0001,0.001,0.01,0.1,1,10,100,1000]\n",
    "Train_AUC_TFIDF = []\n",
    "CrossVal_AUC_TFIDF = []\n",
    "for i in c:\n",
    "  logreg = LogisticRegression(C=i,penalty='l2')\n",
    "  logreg.fit(Train_TFIDF_mix, y_train)\n",
    "  Train_y_pred =  logreg.predict_proba(Train_TFIDF_mix)[:,1]\n",
    "  Train_AUC_TFIDF.append(roc_auc_score(y_train,Train_y_pred))\n",
    "  CrossVal_y_pred =  logreg.predict_proba(Cross_TFIDF_mix)[:,1]\n",
    "  CrossVal_AUC_TFIDF.append(roc_auc_score(y_cross,CrossVal_y_pred))"
   ]
  },
  {
   "cell_type": "code",
   "execution_count": 72,
   "metadata": {},
   "outputs": [],
   "source": [
    "C=[]\n",
    "for i in range(len(c)):\n",
    "  C.append(np.math.log(c[i]))"
   ]
  },
  {
   "cell_type": "code",
   "execution_count": 73,
   "metadata": {},
   "outputs": [
    {
     "data": {
      "image/png": "[encoded data removed]",
      "text/plain": [
       "<Figure size 432x288 with 1 Axes>"
      ]
     },
     "metadata": {
      "needs_background": "light"
     },
     "output_type": "display_data"
    }
   ],
   "source": [
    "plt.plot(C, Train_AUC_TFIDF, label='Train AUC')\n",
    "plt.scatter(C, Train_AUC_TFIDF)\n",
    "plt.plot(C, CrossVal_AUC_TFIDF, label='CrossVal AUC')\n",
    "plt.scatter(C, CrossVal_AUC_TFIDF)\n",
    "plt.legend()\n",
    "plt.xlabel(\"lambda : hyperparameter\")\n",
    "plt.ylabel(\"AUC\")\n",
    "plt.title(\"ERROR PLOTS\")\n",
    "plt.show()"
   ]
  },
  {
   "cell_type": "code",
   "execution_count": 75,
   "metadata": {},
   "outputs": [],
   "source": [
    "optimal_inverse_lambda=c[CrossVal_AUC_TFIDF.index(max(CrossVal_AUC_TFIDF))]"
   ]
  },
  {
   "cell_type": "code",
   "execution_count": 76,
   "metadata": {},
   "outputs": [
    {
     "data": {
      "text/plain": [
       "LogisticRegression(C=0.0001, class_weight=None, dual=False, fit_intercept=True,\n",
       "                   intercept_scaling=1, l1_ratio=None, max_iter=100,\n",
       "                   multi_class='auto', n_jobs=None, penalty='l2',\n",
       "                   random_state=None, solver='lbfgs', tol=0.0001, verbose=0,\n",
       "                   warm_start=False)"
      ]
     },
     "execution_count": 76,
     "metadata": {},
     "output_type": "execute_result"
    }
   ],
   "source": [
    "Classifier=LogisticRegression(C=optimal_inverse_lambda,penalty='l2')\n",
    "Classifier.fit(Train_TFIDF_mix, y_train)"
   ]
  },
  {
   "cell_type": "code",
   "execution_count": 77,
   "metadata": {},
   "outputs": [
    {
     "name": "stdout",
     "output_type": "stream",
     "text": [
      "[[13801 38323]\n",
      " [ 4069 84627]]\n",
      "Accuracy of our model is:  0.6989632154523505\n",
      "              precision    recall  f1-score   support\n",
      "\n",
      "           0       0.77      0.26      0.39     52124\n",
      "           1       0.69      0.95      0.80     88696\n",
      "\n",
      "    accuracy                           0.70    140820\n",
      "   macro avg       0.73      0.61      0.60    140820\n",
      "weighted avg       0.72      0.70      0.65    140820\n",
      "\n"
     ]
    }
   ],
   "source": [
    "y_pred = Classifier.predict(Test_TFIDF_mix)\n",
    "print(confusion_matrix(y_test, y_pred))\n",
    "print('Accuracy of our model is: ', accuracy_score(y_test, y_pred))\n",
    "\n",
    "print(classification_report(y_test, y_pred))"
   ]
  },
  {
   "cell_type": "code",
   "execution_count": 78,
   "metadata": {},
   "outputs": [],
   "source": [
    "# Lets try using L1 Penalty"
   ]
  },
  {
   "cell_type": "code",
   "execution_count": 20,
   "metadata": {
    "collapsed": true
   },
   "outputs": [
    {
     "ename": "KeyboardInterrupt",
     "evalue": "",
     "output_type": "error",
     "traceback": [
      "\u001b[1;31m---------------------------------------------------------------------------\u001b[0m",
      "\u001b[1;31mKeyboardInterrupt\u001b[0m                         Traceback (most recent call last)",
      "\u001b[1;32m<ipython-input-20-7e1f493b33a0>\u001b[0m in \u001b[0;36m<module>\u001b[1;34m\u001b[0m\n\u001b[0;32m      4\u001b[0m \u001b[1;32mfor\u001b[0m \u001b[0mi\u001b[0m \u001b[1;32min\u001b[0m \u001b[0mc\u001b[0m\u001b[1;33m:\u001b[0m\u001b[1;33m\u001b[0m\u001b[1;33m\u001b[0m\u001b[0m\n\u001b[0;32m      5\u001b[0m   \u001b[0mlogreg\u001b[0m \u001b[1;33m=\u001b[0m \u001b[0mLogisticRegression\u001b[0m\u001b[1;33m(\u001b[0m\u001b[0mC\u001b[0m\u001b[1;33m=\u001b[0m\u001b[0mi\u001b[0m\u001b[1;33m,\u001b[0m\u001b[0mpenalty\u001b[0m\u001b[1;33m=\u001b[0m\u001b[1;34m'l1'\u001b[0m\u001b[1;33m,\u001b[0m\u001b[0msolver\u001b[0m\u001b[1;33m=\u001b[0m\u001b[1;34m'liblinear'\u001b[0m\u001b[1;33m)\u001b[0m\u001b[1;33m\u001b[0m\u001b[1;33m\u001b[0m\u001b[0m\n\u001b[1;32m----> 6\u001b[1;33m   \u001b[0mlogreg\u001b[0m\u001b[1;33m.\u001b[0m\u001b[0mfit\u001b[0m\u001b[1;33m(\u001b[0m\u001b[0mTrain_TFIDF_mix\u001b[0m\u001b[1;33m,\u001b[0m \u001b[0my_train\u001b[0m\u001b[1;33m)\u001b[0m\u001b[1;33m\u001b[0m\u001b[1;33m\u001b[0m\u001b[0m\n\u001b[0m\u001b[0;32m      7\u001b[0m   \u001b[0mTrain_y_pred\u001b[0m \u001b[1;33m=\u001b[0m  \u001b[0mlogreg\u001b[0m\u001b[1;33m.\u001b[0m\u001b[0mpredict_proba\u001b[0m\u001b[1;33m(\u001b[0m\u001b[0mTrain_TFIDF_mix\u001b[0m\u001b[1;33m)\u001b[0m\u001b[1;33m[\u001b[0m\u001b[1;33m:\u001b[0m\u001b[1;33m,\u001b[0m\u001b[1;36m1\u001b[0m\u001b[1;33m]\u001b[0m\u001b[1;33m\u001b[0m\u001b[1;33m\u001b[0m\u001b[0m\n\u001b[0;32m      8\u001b[0m   \u001b[0mTrain_AUC_TFIDF\u001b[0m\u001b[1;33m.\u001b[0m\u001b[0mappend\u001b[0m\u001b[1;33m(\u001b[0m\u001b[0mroc_auc_score\u001b[0m\u001b[1;33m(\u001b[0m\u001b[0my_train\u001b[0m\u001b[1;33m,\u001b[0m\u001b[0mTrain_y_pred\u001b[0m\u001b[1;33m)\u001b[0m\u001b[1;33m)\u001b[0m\u001b[1;33m\u001b[0m\u001b[1;33m\u001b[0m\u001b[0m\n",
      "\u001b[1;32m~\\Anaconda3\\lib\\site-packages\\sklearn\\linear_model\\_logistic.py\u001b[0m in \u001b[0;36mfit\u001b[1;34m(self, X, y, sample_weight)\u001b[0m\n\u001b[0;32m   1542\u001b[0m                 \u001b[0mself\u001b[0m\u001b[1;33m.\u001b[0m\u001b[0mclass_weight\u001b[0m\u001b[1;33m,\u001b[0m \u001b[0mself\u001b[0m\u001b[1;33m.\u001b[0m\u001b[0mpenalty\u001b[0m\u001b[1;33m,\u001b[0m \u001b[0mself\u001b[0m\u001b[1;33m.\u001b[0m\u001b[0mdual\u001b[0m\u001b[1;33m,\u001b[0m \u001b[0mself\u001b[0m\u001b[1;33m.\u001b[0m\u001b[0mverbose\u001b[0m\u001b[1;33m,\u001b[0m\u001b[1;33m\u001b[0m\u001b[1;33m\u001b[0m\u001b[0m\n\u001b[0;32m   1543\u001b[0m                 \u001b[0mself\u001b[0m\u001b[1;33m.\u001b[0m\u001b[0mmax_iter\u001b[0m\u001b[1;33m,\u001b[0m \u001b[0mself\u001b[0m\u001b[1;33m.\u001b[0m\u001b[0mtol\u001b[0m\u001b[1;33m,\u001b[0m \u001b[0mself\u001b[0m\u001b[1;33m.\u001b[0m\u001b[0mrandom_state\u001b[0m\u001b[1;33m,\u001b[0m\u001b[1;33m\u001b[0m\u001b[1;33m\u001b[0m\u001b[0m\n\u001b[1;32m-> 1544\u001b[1;33m                 sample_weight=sample_weight)\n\u001b[0m\u001b[0;32m   1545\u001b[0m             \u001b[0mself\u001b[0m\u001b[1;33m.\u001b[0m\u001b[0mn_iter_\u001b[0m \u001b[1;33m=\u001b[0m \u001b[0mnp\u001b[0m\u001b[1;33m.\u001b[0m\u001b[0marray\u001b[0m\u001b[1;33m(\u001b[0m\u001b[1;33m[\u001b[0m\u001b[0mn_iter_\u001b[0m\u001b[1;33m]\u001b[0m\u001b[1;33m)\u001b[0m\u001b[1;33m\u001b[0m\u001b[1;33m\u001b[0m\u001b[0m\n\u001b[0;32m   1546\u001b[0m             \u001b[1;32mreturn\u001b[0m \u001b[0mself\u001b[0m\u001b[1;33m\u001b[0m\u001b[1;33m\u001b[0m\u001b[0m\n",
      "\u001b[1;32m~\\Anaconda3\\lib\\site-packages\\sklearn\\svm\\_base.py\u001b[0m in \u001b[0;36m_fit_liblinear\u001b[1;34m(X, y, C, fit_intercept, intercept_scaling, class_weight, penalty, dual, verbose, max_iter, tol, random_state, multi_class, loss, epsilon, sample_weight)\u001b[0m\n\u001b[0;32m    937\u001b[0m         \u001b[0mX\u001b[0m\u001b[1;33m,\u001b[0m \u001b[0my_ind\u001b[0m\u001b[1;33m,\u001b[0m \u001b[0msp\u001b[0m\u001b[1;33m.\u001b[0m\u001b[0misspmatrix\u001b[0m\u001b[1;33m(\u001b[0m\u001b[0mX\u001b[0m\u001b[1;33m)\u001b[0m\u001b[1;33m,\u001b[0m \u001b[0msolver_type\u001b[0m\u001b[1;33m,\u001b[0m \u001b[0mtol\u001b[0m\u001b[1;33m,\u001b[0m \u001b[0mbias\u001b[0m\u001b[1;33m,\u001b[0m \u001b[0mC\u001b[0m\u001b[1;33m,\u001b[0m\u001b[1;33m\u001b[0m\u001b[1;33m\u001b[0m\u001b[0m\n\u001b[0;32m    938\u001b[0m         \u001b[0mclass_weight_\u001b[0m\u001b[1;33m,\u001b[0m \u001b[0mmax_iter\u001b[0m\u001b[1;33m,\u001b[0m \u001b[0mrnd\u001b[0m\u001b[1;33m.\u001b[0m\u001b[0mrandint\u001b[0m\u001b[1;33m(\u001b[0m\u001b[0mnp\u001b[0m\u001b[1;33m.\u001b[0m\u001b[0miinfo\u001b[0m\u001b[1;33m(\u001b[0m\u001b[1;34m'i'\u001b[0m\u001b[1;33m)\u001b[0m\u001b[1;33m.\u001b[0m\u001b[0mmax\u001b[0m\u001b[1;33m)\u001b[0m\u001b[1;33m,\u001b[0m\u001b[1;33m\u001b[0m\u001b[1;33m\u001b[0m\u001b[0m\n\u001b[1;32m--> 939\u001b[1;33m         epsilon, sample_weight)\n\u001b[0m\u001b[0;32m    940\u001b[0m     \u001b[1;31m# Regarding rnd.randint(..) in the above signature:\u001b[0m\u001b[1;33m\u001b[0m\u001b[1;33m\u001b[0m\u001b[1;33m\u001b[0m\u001b[0m\n\u001b[0;32m    941\u001b[0m     \u001b[1;31m# seed for srand in range [0..INT_MAX); due to limitations in Numpy\u001b[0m\u001b[1;33m\u001b[0m\u001b[1;33m\u001b[0m\u001b[1;33m\u001b[0m\u001b[0m\n",
      "\u001b[1;31mKeyboardInterrupt\u001b[0m: "
     ]
    }
   ],
   "source": [
    "c=[0.0001,0.001,0.01,0.1,1,10,100,1000]\n",
    "Train_AUC_TFIDF = []\n",
    "CrossVal_AUC_TFIDF = []\n",
    "for i in c:\n",
    "  logreg = LogisticRegression(C=i,penalty='l1',solver='liblinear')\n",
    "  logreg.fit(Train_TFIDF_mix, y_train)\n",
    "  Train_y_pred =  logreg.predict_proba(Train_TFIDF_mix)[:,1]\n",
    "  Train_AUC_TFIDF.append(roc_auc_score(y_train,Train_y_pred))\n",
    "  CrossVal_y_pred =  logreg.predict_proba(Cross_TFIDF_mix)[:,1]\n",
    "  CrossVal_AUC_TFIDF.append(roc_auc_score(y_cross,CrossVal_y_pred))"
   ]
  },
  {
   "cell_type": "code",
   "execution_count": 80,
   "metadata": {},
   "outputs": [],
   "source": [
    "C=[]\n",
    "for i in range(len(c)):\n",
    "  C.append(np.math.log(c[i]))"
   ]
  },
  {
   "cell_type": "code",
   "execution_count": 81,
   "metadata": {},
   "outputs": [
    {
     "data": {
      "image/png": "[encoded data removed]",
      "text/plain": [
       "<Figure size 432x288 with 1 Axes>"
      ]
     },
     "metadata": {
      "needs_background": "light"
     },
     "output_type": "display_data"
    }
   ],
   "source": [
    "plt.plot(C, Train_AUC_TFIDF, label='Train AUC')\n",
    "plt.scatter(C, Train_AUC_TFIDF)\n",
    "plt.plot(C, CrossVal_AUC_TFIDF, label='CrossVal AUC')\n",
    "plt.scatter(C, CrossVal_AUC_TFIDF)\n",
    "plt.legend()\n",
    "plt.xlabel(\"lambda : hyperparameter\")\n",
    "plt.ylabel(\"AUC\")\n",
    "plt.title(\"ERROR PLOTS\")\n",
    "plt.show()"
   ]
  },
  {
   "cell_type": "code",
   "execution_count": 82,
   "metadata": {},
   "outputs": [],
   "source": [
    "optimal_inverse_lambda=c[CrossVal_AUC_TFIDF.index(max(CrossVal_AUC_TFIDF))]"
   ]
  },
  {
   "cell_type": "code",
   "execution_count": 21,
   "metadata": {},
   "outputs": [
    {
     "data": {
      "text/plain": [
       "LogisticRegression(C=0.001, class_weight=None, dual=False, fit_intercept=True,\n",
       "                   intercept_scaling=1, l1_ratio=None, max_iter=100,\n",
       "                   multi_class='auto', n_jobs=None, penalty='l1',\n",
       "                   random_state=None, solver='liblinear', tol=0.0001, verbose=0,\n",
       "                   warm_start=False)"
      ]
     },
     "execution_count": 21,
     "metadata": {},
     "output_type": "execute_result"
    }
   ],
   "source": [
    "Classifier=LogisticRegression(C=0.001,penalty='l1', solver='liblinear')\n",
    "Classifier.fit(Train_TFIDF_mix, y_train)"
   ]
  },
  {
   "cell_type": "code",
   "execution_count": 22,
   "metadata": {},
   "outputs": [
    {
     "name": "stdout",
     "output_type": "stream",
     "text": [
      "[[12032 40092]\n",
      " [ 2931 85765]]\n",
      "Accuracy of our model is:  0.6944823178525777\n",
      "              precision    recall  f1-score   support\n",
      "\n",
      "           0       0.80      0.23      0.36     52124\n",
      "           1       0.68      0.97      0.80     88696\n",
      "\n",
      "    accuracy                           0.69    140820\n",
      "   macro avg       0.74      0.60      0.58    140820\n",
      "weighted avg       0.73      0.69      0.64    140820\n",
      "\n"
     ]
    }
   ],
   "source": [
    "y_pred = Classifier.predict(Test_TFIDF_mix)\n",
    "print(confusion_matrix(y_test, y_pred))\n",
    "print('Accuracy of our model is: ', accuracy_score(y_test, y_pred))\n",
    "\n",
    "print(classification_report(y_test, y_pred))"
   ]
  },
  {
   "cell_type": "code",
   "execution_count": 23,
   "metadata": {},
   "outputs": [],
   "source": [
    "import pickle"
   ]
  },
  {
   "cell_type": "code",
   "execution_count": 24,
   "metadata": {},
   "outputs": [],
   "source": [
    "pickle.dump(Classifier, open('text_model', 'wb'))"
   ]
  },
  {
   "cell_type": "code",
   "execution_count": 25,
   "metadata": {},
   "outputs": [],
   "source": [
    "pickle.dump(tf_idf, open('vect_model', 'wb'))"
   ]
  },
  {
   "cell_type": "code",
   "execution_count": null,
   "metadata": {},
   "outputs": [],
   "source": []
  },
  {
   "cell_type": "markdown",
   "metadata": {},
   "source": [
    "### Final Table"
   ]
  },
  {
   "cell_type": "code",
   "execution_count": 99,
   "metadata": {},
   "outputs": [
    {
     "name": "stdout",
     "output_type": "stream",
     "text": [
      "+------------+----------------+-----------------+----------+\n",
      "| VECTORIZER | REGULARIZATION | HYPER PARAMETER | ACCURACY |\n",
      "+------------+----------------+-----------------+----------+\n",
      "|    BOW     |       L2       |      0.0001     | 0.68829  |\n",
      "|    BOW     |       L1       |      0.001      |  0.6947  |\n",
      "|   TFIDF    |       L2       |      0.0001     |  0.6989  |\n",
      "|   TFIDF    |       L1       |      0.001      |  0.6946  |\n",
      "+------------+----------------+-----------------+----------+\n"
     ]
    }
   ],
   "source": [
    "x = PrettyTable()\n",
    "\n",
    "x.field_names = [\"VECTORIZER\", \"REGULARIZATION\", \"HYPER PARAMETER\", \"ACCURACY\"]\n",
    "\n",
    "x.add_row([\"BOW\",\"L2\",0.0001,0.68829])\n",
    "x.add_row([\"BOW\",\"L1\",0.001, 0.6947])\n",
    "x.add_row([\"TFIDF\",\"L2\",0.0001,0.6989])\n",
    "x.add_row([\"TFIDF\",\"L1\",0.001,0.6946])\n",
    "print(x)"
   ]
  },
  {
   "cell_type": "markdown",
   "metadata": {},
   "source": [
    "Now we have a model which predicts whether a deal would be closed (Won) or Not (Lost).\n",
    "I will choose the logistic regression model which uses a L1 penalty on the Tf-idf vectorizer to compute whether a deal would be closed or not."
   ]
  },
  {
   "cell_type": "markdown",
   "metadata": {},
   "source": [
    "I shall now build a model which predicts the close_value for a deal for unseen data"
   ]
  },
  {
   "cell_type": "code",
   "execution_count": null,
   "metadata": {},
   "outputs": [],
   "source": []
  }
 ],
 "metadata": {
  "kernelspec": {
   "display_name": "Python 3",
   "language": "python",
   "name": "python3"
  },
  "language_info": {
   "codemirror_mode": {
    "name": "ipython",
    "version": 3
   },
   "file_extension": ".py",
   "mimetype": "text/x-python",
   "name": "python",
   "nbconvert_exporter": "python",
   "pygments_lexer": "ipython3",
   "version": "3.7.3"
  }
 },
 "nbformat": 4,
 "nbformat_minor": 2
}

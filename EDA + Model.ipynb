{
 "cells": [
  {
   "cell_type": "code",
   "execution_count": 1,
   "metadata": {},
   "outputs": [],
   "source": [
    "import pandas as pd\n",
    "import numpy as np\n",
    "import matplotlib.pyplot as plt"
   ]
  },
  {
   "cell_type": "code",
   "execution_count": 2,
   "metadata": {},
   "outputs": [],
   "source": [
    "import seaborn as sns"
   ]
  },
  {
   "cell_type": "code",
   "execution_count": 3,
   "metadata": {},
   "outputs": [],
   "source": [
    "sales = pd.read_excel('sales-pipeline.xlsx')\n",
    "interactions=pd.read_excel('interactions.xlsx')"
   ]
  },
  {
   "cell_type": "code",
   "execution_count": 5,
   "metadata": {},
   "outputs": [
    {
     "data": {
      "text/html": [
       "<div>\n",
       "<style scoped>\n",
       "    .dataframe tbody tr th:only-of-type {\n",
       "        vertical-align: middle;\n",
       "    }\n",
       "\n",
       "    .dataframe tbody tr th {\n",
       "        vertical-align: top;\n",
       "    }\n",
       "\n",
       "    .dataframe thead th {\n",
       "        text-align: right;\n",
       "    }\n",
       "</style>\n",
       "<table border=\"1\" class=\"dataframe\">\n",
       "  <thead>\n",
       "    <tr style=\"text-align: right;\">\n",
       "      <th></th>\n",
       "      <th>interactionID</th>\n",
       "      <th>fromEmailId</th>\n",
       "      <th>toEmailId</th>\n",
       "      <th>InteractionDate</th>\n",
       "      <th>InteractionType(Call/Email/SMS)</th>\n",
       "      <th>Extracted Interaction Text</th>\n",
       "    </tr>\n",
       "  </thead>\n",
       "  <tbody>\n",
       "    <tr>\n",
       "      <th>0</th>\n",
       "      <td>8842411</td>\n",
       "      <td>gladys@piedpiper.com</td>\n",
       "      <td>kristle@dontechi.com</td>\n",
       "      <td>2016-01-04</td>\n",
       "      <td>Call</td>\n",
       "      <td>I thoroughly enjoyed your presentation yesterd...</td>\n",
       "    </tr>\n",
       "    <tr>\n",
       "      <th>1</th>\n",
       "      <td>8015509</td>\n",
       "      <td>donn@piedpiper.com</td>\n",
       "      <td>orpha@umbrellacorporation.com</td>\n",
       "      <td>2016-01-04</td>\n",
       "      <td>Call</td>\n",
       "      <td>speaking with you and your staff will be a tre...</td>\n",
       "    </tr>\n",
       "    <tr>\n",
       "      <th>2</th>\n",
       "      <td>5976842</td>\n",
       "      <td>kary@piedpiper.com</td>\n",
       "      <td>claribel@goodsilron.com</td>\n",
       "      <td>2016-01-04</td>\n",
       "      <td>Email</td>\n",
       "      <td>However, I am unable to join because of my fam...</td>\n",
       "    </tr>\n",
       "    <tr>\n",
       "      <th>3</th>\n",
       "      <td>1471794</td>\n",
       "      <td>boris@piedpiper.com</td>\n",
       "      <td>gordon@scotfind.com</td>\n",
       "      <td>2016-01-04</td>\n",
       "      <td>Call</td>\n",
       "      <td>We are extremely sorry to inform you that we h...</td>\n",
       "    </tr>\n",
       "    <tr>\n",
       "      <th>4</th>\n",
       "      <td>4330320</td>\n",
       "      <td>darcel@piedpiper.com</td>\n",
       "      <td>benny@treequote.com</td>\n",
       "      <td>2016-01-04</td>\n",
       "      <td>Call</td>\n",
       "      <td>I don't think it's possible for me to meet you</td>\n",
       "    </tr>\n",
       "  </tbody>\n",
       "</table>\n",
       "</div>"
      ],
      "text/plain": [
       "   interactionID           fromEmailId                      toEmailId  \\\n",
       "0        8842411  gladys@piedpiper.com           kristle@dontechi.com   \n",
       "1        8015509    donn@piedpiper.com  orpha@umbrellacorporation.com   \n",
       "2        5976842    kary@piedpiper.com        claribel@goodsilron.com   \n",
       "3        1471794   boris@piedpiper.com            gordon@scotfind.com   \n",
       "4        4330320  darcel@piedpiper.com            benny@treequote.com   \n",
       "\n",
       "  InteractionDate InteractionType(Call/Email/SMS)  \\\n",
       "0      2016-01-04                            Call   \n",
       "1      2016-01-04                            Call   \n",
       "2      2016-01-04                           Email   \n",
       "3      2016-01-04                            Call   \n",
       "4      2016-01-04                            Call   \n",
       "\n",
       "                          Extracted Interaction Text  \n",
       "0  I thoroughly enjoyed your presentation yesterd...  \n",
       "1  speaking with you and your staff will be a tre...  \n",
       "2  However, I am unable to join because of my fam...  \n",
       "3  We are extremely sorry to inform you that we h...  \n",
       "4     I don't think it's possible for me to meet you  "
      ]
     },
     "execution_count": 5,
     "metadata": {},
     "output_type": "execute_result"
    }
   ],
   "source": [
    "interactions.head()"
   ]
  },
  {
   "cell_type": "code",
   "execution_count": 266,
   "metadata": {},
   "outputs": [
    {
     "data": {
      "text/html": [
       "<div>\n",
       "<style scoped>\n",
       "    .dataframe tbody tr th:only-of-type {\n",
       "        vertical-align: middle;\n",
       "    }\n",
       "\n",
       "    .dataframe tbody tr th {\n",
       "        vertical-align: top;\n",
       "    }\n",
       "\n",
       "    .dataframe thead th {\n",
       "        text-align: right;\n",
       "    }\n",
       "</style>\n",
       "<table border=\"1\" class=\"dataframe\">\n",
       "  <thead>\n",
       "    <tr style=\"text-align: right;\">\n",
       "      <th></th>\n",
       "      <th>Account</th>\n",
       "      <th>Opportunity_ID</th>\n",
       "      <th>Sales_Agent</th>\n",
       "      <th>SalesAgentEmailID</th>\n",
       "      <th>ContactEmailID</th>\n",
       "      <th>Deal_Stage</th>\n",
       "      <th>Product</th>\n",
       "      <th>Close_Value</th>\n",
       "      <th>Created Date</th>\n",
       "      <th>Close Date</th>\n",
       "      <th>DateDiff</th>\n",
       "    </tr>\n",
       "  </thead>\n",
       "  <tbody>\n",
       "    <tr>\n",
       "      <th>0</th>\n",
       "      <td>Konex</td>\n",
       "      <td>3KR50X38</td>\n",
       "      <td>Corliss Cosme</td>\n",
       "      <td>corliss@piedpiper.com</td>\n",
       "      <td>delila@konex.com</td>\n",
       "      <td>Won</td>\n",
       "      <td>GTX Plus Basic</td>\n",
       "      <td>1255</td>\n",
       "      <td>2016-01-04</td>\n",
       "      <td>2016-05-24</td>\n",
       "      <td>141</td>\n",
       "    </tr>\n",
       "    <tr>\n",
       "      <th>1</th>\n",
       "      <td>Finjob</td>\n",
       "      <td>YFS5KLJJ</td>\n",
       "      <td>Rosalina Dieter</td>\n",
       "      <td>rosalina@piedpiper.com</td>\n",
       "      <td>belinda@finjob.com</td>\n",
       "      <td>Won</td>\n",
       "      <td>MG Special</td>\n",
       "      <td>45</td>\n",
       "      <td>2016-01-04</td>\n",
       "      <td>2016-11-02</td>\n",
       "      <td>303</td>\n",
       "    </tr>\n",
       "    <tr>\n",
       "      <th>2</th>\n",
       "      <td>Kinnamplus</td>\n",
       "      <td>N0ONCYVZ</td>\n",
       "      <td>Donn Cantrell</td>\n",
       "      <td>donn@piedpiper.com</td>\n",
       "      <td>monte@kinnamplus.com</td>\n",
       "      <td>Lost</td>\n",
       "      <td>MG Special</td>\n",
       "      <td>1054</td>\n",
       "      <td>2016-01-06</td>\n",
       "      <td>2016-12-07</td>\n",
       "      <td>336</td>\n",
       "    </tr>\n",
       "    <tr>\n",
       "      <th>3</th>\n",
       "      <td>Genco Pura Olive Oil Company</td>\n",
       "      <td>IBEUTCSW</td>\n",
       "      <td>James Ascencio</td>\n",
       "      <td>james@piedpiper.com</td>\n",
       "      <td>karole@gencopuraoliveoilcompany.com</td>\n",
       "      <td>In Progress</td>\n",
       "      <td>MG Advanced</td>\n",
       "      <td>1054</td>\n",
       "      <td>2016-01-06</td>\n",
       "      <td>2016-09-11</td>\n",
       "      <td>249</td>\n",
       "    </tr>\n",
       "    <tr>\n",
       "      <th>4</th>\n",
       "      <td>Initech</td>\n",
       "      <td>G8AO5FA2</td>\n",
       "      <td>Wilburn Farren</td>\n",
       "      <td>wilburn@piedpiper.com</td>\n",
       "      <td>alejandro@initech.com</td>\n",
       "      <td>Lost</td>\n",
       "      <td>MG Advanced</td>\n",
       "      <td>517</td>\n",
       "      <td>2016-01-06</td>\n",
       "      <td>2016-09-18</td>\n",
       "      <td>256</td>\n",
       "    </tr>\n",
       "  </tbody>\n",
       "</table>\n",
       "</div>"
      ],
      "text/plain": [
       "                        Account Opportunity_ID      Sales_Agent  \\\n",
       "0                         Konex       3KR50X38    Corliss Cosme   \n",
       "1                        Finjob       YFS5KLJJ  Rosalina Dieter   \n",
       "2                    Kinnamplus       N0ONCYVZ    Donn Cantrell   \n",
       "3  Genco Pura Olive Oil Company       IBEUTCSW   James Ascencio   \n",
       "4                       Initech       G8AO5FA2   Wilburn Farren   \n",
       "\n",
       "        SalesAgentEmailID                       ContactEmailID   Deal_Stage  \\\n",
       "0   corliss@piedpiper.com                     delila@konex.com          Won   \n",
       "1  rosalina@piedpiper.com                   belinda@finjob.com          Won   \n",
       "2      donn@piedpiper.com                 monte@kinnamplus.com         Lost   \n",
       "3     james@piedpiper.com  karole@gencopuraoliveoilcompany.com  In Progress   \n",
       "4   wilburn@piedpiper.com                alejandro@initech.com         Lost   \n",
       "\n",
       "          Product  Close_Value Created Date Close Date  DateDiff  \n",
       "0  GTX Plus Basic         1255   2016-01-04 2016-05-24       141  \n",
       "1      MG Special           45   2016-01-04 2016-11-02       303  \n",
       "2      MG Special         1054   2016-01-06 2016-12-07       336  \n",
       "3     MG Advanced         1054   2016-01-06 2016-09-11       249  \n",
       "4     MG Advanced          517   2016-01-06 2016-09-18       256  "
      ]
     },
     "execution_count": 266,
     "metadata": {},
     "output_type": "execute_result"
    }
   ],
   "source": [
    "sales.head()"
   ]
  },
  {
   "cell_type": "code",
   "execution_count": 262,
   "metadata": {},
   "outputs": [
    {
     "data": {
      "text/plain": [
       "Index(['Account', 'Opportunity_ID', 'Sales_Agent', 'SalesAgentEmailID',\n",
       "       'ContactEmailID', 'Deal_Stage', 'Product', 'Close_Value',\n",
       "       'Created Date', 'Close Date', 'DateDiff'],\n",
       "      dtype='object')"
      ]
     },
     "execution_count": 262,
     "metadata": {},
     "output_type": "execute_result"
    }
   ],
   "source": [
    "sales.columns"
   ]
  },
  {
   "cell_type": "code",
   "execution_count": 63,
   "metadata": {},
   "outputs": [
    {
     "data": {
      "text/plain": [
       "Won            4238\n",
       "Lost           2473\n",
       "In Progress    2089\n",
       "Name: Deal_Stage, dtype: int64"
      ]
     },
     "execution_count": 63,
     "metadata": {},
     "output_type": "execute_result"
    }
   ],
   "source": [
    "sales['Deal_Stage'].value_counts()"
   ]
  },
  {
   "cell_type": "code",
   "execution_count": 64,
   "metadata": {},
   "outputs": [
    {
     "data": {
      "text/plain": [
       "GTX Basic         1866\n",
       "MG Special        1651\n",
       "GTXPro            1480\n",
       "MG Advanced       1412\n",
       "GTX Plus Basic    1383\n",
       "GTX Plus Pro       968\n",
       "GTK 500             40\n",
       "Name: Product, dtype: int64"
      ]
     },
     "execution_count": 64,
     "metadata": {},
     "output_type": "execute_result"
    }
   ],
   "source": [
    "sales['Product'].value_counts()"
   ]
  },
  {
   "cell_type": "code",
   "execution_count": 66,
   "metadata": {},
   "outputs": [
    {
     "data": {
      "image/png": "[encoded data removed]",
      "text/plain": [
       "<Figure size 576x576 with 1 Axes>"
      ]
     },
     "metadata": {
      "needs_background": "light"
     },
     "output_type": "display_data"
    }
   ],
   "source": [
    "plt.figure(figsize=(8,8))\n",
    "sns.countplot(sales['Product'], hue=sales['Deal_Stage'])\n",
    "plt.show()"
   ]
  },
  {
   "cell_type": "code",
   "execution_count": 67,
   "metadata": {},
   "outputs": [
    {
     "data": {
      "text/html": [
       "<div>\n",
       "<style scoped>\n",
       "    .dataframe tbody tr th:only-of-type {\n",
       "        vertical-align: middle;\n",
       "    }\n",
       "\n",
       "    .dataframe tbody tr th {\n",
       "        vertical-align: top;\n",
       "    }\n",
       "\n",
       "    .dataframe thead th {\n",
       "        text-align: right;\n",
       "    }\n",
       "</style>\n",
       "<table border=\"1\" class=\"dataframe\">\n",
       "  <thead>\n",
       "    <tr style=\"text-align: right;\">\n",
       "      <th></th>\n",
       "      <th>Account</th>\n",
       "      <th>Opportunity_ID</th>\n",
       "      <th>Sales_Agent</th>\n",
       "      <th>SalesAgentEmailID</th>\n",
       "      <th>ContactEmailID</th>\n",
       "      <th>Deal_Stage</th>\n",
       "      <th>Product</th>\n",
       "      <th>Close_Value</th>\n",
       "      <th>Created Date</th>\n",
       "      <th>Close Date</th>\n",
       "      <th>DateDiff</th>\n",
       "    </tr>\n",
       "  </thead>\n",
       "  <tbody>\n",
       "    <tr>\n",
       "      <th>0</th>\n",
       "      <td>Konex</td>\n",
       "      <td>3KR50X38</td>\n",
       "      <td>Corliss Cosme</td>\n",
       "      <td>corliss@piedpiper.com</td>\n",
       "      <td>delila@konex.com</td>\n",
       "      <td>Won</td>\n",
       "      <td>GTX Plus Basic</td>\n",
       "      <td>1255</td>\n",
       "      <td>2016-01-04</td>\n",
       "      <td>2016-05-24</td>\n",
       "      <td>141</td>\n",
       "    </tr>\n",
       "    <tr>\n",
       "      <th>1</th>\n",
       "      <td>Finjob</td>\n",
       "      <td>YFS5KLJJ</td>\n",
       "      <td>Rosalina Dieter</td>\n",
       "      <td>rosalina@piedpiper.com</td>\n",
       "      <td>belinda@finjob.com</td>\n",
       "      <td>Won</td>\n",
       "      <td>MG Special</td>\n",
       "      <td>45</td>\n",
       "      <td>2016-01-04</td>\n",
       "      <td>2016-11-02</td>\n",
       "      <td>303</td>\n",
       "    </tr>\n",
       "    <tr>\n",
       "      <th>2</th>\n",
       "      <td>Kinnamplus</td>\n",
       "      <td>N0ONCYVZ</td>\n",
       "      <td>Donn Cantrell</td>\n",
       "      <td>donn@piedpiper.com</td>\n",
       "      <td>monte@kinnamplus.com</td>\n",
       "      <td>Lost</td>\n",
       "      <td>MG Special</td>\n",
       "      <td>1054</td>\n",
       "      <td>2016-01-06</td>\n",
       "      <td>2016-12-07</td>\n",
       "      <td>336</td>\n",
       "    </tr>\n",
       "    <tr>\n",
       "      <th>4</th>\n",
       "      <td>Initech</td>\n",
       "      <td>G8AO5FA2</td>\n",
       "      <td>Wilburn Farren</td>\n",
       "      <td>wilburn@piedpiper.com</td>\n",
       "      <td>alejandro@initech.com</td>\n",
       "      <td>Lost</td>\n",
       "      <td>MG Advanced</td>\n",
       "      <td>517</td>\n",
       "      <td>2016-01-06</td>\n",
       "      <td>2016-09-18</td>\n",
       "      <td>256</td>\n",
       "    </tr>\n",
       "    <tr>\n",
       "      <th>5</th>\n",
       "      <td>Stanredtax</td>\n",
       "      <td>2V848WZD</td>\n",
       "      <td>Lajuana Vencill</td>\n",
       "      <td>lajuana@piedpiper.com</td>\n",
       "      <td>candice@stanredtax.com</td>\n",
       "      <td>Won</td>\n",
       "      <td>MG Advanced</td>\n",
       "      <td>3180</td>\n",
       "      <td>2016-01-07</td>\n",
       "      <td>2016-01-31</td>\n",
       "      <td>24</td>\n",
       "    </tr>\n",
       "  </tbody>\n",
       "</table>\n",
       "</div>"
      ],
      "text/plain": [
       "      Account Opportunity_ID      Sales_Agent       SalesAgentEmailID  \\\n",
       "0       Konex       3KR50X38    Corliss Cosme   corliss@piedpiper.com   \n",
       "1      Finjob       YFS5KLJJ  Rosalina Dieter  rosalina@piedpiper.com   \n",
       "2  Kinnamplus       N0ONCYVZ    Donn Cantrell      donn@piedpiper.com   \n",
       "4     Initech       G8AO5FA2   Wilburn Farren   wilburn@piedpiper.com   \n",
       "5  Stanredtax       2V848WZD  Lajuana Vencill   lajuana@piedpiper.com   \n",
       "\n",
       "           ContactEmailID Deal_Stage         Product  Close_Value  \\\n",
       "0        delila@konex.com        Won  GTX Plus Basic         1255   \n",
       "1      belinda@finjob.com        Won      MG Special           45   \n",
       "2    monte@kinnamplus.com       Lost      MG Special         1054   \n",
       "4   alejandro@initech.com       Lost     MG Advanced          517   \n",
       "5  candice@stanredtax.com        Won     MG Advanced         3180   \n",
       "\n",
       "  Created Date Close Date  DateDiff  \n",
       "0   2016-01-04 2016-05-24       141  \n",
       "1   2016-01-04 2016-11-02       303  \n",
       "2   2016-01-06 2016-12-07       336  \n",
       "4   2016-01-06 2016-09-18       256  \n",
       "5   2016-01-07 2016-01-31        24  "
      ]
     },
     "execution_count": 67,
     "metadata": {},
     "output_type": "execute_result"
    }
   ],
   "source": [
    "df = sales[sales['Deal_Stage'] != 'In Progress']\n",
    "df.head()"
   ]
  },
  {
   "cell_type": "code",
   "execution_count": null,
   "metadata": {},
   "outputs": [],
   "source": []
  },
  {
   "cell_type": "code",
   "execution_count": 68,
   "metadata": {},
   "outputs": [
    {
     "data": {
      "text/plain": [
       "<matplotlib.axes._subplots.AxesSubplot at 0x1901eef5390>"
      ]
     },
     "execution_count": 68,
     "metadata": {},
     "output_type": "execute_result"
    },
    {
     "data": {
      "image/png": "[encoded data removed]",
      "text/plain": [
       "<Figure size 432x288 with 1 Axes>"
      ]
     },
     "metadata": {
      "needs_background": "light"
     },
     "output_type": "display_data"
    }
   ],
   "source": [
    "sns.countplot(df['Deal_Stage'])"
   ]
  },
  {
   "cell_type": "code",
   "execution_count": 69,
   "metadata": {},
   "outputs": [
    {
     "data": {
      "text/plain": [
       "Account              0\n",
       "Opportunity_ID       0\n",
       "Sales_Agent          0\n",
       "SalesAgentEmailID    0\n",
       "ContactEmailID       0\n",
       "Deal_Stage           0\n",
       "Product              0\n",
       "Close_Value          0\n",
       "Created Date         0\n",
       "Close Date           0\n",
       "DateDiff             0\n",
       "dtype: int64"
      ]
     },
     "execution_count": 69,
     "metadata": {},
     "output_type": "execute_result"
    }
   ],
   "source": [
    "df.isna().sum()"
   ]
  },
  {
   "cell_type": "code",
   "execution_count": 205,
   "metadata": {},
   "outputs": [
    {
     "data": {
      "text/plain": [
       "<seaborn.axisgrid.JointGrid at 0x190276a3cc0>"
      ]
     },
     "execution_count": 205,
     "metadata": {},
     "output_type": "execute_result"
    },
    {
     "data": {
      "image/png": "[encoded data removed]",
      "text/plain": [
       "<Figure size 432x432 with 3 Axes>"
      ]
     },
     "metadata": {
      "needs_background": "light"
     },
     "output_type": "display_data"
    }
   ],
   "source": [
    "sns.jointplot(y='Close_Value', x='DateDiff', data=df, kind='kde')"
   ]
  },
  {
   "cell_type": "code",
   "execution_count": 78,
   "metadata": {},
   "outputs": [
    {
     "data": {
      "text/plain": [
       "<matplotlib.axes._subplots.AxesSubplot at 0x1901ff94208>"
      ]
     },
     "execution_count": 78,
     "metadata": {},
     "output_type": "execute_result"
    },
    {
     "data": {
      "image/png": "[encoded data removed]",
      "text/plain": [
       "<Figure size 432x288 with 1 Axes>"
      ]
     },
     "metadata": {
      "needs_background": "light"
     },
     "output_type": "display_data"
    }
   ],
   "source": [
    "sns.stripplot(x='DateDiff', y='Deal_Stage', data=df)"
   ]
  },
  {
   "cell_type": "code",
   "execution_count": 79,
   "metadata": {},
   "outputs": [
    {
     "data": {
      "text/plain": [
       "<matplotlib.axes._subplots.AxesSubplot at 0x19020050c88>"
      ]
     },
     "execution_count": 79,
     "metadata": {},
     "output_type": "execute_result"
    },
    {
     "data": {
      "image/png": "[encoded data removed]",
      "text/plain": [
       "<Figure size 432x288 with 1 Axes>"
      ]
     },
     "metadata": {
      "needs_background": "light"
     },
     "output_type": "display_data"
    }
   ],
   "source": [
    "sns.boxplot(df['Close_Value'])"
   ]
  },
  {
   "cell_type": "code",
   "execution_count": 80,
   "metadata": {},
   "outputs": [
    {
     "data": {
      "text/plain": [
       "<matplotlib.axes._subplots.AxesSubplot at 0x1902025a780>"
      ]
     },
     "execution_count": 80,
     "metadata": {},
     "output_type": "execute_result"
    },
    {
     "data": {
      "image/png": "[encoded data removed]",
      "text/plain": [
       "<Figure size 432x288 with 1 Axes>"
      ]
     },
     "metadata": {
      "needs_background": "light"
     },
     "output_type": "display_data"
    }
   ],
   "source": [
    "sns.scatterplot(x='Close_Value', y='DateDiff', hue='Product', data=df)"
   ]
  },
  {
   "cell_type": "code",
   "execution_count": 85,
   "metadata": {},
   "outputs": [
    {
     "data": {
      "text/plain": [
       "<matplotlib.legend.Legend at 0x1901f30d390>"
      ]
     },
     "execution_count": 85,
     "metadata": {},
     "output_type": "execute_result"
    },
    {
     "data": {
      "image/png": "[encoded data removed]",
      "text/plain": [
       "<Figure size 576x432 with 1 Axes>"
      ]
     },
     "metadata": {
      "needs_background": "light"
     },
     "output_type": "display_data"
    }
   ],
   "source": [
    "plt.figure(figsize=(8,6))\n",
    "sns.scatterplot(x='Close_Value', y='Deal_Stage', hue='Product', data=df)\n",
    "plt.legend()"
   ]
  },
  {
   "cell_type": "code",
   "execution_count": 95,
   "metadata": {},
   "outputs": [
    {
     "data": {
      "image/png": "[encoded data removed]",
      "text/plain": [
       "<Figure size 424.625x360 with 1 Axes>"
      ]
     },
     "metadata": {
      "needs_background": "light"
     },
     "output_type": "display_data"
    }
   ],
   "source": [
    "sns.catplot(x='Product', y='Close_Value', data=df, hue='Deal_Stage')\n",
    "plt.xticks(rotation=90)\n",
    "plt.show()"
   ]
  },
  {
   "cell_type": "code",
   "execution_count": 106,
   "metadata": {},
   "outputs": [],
   "source": [
    "#We can see that we need to treat Product column as composed of Ordinal Values"
   ]
  },
  {
   "cell_type": "code",
   "execution_count": 82,
   "metadata": {},
   "outputs": [
    {
     "data": {
      "text/plain": [
       "<matplotlib.axes._subplots.AxesSubplot at 0x19020399b38>"
      ]
     },
     "execution_count": 82,
     "metadata": {},
     "output_type": "execute_result"
    },
    {
     "data": {
      "image/png": "[encoded data removed]",
      "text/plain": [
       "<Figure size 432x288 with 1 Axes>"
      ]
     },
     "metadata": {
      "needs_background": "light"
     },
     "output_type": "display_data"
    }
   ],
   "source": [
    "sns.kdeplot(df['Close_Value'])"
   ]
  },
  {
   "cell_type": "code",
   "execution_count": 109,
   "metadata": {},
   "outputs": [
    {
     "name": "stderr",
     "output_type": "stream",
     "text": [
      "C:\\Users\\SIDDHARTH\\Anaconda3\\lib\\site-packages\\ipykernel_launcher.py:1: SettingWithCopyWarning: \n",
      "A value is trying to be set on a copy of a slice from a DataFrame.\n",
      "Try using .loc[row_indexer,col_indexer] = value instead\n",
      "\n",
      "See the caveats in the documentation: http://pandas.pydata.org/pandas-docs/stable/user_guide/indexing.html#returning-a-view-versus-a-copy\n",
      "  \"\"\"Entry point for launching an IPython kernel.\n"
     ]
    }
   ],
   "source": [
    "df['Deal_Stage'] = df['Deal_Stage'].map({'Won':1,'Lost':0})"
   ]
  },
  {
   "cell_type": "code",
   "execution_count": 132,
   "metadata": {},
   "outputs": [
    {
     "data": {
      "text/plain": [
       "(array([ 0,  1,  2,  3,  4,  5,  6,  7,  8,  9, 10, 11, 12, 13, 14, 15, 16,\n",
       "        17, 18, 19, 20, 21, 22, 23, 24, 25, 26, 27, 28, 29]),\n",
       " <a list of 30 Text xticklabel objects>)"
      ]
     },
     "execution_count": 132,
     "metadata": {},
     "output_type": "execute_result"
    },
    {
     "data": {
      "image/png": "[encoded data removed]",
      "text/plain": [
       "<Figure size 720x720 with 1 Axes>"
      ]
     },
     "metadata": {
      "needs_background": "light"
     },
     "output_type": "display_data"
    }
   ],
   "source": [
    "plt.figure(figsize=(10,10))\n",
    "sns.countplot(df['Sales_Agent'], hue=df['Deal_Stage'])\n",
    "plt.xticks(rotation=90)"
   ]
  },
  {
   "cell_type": "code",
   "execution_count": 134,
   "metadata": {},
   "outputs": [
    {
     "data": {
      "text/plain": [
       "Sales_Agent\n",
       "Lajuana Vencill       0.549784\n",
       "Markita Hansen        0.572687\n",
       "Donn Cantrell         0.574545\n",
       "Gladys Colclough      0.581897\n",
       "Niesha Huffines       0.600000\n",
       "Daniell Hammack       0.609626\n",
       "Garret Kinder         0.609756\n",
       "Zane Levy             0.616858\n",
       "Anna Snelling         0.619048\n",
       "Kary Hendrixson       0.623881\n",
       "Cassey Cress          0.624521\n",
       "Marty Freudenburg     0.628866\n",
       "Darcel Schlecht       0.631103\n",
       "Violet Mclelland      0.632124\n",
       "Elease Gluck          0.634921\n",
       "Vicki Laflamme        0.636888\n",
       "Kami Bicknell         0.639706\n",
       "Rosie Papadopoulos    0.644628\n",
       "Jonathan Berthelot    0.647727\n",
       "Reed Clapper          0.654008\n",
       "Rosalina Dieter       0.654545\n",
       "Corliss Cosme         0.655022\n",
       "James Ascencio        0.655340\n",
       "Boris Faz             0.660131\n",
       "Moses Frase           0.661538\n",
       "Versie Hillebrand     0.666667\n",
       "Cecily Lampkin        0.668750\n",
       "Wilburn Farren        0.696203\n",
       "Maureen Marcano       0.699531\n",
       "Hayden Neloms         0.703947\n",
       "Name: Deal_Stage, dtype: float64"
      ]
     },
     "execution_count": 134,
     "metadata": {},
     "output_type": "execute_result"
    }
   ],
   "source": [
    "df.groupby('Sales_Agent')['Deal_Stage'].mean().sort_values()"
   ]
  },
  {
   "cell_type": "code",
   "execution_count": 135,
   "metadata": {},
   "outputs": [],
   "source": [
    "ordered_agents = df.groupby('Sales_Agent')['Deal_Stage'].mean().sort_values().index"
   ]
  },
  {
   "cell_type": "code",
   "execution_count": 136,
   "metadata": {},
   "outputs": [
    {
     "data": {
      "text/plain": [
       "{'Lajuana Vencill': 0,\n",
       " 'Markita Hansen': 1,\n",
       " 'Donn Cantrell': 2,\n",
       " 'Gladys Colclough': 3,\n",
       " 'Niesha Huffines': 4,\n",
       " 'Daniell Hammack': 5,\n",
       " 'Garret Kinder': 6,\n",
       " 'Zane Levy': 7,\n",
       " 'Anna Snelling': 8,\n",
       " 'Kary Hendrixson': 9,\n",
       " 'Cassey Cress': 10,\n",
       " 'Marty Freudenburg': 11,\n",
       " 'Darcel Schlecht': 12,\n",
       " 'Violet Mclelland': 13,\n",
       " 'Elease Gluck': 14,\n",
       " 'Vicki Laflamme': 15,\n",
       " 'Kami Bicknell': 16,\n",
       " 'Rosie Papadopoulos': 17,\n",
       " 'Jonathan Berthelot': 18,\n",
       " 'Reed Clapper': 19,\n",
       " 'Rosalina Dieter': 20,\n",
       " 'Corliss Cosme': 21,\n",
       " 'James Ascencio': 22,\n",
       " 'Boris Faz': 23,\n",
       " 'Moses Frase': 24,\n",
       " 'Versie Hillebrand': 25,\n",
       " 'Cecily Lampkin': 26,\n",
       " 'Wilburn Farren': 27,\n",
       " 'Maureen Marcano': 28,\n",
       " 'Hayden Neloms': 29}"
      ]
     },
     "execution_count": 136,
     "metadata": {},
     "output_type": "execute_result"
    }
   ],
   "source": [
    "ordinal_agents = {k:i for i, k in enumerate(ordered_agents, 0)} \n",
    "ordinal_agents"
   ]
  },
  {
   "cell_type": "code",
   "execution_count": 139,
   "metadata": {},
   "outputs": [
    {
     "name": "stderr",
     "output_type": "stream",
     "text": [
      "C:\\Users\\SIDDHARTH\\Anaconda3\\lib\\site-packages\\ipykernel_launcher.py:1: SettingWithCopyWarning: \n",
      "A value is trying to be set on a copy of a slice from a DataFrame.\n",
      "Try using .loc[row_indexer,col_indexer] = value instead\n",
      "\n",
      "See the caveats in the documentation: http://pandas.pydata.org/pandas-docs/stable/user_guide/indexing.html#returning-a-view-versus-a-copy\n",
      "  \"\"\"Entry point for launching an IPython kernel.\n"
     ]
    }
   ],
   "source": [
    "df['Ordered_Agent'] = df.Sales_Agent.map(ordinal_agents)"
   ]
  },
  {
   "cell_type": "code",
   "execution_count": 81,
   "metadata": {},
   "outputs": [],
   "source": [
    "#Data Preprocessing"
   ]
  },
  {
   "cell_type": "code",
   "execution_count": 86,
   "metadata": {},
   "outputs": [],
   "source": [
    "#Observation 1 - All values for the 'Close_Value' columns are within the IQ range, but from the boxplot we see that some values are \n",
    "#really far from the normal values.\n",
    "#But by doing various viz's we see that those value are actually important since they all belong to a single category for the \n",
    "#Product columns and also all those values have been converted into a deal(Closed Deal - YES)."
   ]
  },
  {
   "cell_type": "code",
   "execution_count": 113,
   "metadata": {},
   "outputs": [],
   "source": [
    "# I shall be using a Target guided ordinal encoding to encode the values for the 'Product' column."
   ]
  },
  {
   "cell_type": "code",
   "execution_count": 240,
   "metadata": {},
   "outputs": [],
   "source": [
    "ordered_labels = df.groupby('Product')['Deal_Stage'].mean().sort_values().index"
   ]
  },
  {
   "cell_type": "code",
   "execution_count": 241,
   "metadata": {},
   "outputs": [
    {
     "data": {
      "text/plain": [
       "{'GTK 500': 0,\n",
       " 'MG Advanced': 1,\n",
       " 'GTX Plus Basic': 2,\n",
       " 'GTXPro': 3,\n",
       " 'GTX Basic': 4,\n",
       " 'GTX Plus Pro': 5,\n",
       " 'MG Special': 6}"
      ]
     },
     "execution_count": 241,
     "metadata": {},
     "output_type": "execute_result"
    }
   ],
   "source": [
    "# and now we create a dictionary that maps each label to the number\n",
    "\n",
    "ordinal_label = {k:i for i, k in enumerate(ordered_labels, 0)} \n",
    "ordinal_label"
   ]
  },
  {
   "cell_type": "code",
   "execution_count": 242,
   "metadata": {},
   "outputs": [
    {
     "name": "stderr",
     "output_type": "stream",
     "text": [
      "C:\\Users\\SIDDHARTH\\Anaconda3\\lib\\site-packages\\ipykernel_launcher.py:1: SettingWithCopyWarning: \n",
      "A value is trying to be set on a copy of a slice from a DataFrame.\n",
      "Try using .loc[row_indexer,col_indexer] = value instead\n",
      "\n",
      "See the caveats in the documentation: http://pandas.pydata.org/pandas-docs/stable/user_guide/indexing.html#returning-a-view-versus-a-copy\n",
      "  \"\"\"Entry point for launching an IPython kernel.\n"
     ]
    }
   ],
   "source": [
    "df['Ordered_Product'] = df.Product.map(ordinal_label)"
   ]
  },
  {
   "cell_type": "code",
   "execution_count": 140,
   "metadata": {},
   "outputs": [
    {
     "data": {
      "text/html": [
       "<div>\n",
       "<style scoped>\n",
       "    .dataframe tbody tr th:only-of-type {\n",
       "        vertical-align: middle;\n",
       "    }\n",
       "\n",
       "    .dataframe tbody tr th {\n",
       "        vertical-align: top;\n",
       "    }\n",
       "\n",
       "    .dataframe thead th {\n",
       "        text-align: right;\n",
       "    }\n",
       "</style>\n",
       "<table border=\"1\" class=\"dataframe\">\n",
       "  <thead>\n",
       "    <tr style=\"text-align: right;\">\n",
       "      <th></th>\n",
       "      <th>Account</th>\n",
       "      <th>Opportunity_ID</th>\n",
       "      <th>Sales_Agent</th>\n",
       "      <th>SalesAgentEmailID</th>\n",
       "      <th>ContactEmailID</th>\n",
       "      <th>Deal_Stage</th>\n",
       "      <th>Product</th>\n",
       "      <th>Close_Value</th>\n",
       "      <th>Created Date</th>\n",
       "      <th>Close Date</th>\n",
       "      <th>DateDiff</th>\n",
       "      <th>Ordered_Product</th>\n",
       "      <th>Ordered_Agent</th>\n",
       "    </tr>\n",
       "  </thead>\n",
       "  <tbody>\n",
       "    <tr>\n",
       "      <th>0</th>\n",
       "      <td>Konex</td>\n",
       "      <td>3KR50X38</td>\n",
       "      <td>Corliss Cosme</td>\n",
       "      <td>corliss@piedpiper.com</td>\n",
       "      <td>delila@konex.com</td>\n",
       "      <td>1</td>\n",
       "      <td>GTX Plus Basic</td>\n",
       "      <td>1255</td>\n",
       "      <td>2016-01-04</td>\n",
       "      <td>2016-05-24</td>\n",
       "      <td>141</td>\n",
       "      <td>2</td>\n",
       "      <td>21</td>\n",
       "    </tr>\n",
       "    <tr>\n",
       "      <th>1</th>\n",
       "      <td>Finjob</td>\n",
       "      <td>YFS5KLJJ</td>\n",
       "      <td>Rosalina Dieter</td>\n",
       "      <td>rosalina@piedpiper.com</td>\n",
       "      <td>belinda@finjob.com</td>\n",
       "      <td>1</td>\n",
       "      <td>MG Special</td>\n",
       "      <td>45</td>\n",
       "      <td>2016-01-04</td>\n",
       "      <td>2016-11-02</td>\n",
       "      <td>303</td>\n",
       "      <td>6</td>\n",
       "      <td>20</td>\n",
       "    </tr>\n",
       "    <tr>\n",
       "      <th>2</th>\n",
       "      <td>Kinnamplus</td>\n",
       "      <td>N0ONCYVZ</td>\n",
       "      <td>Donn Cantrell</td>\n",
       "      <td>donn@piedpiper.com</td>\n",
       "      <td>monte@kinnamplus.com</td>\n",
       "      <td>0</td>\n",
       "      <td>MG Special</td>\n",
       "      <td>1054</td>\n",
       "      <td>2016-01-06</td>\n",
       "      <td>2016-12-07</td>\n",
       "      <td>336</td>\n",
       "      <td>6</td>\n",
       "      <td>2</td>\n",
       "    </tr>\n",
       "    <tr>\n",
       "      <th>4</th>\n",
       "      <td>Initech</td>\n",
       "      <td>G8AO5FA2</td>\n",
       "      <td>Wilburn Farren</td>\n",
       "      <td>wilburn@piedpiper.com</td>\n",
       "      <td>alejandro@initech.com</td>\n",
       "      <td>0</td>\n",
       "      <td>MG Advanced</td>\n",
       "      <td>517</td>\n",
       "      <td>2016-01-06</td>\n",
       "      <td>2016-09-18</td>\n",
       "      <td>256</td>\n",
       "      <td>1</td>\n",
       "      <td>27</td>\n",
       "    </tr>\n",
       "    <tr>\n",
       "      <th>5</th>\n",
       "      <td>Stanredtax</td>\n",
       "      <td>2V848WZD</td>\n",
       "      <td>Lajuana Vencill</td>\n",
       "      <td>lajuana@piedpiper.com</td>\n",
       "      <td>candice@stanredtax.com</td>\n",
       "      <td>1</td>\n",
       "      <td>MG Advanced</td>\n",
       "      <td>3180</td>\n",
       "      <td>2016-01-07</td>\n",
       "      <td>2016-01-31</td>\n",
       "      <td>24</td>\n",
       "      <td>1</td>\n",
       "      <td>0</td>\n",
       "    </tr>\n",
       "  </tbody>\n",
       "</table>\n",
       "</div>"
      ],
      "text/plain": [
       "      Account Opportunity_ID      Sales_Agent       SalesAgentEmailID  \\\n",
       "0       Konex       3KR50X38    Corliss Cosme   corliss@piedpiper.com   \n",
       "1      Finjob       YFS5KLJJ  Rosalina Dieter  rosalina@piedpiper.com   \n",
       "2  Kinnamplus       N0ONCYVZ    Donn Cantrell      donn@piedpiper.com   \n",
       "4     Initech       G8AO5FA2   Wilburn Farren   wilburn@piedpiper.com   \n",
       "5  Stanredtax       2V848WZD  Lajuana Vencill   lajuana@piedpiper.com   \n",
       "\n",
       "           ContactEmailID  Deal_Stage         Product  Close_Value  \\\n",
       "0        delila@konex.com           1  GTX Plus Basic         1255   \n",
       "1      belinda@finjob.com           1      MG Special           45   \n",
       "2    monte@kinnamplus.com           0      MG Special         1054   \n",
       "4   alejandro@initech.com           0     MG Advanced          517   \n",
       "5  candice@stanredtax.com           1     MG Advanced         3180   \n",
       "\n",
       "  Created Date Close Date  DateDiff  Ordered_Product  Ordered_Agent  \n",
       "0   2016-01-04 2016-05-24       141                2             21  \n",
       "1   2016-01-04 2016-11-02       303                6             20  \n",
       "2   2016-01-06 2016-12-07       336                6              2  \n",
       "4   2016-01-06 2016-09-18       256                1             27  \n",
       "5   2016-01-07 2016-01-31        24                1              0  "
      ]
     },
     "execution_count": 140,
     "metadata": {},
     "output_type": "execute_result"
    }
   ],
   "source": [
    "df.head()"
   ]
  },
  {
   "cell_type": "code",
   "execution_count": 267,
   "metadata": {},
   "outputs": [],
   "source": [
    "df.to_csv('sales.csv')"
   ]
  },
  {
   "cell_type": "code",
   "execution_count": 120,
   "metadata": {},
   "outputs": [
    {
     "data": {
      "image/png": "[encoded data removed]",
      "text/plain": [
       "<Figure size 432x288 with 1 Axes>"
      ]
     },
     "metadata": {
      "needs_background": "light"
     },
     "output_type": "display_data"
    }
   ],
   "source": [
    "plt.hist(df['DateDiff'])\n",
    "plt.show()"
   ]
  },
  {
   "cell_type": "code",
   "execution_count": 126,
   "metadata": {},
   "outputs": [
    {
     "data": {
      "image/png": "[encoded data removed]",
      "text/plain": [
       "<Figure size 360x360 with 1 Axes>"
      ]
     },
     "metadata": {
      "needs_background": "light"
     },
     "output_type": "display_data"
    }
   ],
   "source": [
    "sns.catplot(y='DateDiff', x='Deal_Stage', data=df)\n",
    "plt.xticks(rotation=90)\n",
    "plt.show()"
   ]
  },
  {
   "cell_type": "code",
   "execution_count": 127,
   "metadata": {},
   "outputs": [
    {
     "data": {
      "image/png": "[encoded data removed]",
      "text/plain": [
       "<Figure size 360x360 with 1 Axes>"
      ]
     },
     "metadata": {
      "needs_background": "light"
     },
     "output_type": "display_data"
    }
   ],
   "source": [
    "sns.catplot(y='Close_Value', x='Deal_Stage', data=df)\n",
    "plt.xticks(rotation=90)\n",
    "plt.show()"
   ]
  },
  {
   "cell_type": "code",
   "execution_count": 144,
   "metadata": {},
   "outputs": [
    {
     "data": {
      "text/plain": [
       "Index(['Account', 'Opportunity_ID', 'Sales_Agent', 'SalesAgentEmailID',\n",
       "       'ContactEmailID', 'Deal_Stage', 'Product', 'Close_Value',\n",
       "       'Created Date', 'Close Date', 'DateDiff', 'Ordered_Product',\n",
       "       'Ordered_Agent'],\n",
       "      dtype='object')"
      ]
     },
     "execution_count": 144,
     "metadata": {},
     "output_type": "execute_result"
    }
   ],
   "source": [
    "df.columns"
   ]
  },
  {
   "cell_type": "code",
   "execution_count": 141,
   "metadata": {},
   "outputs": [],
   "source": [
    "# At first we shall build a simple model using the given features:\n",
    "# 1. Close_value, 2. DateDiff, 3. Ordered_Product, 4. Ordered_Agent"
   ]
  },
  {
   "cell_type": "code",
   "execution_count": 149,
   "metadata": {},
   "outputs": [],
   "source": [
    "X = df[['Close_Value','DateDiff', 'Ordered_Product','Ordered_Agent']]\n",
    "y = df['Deal_Stage']"
   ]
  },
  {
   "cell_type": "code",
   "execution_count": 150,
   "metadata": {},
   "outputs": [
    {
     "data": {
      "text/html": [
       "<div>\n",
       "<style scoped>\n",
       "    .dataframe tbody tr th:only-of-type {\n",
       "        vertical-align: middle;\n",
       "    }\n",
       "\n",
       "    .dataframe tbody tr th {\n",
       "        vertical-align: top;\n",
       "    }\n",
       "\n",
       "    .dataframe thead th {\n",
       "        text-align: right;\n",
       "    }\n",
       "</style>\n",
       "<table border=\"1\" class=\"dataframe\">\n",
       "  <thead>\n",
       "    <tr style=\"text-align: right;\">\n",
       "      <th></th>\n",
       "      <th>Close_Value</th>\n",
       "      <th>DateDiff</th>\n",
       "      <th>Ordered_Product</th>\n",
       "      <th>Ordered_Agent</th>\n",
       "    </tr>\n",
       "  </thead>\n",
       "  <tbody>\n",
       "    <tr>\n",
       "      <th>0</th>\n",
       "      <td>1255</td>\n",
       "      <td>141</td>\n",
       "      <td>2</td>\n",
       "      <td>21</td>\n",
       "    </tr>\n",
       "    <tr>\n",
       "      <th>1</th>\n",
       "      <td>45</td>\n",
       "      <td>303</td>\n",
       "      <td>6</td>\n",
       "      <td>20</td>\n",
       "    </tr>\n",
       "    <tr>\n",
       "      <th>2</th>\n",
       "      <td>1054</td>\n",
       "      <td>336</td>\n",
       "      <td>6</td>\n",
       "      <td>2</td>\n",
       "    </tr>\n",
       "    <tr>\n",
       "      <th>4</th>\n",
       "      <td>517</td>\n",
       "      <td>256</td>\n",
       "      <td>1</td>\n",
       "      <td>27</td>\n",
       "    </tr>\n",
       "    <tr>\n",
       "      <th>5</th>\n",
       "      <td>3180</td>\n",
       "      <td>24</td>\n",
       "      <td>1</td>\n",
       "      <td>0</td>\n",
       "    </tr>\n",
       "    <tr>\n",
       "      <th>...</th>\n",
       "      <td>...</td>\n",
       "      <td>...</td>\n",
       "      <td>...</td>\n",
       "      <td>...</td>\n",
       "    </tr>\n",
       "    <tr>\n",
       "      <th>8293</th>\n",
       "      <td>555</td>\n",
       "      <td>241</td>\n",
       "      <td>4</td>\n",
       "      <td>19</td>\n",
       "    </tr>\n",
       "    <tr>\n",
       "      <th>8296</th>\n",
       "      <td>5169</td>\n",
       "      <td>191</td>\n",
       "      <td>5</td>\n",
       "      <td>12</td>\n",
       "    </tr>\n",
       "    <tr>\n",
       "      <th>8297</th>\n",
       "      <td>4631</td>\n",
       "      <td>642</td>\n",
       "      <td>6</td>\n",
       "      <td>15</td>\n",
       "    </tr>\n",
       "    <tr>\n",
       "      <th>8298</th>\n",
       "      <td>4880</td>\n",
       "      <td>37</td>\n",
       "      <td>5</td>\n",
       "      <td>12</td>\n",
       "    </tr>\n",
       "    <tr>\n",
       "      <th>8299</th>\n",
       "      <td>54</td>\n",
       "      <td>703</td>\n",
       "      <td>6</td>\n",
       "      <td>20</td>\n",
       "    </tr>\n",
       "  </tbody>\n",
       "</table>\n",
       "<p>6711 rows × 4 columns</p>\n",
       "</div>"
      ],
      "text/plain": [
       "      Close_Value  DateDiff  Ordered_Product  Ordered_Agent\n",
       "0            1255       141                2             21\n",
       "1              45       303                6             20\n",
       "2            1054       336                6              2\n",
       "4             517       256                1             27\n",
       "5            3180        24                1              0\n",
       "...           ...       ...              ...            ...\n",
       "8293          555       241                4             19\n",
       "8296         5169       191                5             12\n",
       "8297         4631       642                6             15\n",
       "8298         4880        37                5             12\n",
       "8299           54       703                6             20\n",
       "\n",
       "[6711 rows x 4 columns]"
      ]
     },
     "execution_count": 150,
     "metadata": {},
     "output_type": "execute_result"
    }
   ],
   "source": [
    "X"
   ]
  },
  {
   "cell_type": "code",
   "execution_count": 152,
   "metadata": {},
   "outputs": [],
   "source": [
    "from sklearn.preprocessing import RobustScaler\n",
    "\n",
    "from sklearn.metrics import roc_auc_score\n",
    "from sklearn.model_selection import train_test_split"
   ]
  },
  {
   "cell_type": "code",
   "execution_count": 151,
   "metadata": {},
   "outputs": [
    {
     "data": {
      "text/plain": [
       "((4697, 4), (2014, 4))"
      ]
     },
     "execution_count": 151,
     "metadata": {},
     "output_type": "execute_result"
    }
   ],
   "source": [
    "# let's separate into training and testing set\n",
    "X_train, X_test, y_train, y_test = train_test_split(X, y, test_size=0.3,\n",
    "                                                    random_state=0, stratify=y)\n",
    "X_train.shape, X_test.shape"
   ]
  },
  {
   "cell_type": "code",
   "execution_count": 153,
   "metadata": {},
   "outputs": [],
   "source": [
    "scaler = RobustScaler() # call the object\n",
    "X_train_scaled = scaler.fit_transform(X_train) # fit the scaler to the train set, and then scale it\n",
    "X_test_scaled = scaler.transform(X_test) # scale the test set"
   ]
  },
  {
   "cell_type": "code",
   "execution_count": 154,
   "metadata": {},
   "outputs": [],
   "source": [
    "#WE shall be using this scaled version of the dataset for algorithms which require us to use a distance metric, "
   ]
  },
  {
   "cell_type": "markdown",
   "metadata": {},
   "source": [
    "## Algorithm 1 - Logistic Regression"
   ]
  },
  {
   "cell_type": "code",
   "execution_count": 156,
   "metadata": {},
   "outputs": [],
   "source": [
    "from sklearn.linear_model import LogisticRegression"
   ]
  },
  {
   "cell_type": "code",
   "execution_count": 181,
   "metadata": {},
   "outputs": [],
   "source": [
    "# example of grid searching key hyperparametres for logistic regression\n",
    "from sklearn.model_selection import RepeatedStratifiedKFold\n",
    "from sklearn.model_selection import GridSearchCV\n",
    "\n",
    "model = LogisticRegression()\n",
    "solvers = ['newton-cg', 'lbfgs', 'liblinear']\n",
    "penalty = ['l2']\n",
    "c_values = [100, 10, 1.0, 0.1, 0.01]\n",
    "# define grid search\n",
    "grid = dict(solver=solvers,penalty=penalty,C=c_values)\n",
    "\n",
    "grid_search = GridSearchCV(estimator=model, param_grid=grid, n_jobs=-1, cv=3, scoring='accuracy',error_score=0)\n",
    "grid_result = grid_search.fit(X_train_scaled, y_train)"
   ]
  },
  {
   "cell_type": "code",
   "execution_count": 182,
   "metadata": {},
   "outputs": [
    {
     "name": "stdout",
     "output_type": "stream",
     "text": [
      "Best: 0.683631 using {'C': 1.0, 'penalty': 'l2', 'solver': 'newton-cg'}\n"
     ]
    }
   ],
   "source": [
    "# summarize results\n",
    "print(\"Best: %f using %s\" % (grid_result.best_score_, grid_result.best_params_))"
   ]
  },
  {
   "cell_type": "code",
   "execution_count": 188,
   "metadata": {},
   "outputs": [],
   "source": [
    "best_model1 = LogisticRegression(C=1, solver='newton-cg', penalty = 'l2')\n",
    "best_model1.fit(X_train_scaled, y_train)\n",
    "y_pred = best_model1.predict(X_test_scaled)"
   ]
  },
  {
   "cell_type": "code",
   "execution_count": 189,
   "metadata": {},
   "outputs": [
    {
     "name": "stdout",
     "output_type": "stream",
     "text": [
      "[[ 144  598]\n",
      " [  26 1246]]\n",
      "Accuracy of our model is:  0.6901688182720953\n"
     ]
    }
   ],
   "source": [
    "from sklearn.metrics import confusion_matrix,accuracy_score,roc_curve\n",
    "\n",
    "print(confusion_matrix(y_test, y_pred))\n",
    "print('Accuracy of our model is: ', accuracy_score(y_test, y_pred))"
   ]
  },
  {
   "cell_type": "code",
   "execution_count": 190,
   "metadata": {},
   "outputs": [
    {
     "name": "stdout",
     "output_type": "stream",
     "text": [
      "              precision    recall  f1-score   support\n",
      "\n",
      "           0       0.85      0.19      0.32       742\n",
      "           1       0.68      0.98      0.80      1272\n",
      "\n",
      "    accuracy                           0.69      2014\n",
      "   macro avg       0.76      0.59      0.56      2014\n",
      "weighted avg       0.74      0.69      0.62      2014\n",
      "\n"
     ]
    }
   ],
   "source": [
    "from sklearn.metrics import classification_report, cohen_kappa_score\n",
    "print(classification_report(y_test, y_pred))"
   ]
  },
  {
   "cell_type": "code",
   "execution_count": 191,
   "metadata": {},
   "outputs": [
    {
     "name": "stdout",
     "output_type": "stream",
     "text": [
      "0.2068504147712068\n"
     ]
    }
   ],
   "source": [
    "print(cohen_kappa_score(y_test, y_pred))"
   ]
  },
  {
   "cell_type": "code",
   "execution_count": 193,
   "metadata": {},
   "outputs": [
    {
     "name": "stdout",
     "output_type": "stream",
     "text": [
      "Feature: 0, Score: 0.89830\n",
      "Feature: 1, Score: -0.06748\n",
      "Feature: 2, Score: 0.26383\n",
      "Feature: 3, Score: 0.21140\n"
     ]
    },
    {
     "data": {
      "image/png": "[encoded data removed]",
      "text/plain": [
       "<Figure size 432x288 with 1 Axes>"
      ]
     },
     "metadata": {
      "needs_background": "light"
     },
     "output_type": "display_data"
    }
   ],
   "source": [
    "# get importance\n",
    "importance = best_model1.coef_[0]\n",
    "# summarize feature importance\n",
    "for i,v in enumerate(importance):\n",
    "    print('Feature: %0d, Score: %.5f' % (i,v))\n",
    "# plot feature importance\n",
    "plt.bar([x for x in X_train.columns], importance)\n",
    "plt.show()"
   ]
  },
  {
   "cell_type": "code",
   "execution_count": 167,
   "metadata": {},
   "outputs": [],
   "source": [
    "# 2. Random Forests"
   ]
  },
  {
   "cell_type": "code",
   "execution_count": 168,
   "metadata": {},
   "outputs": [],
   "source": [
    "from sklearn.ensemble import RandomForestClassifier"
   ]
  },
  {
   "cell_type": "code",
   "execution_count": 175,
   "metadata": {},
   "outputs": [
    {
     "name": "stdout",
     "output_type": "stream",
     "text": [
      "Fitting 3 folds for each of 100 candidates, totalling 300 fits\n"
     ]
    },
    {
     "name": "stderr",
     "output_type": "stream",
     "text": [
      "[Parallel(n_jobs=-1)]: Using backend LokyBackend with 4 concurrent workers.\n",
      "[Parallel(n_jobs=-1)]: Done  42 tasks      | elapsed:   15.9s\n",
      "[Parallel(n_jobs=-1)]: Done 192 tasks      | elapsed:  1.3min\n",
      "[Parallel(n_jobs=-1)]: Done 300 out of 300 | elapsed:  2.2min finished\n"
     ]
    }
   ],
   "source": [
    "rf1 = RandomForestClassifier()\n",
    "\n",
    "n_estimators = [200, 300, 500, 400, 100]\n",
    "max_depth = [4,6,5, 7,8]\n",
    "min_samples_split = [6,8,9,7]\n",
    "\n",
    "hyperF = dict(n_estimators = n_estimators, max_depth = max_depth,  \n",
    "              min_samples_split = min_samples_split)\n",
    "\n",
    "gridF = GridSearchCV(rf1, hyperF, cv = 3, verbose = 1, scoring='accuracy',\n",
    "                      n_jobs = -1)\n",
    "bestF = gridF.fit(X_train_scaled, y_train)"
   ]
  },
  {
   "cell_type": "code",
   "execution_count": 176,
   "metadata": {},
   "outputs": [
    {
     "name": "stdout",
     "output_type": "stream",
     "text": [
      "Best: 0.914414 using {'max_depth': 8, 'min_samples_split': 7, 'n_estimators': 300}\n"
     ]
    }
   ],
   "source": [
    "# summarize results\n",
    "print(\"Best: %f using %s\" % (bestF.best_score_, bestF.best_params_))"
   ]
  },
  {
   "cell_type": "code",
   "execution_count": 177,
   "metadata": {},
   "outputs": [],
   "source": [
    "rf_best = RandomForestClassifier(max_depth= 8, min_samples_split= 7, n_estimators= 300, min_samples_leaf=3, max_features='sqrt')"
   ]
  },
  {
   "cell_type": "code",
   "execution_count": 178,
   "metadata": {},
   "outputs": [
    {
     "name": "stdout",
     "output_type": "stream",
     "text": [
      "[[ 575  167]\n",
      " [   4 1268]]\n",
      "Accuracy of our model is:  0.9150943396226415\n",
      "              precision    recall  f1-score   support\n",
      "\n",
      "           0       0.99      0.77      0.87       742\n",
      "           1       0.88      1.00      0.94      1272\n",
      "\n",
      "    accuracy                           0.92      2014\n",
      "   macro avg       0.94      0.89      0.90      2014\n",
      "weighted avg       0.92      0.92      0.91      2014\n",
      "\n"
     ]
    }
   ],
   "source": [
    "rf_best.fit(X_train_scaled, y_train)\n",
    "y_pred = rf_best.predict(X_test_scaled)\n",
    "\n",
    "print(confusion_matrix(y_test, y_pred))\n",
    "print('Accuracy of our model is: ', accuracy_score(y_test, y_pred))\n",
    "print(classification_report(y_test, y_pred))"
   ]
  },
  {
   "cell_type": "code",
   "execution_count": 179,
   "metadata": {},
   "outputs": [
    {
     "name": "stdout",
     "output_type": "stream",
     "text": [
      "0.8088036250220679\n"
     ]
    }
   ],
   "source": [
    "print(cohen_kappa_score(y_test, y_pred))"
   ]
  },
  {
   "cell_type": "code",
   "execution_count": 180,
   "metadata": {},
   "outputs": [
    {
     "data": {
      "text/plain": [
       "<matplotlib.axes._subplots.AxesSubplot at 0x1902798a978>"
      ]
     },
     "execution_count": 180,
     "metadata": {},
     "output_type": "execute_result"
    },
    {
     "data": {
      "image/png": "[encoded data removed]",
      "text/plain": [
       "<Figure size 1440x720 with 1 Axes>"
      ]
     },
     "metadata": {
      "needs_background": "light"
     },
     "output_type": "display_data"
    }
   ],
   "source": [
    "features = pd.DataFrame()\n",
    "features['Feature'] = X_train.columns\n",
    "features['Importance'] = rf_best.feature_importances_\n",
    "features.sort_values(by=['Importance'], ascending=False, inplace=True)\n",
    "features.set_index('Feature', inplace=True)\n",
    "\n",
    "features.plot(kind='bar', figsize=(20, 10))"
   ]
  },
  {
   "cell_type": "markdown",
   "metadata": {},
   "source": [
    "## Support Vector Machines"
   ]
  },
  {
   "cell_type": "code",
   "execution_count": 196,
   "metadata": {},
   "outputs": [
    {
     "name": "stdout",
     "output_type": "stream",
     "text": [
      "Fitting 3 folds for each of 45 candidates, totalling 135 fits\n",
      "[CV] C=5, gamma=0.1, kernel=rbf ......................................\n"
     ]
    },
    {
     "name": "stderr",
     "output_type": "stream",
     "text": [
      "[Parallel(n_jobs=1)]: Using backend SequentialBackend with 1 concurrent workers.\n"
     ]
    },
    {
     "name": "stdout",
     "output_type": "stream",
     "text": [
      "[CV] .......... C=5, gamma=0.1, kernel=rbf, score=0.695, total=   0.5s\n",
      "[CV] C=5, gamma=0.1, kernel=rbf ......................................\n"
     ]
    },
    {
     "name": "stderr",
     "output_type": "stream",
     "text": [
      "[Parallel(n_jobs=1)]: Done   1 out of   1 | elapsed:    0.4s remaining:    0.0s\n"
     ]
    },
    {
     "name": "stdout",
     "output_type": "stream",
     "text": [
      "[CV] .......... C=5, gamma=0.1, kernel=rbf, score=0.729, total=   0.4s\n",
      "[CV] C=5, gamma=0.1, kernel=rbf ......................................\n"
     ]
    },
    {
     "name": "stderr",
     "output_type": "stream",
     "text": [
      "[Parallel(n_jobs=1)]: Done   2 out of   2 | elapsed:    0.8s remaining:    0.0s\n"
     ]
    },
    {
     "name": "stdout",
     "output_type": "stream",
     "text": [
      "[CV] .......... C=5, gamma=0.1, kernel=rbf, score=0.733, total=   0.4s\n",
      "[CV] C=5, gamma=0.1, kernel=poly .....................................\n",
      "[CV] ......... C=5, gamma=0.1, kernel=poly, score=0.632, total=   0.3s\n",
      "[CV] C=5, gamma=0.1, kernel=poly .....................................\n",
      "[CV] ......... C=5, gamma=0.1, kernel=poly, score=0.632, total=   0.3s\n",
      "[CV] C=5, gamma=0.1, kernel=poly .....................................\n",
      "[CV] ......... C=5, gamma=0.1, kernel=poly, score=0.632, total=   0.2s\n",
      "[CV] C=5, gamma=0.1, kernel=sigmoid ..................................\n",
      "[CV] ...... C=5, gamma=0.1, kernel=sigmoid, score=0.693, total=   0.6s\n",
      "[CV] C=5, gamma=0.1, kernel=sigmoid ..................................\n",
      "[CV] ...... C=5, gamma=0.1, kernel=sigmoid, score=0.670, total=   0.5s\n",
      "[CV] C=5, gamma=0.1, kernel=sigmoid ..................................\n",
      "[CV] ...... C=5, gamma=0.1, kernel=sigmoid, score=0.706, total=   0.5s\n",
      "[CV] C=5, gamma=0.01, kernel=rbf .....................................\n",
      "[CV] ......... C=5, gamma=0.01, kernel=rbf, score=0.632, total=   0.5s\n",
      "[CV] C=5, gamma=0.01, kernel=rbf .....................................\n",
      "[CV] ......... C=5, gamma=0.01, kernel=rbf, score=0.632, total=   0.4s\n",
      "[CV] C=5, gamma=0.01, kernel=rbf .....................................\n",
      "[CV] ......... C=5, gamma=0.01, kernel=rbf, score=0.631, total=   0.4s\n",
      "[CV] C=5, gamma=0.01, kernel=poly ....................................\n",
      "[CV] ........ C=5, gamma=0.01, kernel=poly, score=0.632, total=   0.2s\n",
      "[CV] C=5, gamma=0.01, kernel=poly ....................................\n",
      "[CV] ........ C=5, gamma=0.01, kernel=poly, score=0.632, total=   0.2s\n",
      "[CV] C=5, gamma=0.01, kernel=poly ....................................\n",
      "[CV] ........ C=5, gamma=0.01, kernel=poly, score=0.631, total=   0.2s\n",
      "[CV] C=5, gamma=0.01, kernel=sigmoid .................................\n",
      "[CV] ..... C=5, gamma=0.01, kernel=sigmoid, score=0.632, total=   0.7s\n",
      "[CV] C=5, gamma=0.01, kernel=sigmoid .................................\n",
      "[CV] ..... C=5, gamma=0.01, kernel=sigmoid, score=0.632, total=   0.3s\n",
      "[CV] C=5, gamma=0.01, kernel=sigmoid .................................\n",
      "[CV] ..... C=5, gamma=0.01, kernel=sigmoid, score=0.629, total=   0.6s\n",
      "[CV] C=5, gamma=0.001, kernel=rbf ....................................\n",
      "[CV] ........ C=5, gamma=0.001, kernel=rbf, score=0.632, total=   0.5s\n",
      "[CV] C=5, gamma=0.001, kernel=rbf ....................................\n",
      "[CV] ........ C=5, gamma=0.001, kernel=rbf, score=0.632, total=   0.4s\n",
      "[CV] C=5, gamma=0.001, kernel=rbf ....................................\n",
      "[CV] ........ C=5, gamma=0.001, kernel=rbf, score=0.631, total=   0.4s\n",
      "[CV] C=5, gamma=0.001, kernel=poly ...................................\n",
      "[CV] ....... C=5, gamma=0.001, kernel=poly, score=0.632, total=   0.2s\n",
      "[CV] C=5, gamma=0.001, kernel=poly ...................................\n",
      "[CV] ....... C=5, gamma=0.001, kernel=poly, score=0.632, total=   0.2s\n",
      "[CV] C=5, gamma=0.001, kernel=poly ...................................\n",
      "[CV] ....... C=5, gamma=0.001, kernel=poly, score=0.631, total=   0.2s\n",
      "[CV] C=5, gamma=0.001, kernel=sigmoid ................................\n",
      "[CV] .... C=5, gamma=0.001, kernel=sigmoid, score=0.632, total=   0.4s\n",
      "[CV] C=5, gamma=0.001, kernel=sigmoid ................................\n",
      "[CV] .... C=5, gamma=0.001, kernel=sigmoid, score=0.632, total=   0.4s\n",
      "[CV] C=5, gamma=0.001, kernel=sigmoid ................................\n",
      "[CV] .... C=5, gamma=0.001, kernel=sigmoid, score=0.631, total=   0.3s\n",
      "[CV] C=10, gamma=0.1, kernel=rbf .....................................\n",
      "[CV] ......... C=10, gamma=0.1, kernel=rbf, score=0.719, total=   0.6s\n",
      "[CV] C=10, gamma=0.1, kernel=rbf .....................................\n",
      "[CV] ......... C=10, gamma=0.1, kernel=rbf, score=0.729, total=   0.5s\n",
      "[CV] C=10, gamma=0.1, kernel=rbf .....................................\n",
      "[CV] ......... C=10, gamma=0.1, kernel=rbf, score=0.741, total=   0.6s\n",
      "[CV] C=10, gamma=0.1, kernel=poly ....................................\n",
      "[CV] ........ C=10, gamma=0.1, kernel=poly, score=0.637, total=   0.5s\n",
      "[CV] C=10, gamma=0.1, kernel=poly ....................................\n",
      "[CV] ........ C=10, gamma=0.1, kernel=poly, score=0.632, total=   0.3s\n",
      "[CV] C=10, gamma=0.1, kernel=poly ....................................\n",
      "[CV] ........ C=10, gamma=0.1, kernel=poly, score=0.637, total=   0.2s\n",
      "[CV] C=10, gamma=0.1, kernel=sigmoid .................................\n",
      "[CV] ..... C=10, gamma=0.1, kernel=sigmoid, score=0.660, total=   0.5s\n",
      "[CV] C=10, gamma=0.1, kernel=sigmoid .................................\n",
      "[CV] ..... C=10, gamma=0.1, kernel=sigmoid, score=0.647, total=   0.5s\n",
      "[CV] C=10, gamma=0.1, kernel=sigmoid .................................\n",
      "[CV] ..... C=10, gamma=0.1, kernel=sigmoid, score=0.691, total=   0.4s\n",
      "[CV] C=10, gamma=0.01, kernel=rbf ....................................\n",
      "[CV] ........ C=10, gamma=0.01, kernel=rbf, score=0.632, total=   0.4s\n",
      "[CV] C=10, gamma=0.01, kernel=rbf ....................................\n",
      "[CV] ........ C=10, gamma=0.01, kernel=rbf, score=0.632, total=   0.4s\n",
      "[CV] C=10, gamma=0.01, kernel=rbf ....................................\n",
      "[CV] ........ C=10, gamma=0.01, kernel=rbf, score=0.631, total=   0.4s\n",
      "[CV] C=10, gamma=0.01, kernel=poly ...................................\n",
      "[CV] ....... C=10, gamma=0.01, kernel=poly, score=0.632, total=   0.2s\n",
      "[CV] C=10, gamma=0.01, kernel=poly ...................................\n",
      "[CV] ....... C=10, gamma=0.01, kernel=poly, score=0.632, total=   0.2s\n",
      "[CV] C=10, gamma=0.01, kernel=poly ...................................\n",
      "[CV] ....... C=10, gamma=0.01, kernel=poly, score=0.631, total=   0.2s\n",
      "[CV] C=10, gamma=0.01, kernel=sigmoid ................................\n",
      "[CV] .... C=10, gamma=0.01, kernel=sigmoid, score=0.632, total=   0.7s\n",
      "[CV] C=10, gamma=0.01, kernel=sigmoid ................................\n",
      "[CV] .... C=10, gamma=0.01, kernel=sigmoid, score=0.632, total=   1.0s\n",
      "[CV] C=10, gamma=0.01, kernel=sigmoid ................................\n",
      "[CV] .... C=10, gamma=0.01, kernel=sigmoid, score=0.629, total=   0.5s\n",
      "[CV] C=10, gamma=0.001, kernel=rbf ...................................\n",
      "[CV] ....... C=10, gamma=0.001, kernel=rbf, score=0.632, total=   0.6s\n",
      "[CV] C=10, gamma=0.001, kernel=rbf ...................................\n",
      "[CV] ....... C=10, gamma=0.001, kernel=rbf, score=0.632, total=   1.4s\n",
      "[CV] C=10, gamma=0.001, kernel=rbf ...................................\n",
      "[CV] ....... C=10, gamma=0.001, kernel=rbf, score=0.631, total=   0.8s\n",
      "[CV] C=10, gamma=0.001, kernel=poly ..................................\n",
      "[CV] ...... C=10, gamma=0.001, kernel=poly, score=0.632, total=   0.2s\n",
      "[CV] C=10, gamma=0.001, kernel=poly ..................................\n",
      "[CV] ...... C=10, gamma=0.001, kernel=poly, score=0.632, total=   0.3s\n",
      "[CV] C=10, gamma=0.001, kernel=poly ..................................\n",
      "[CV] ...... C=10, gamma=0.001, kernel=poly, score=0.631, total=   0.3s\n",
      "[CV] C=10, gamma=0.001, kernel=sigmoid ...............................\n",
      "[CV] ... C=10, gamma=0.001, kernel=sigmoid, score=0.632, total=   0.5s\n",
      "[CV] C=10, gamma=0.001, kernel=sigmoid ...............................\n",
      "[CV] ... C=10, gamma=0.001, kernel=sigmoid, score=0.632, total=   0.4s\n",
      "[CV] C=10, gamma=0.001, kernel=sigmoid ...............................\n",
      "[CV] ... C=10, gamma=0.001, kernel=sigmoid, score=0.631, total=   0.5s\n",
      "[CV] C=100, gamma=0.1, kernel=rbf ....................................\n",
      "[CV] ........ C=100, gamma=0.1, kernel=rbf, score=0.782, total=   1.0s\n",
      "[CV] C=100, gamma=0.1, kernel=rbf ....................................\n",
      "[CV] ........ C=100, gamma=0.1, kernel=rbf, score=0.773, total=   0.7s\n",
      "[CV] C=100, gamma=0.1, kernel=rbf ....................................\n",
      "[CV] ........ C=100, gamma=0.1, kernel=rbf, score=0.771, total=   0.6s\n",
      "[CV] C=100, gamma=0.1, kernel=poly ...................................\n",
      "[CV] ....... C=100, gamma=0.1, kernel=poly, score=0.674, total=   0.4s\n",
      "[CV] C=100, gamma=0.1, kernel=poly ...................................\n",
      "[CV] ....... C=100, gamma=0.1, kernel=poly, score=0.683, total=   0.6s\n",
      "[CV] C=100, gamma=0.1, kernel=poly ...................................\n",
      "[CV] ....... C=100, gamma=0.1, kernel=poly, score=0.679, total=   0.4s\n",
      "[CV] C=100, gamma=0.1, kernel=sigmoid ................................\n"
     ]
    },
    {
     "name": "stdout",
     "output_type": "stream",
     "text": [
      "[CV] .... C=100, gamma=0.1, kernel=sigmoid, score=0.594, total=   0.3s\n",
      "[CV] C=100, gamma=0.1, kernel=sigmoid ................................\n",
      "[CV] .... C=100, gamma=0.1, kernel=sigmoid, score=0.577, total=   0.4s\n",
      "[CV] C=100, gamma=0.1, kernel=sigmoid ................................\n",
      "[CV] .... C=100, gamma=0.1, kernel=sigmoid, score=0.597, total=   0.3s\n",
      "[CV] C=100, gamma=0.01, kernel=rbf ...................................\n",
      "[CV] ....... C=100, gamma=0.01, kernel=rbf, score=0.672, total=   0.6s\n",
      "[CV] C=100, gamma=0.01, kernel=rbf ...................................\n",
      "[CV] ....... C=100, gamma=0.01, kernel=rbf, score=0.695, total=   0.6s\n",
      "[CV] C=100, gamma=0.01, kernel=rbf ...................................\n",
      "[CV] ....... C=100, gamma=0.01, kernel=rbf, score=0.692, total=   0.6s\n",
      "[CV] C=100, gamma=0.01, kernel=poly ..................................\n",
      "[CV] ...... C=100, gamma=0.01, kernel=poly, score=0.632, total=   0.2s\n",
      "[CV] C=100, gamma=0.01, kernel=poly ..................................\n",
      "[CV] ...... C=100, gamma=0.01, kernel=poly, score=0.632, total=   0.2s\n",
      "[CV] C=100, gamma=0.01, kernel=poly ..................................\n",
      "[CV] ...... C=100, gamma=0.01, kernel=poly, score=0.631, total=   0.2s\n",
      "[CV] C=100, gamma=0.01, kernel=sigmoid ...............................\n",
      "[CV] ... C=100, gamma=0.01, kernel=sigmoid, score=0.632, total=   0.9s\n",
      "[CV] C=100, gamma=0.01, kernel=sigmoid ...............................\n",
      "[CV] ... C=100, gamma=0.01, kernel=sigmoid, score=0.632, total=   1.1s\n",
      "[CV] C=100, gamma=0.01, kernel=sigmoid ...............................\n",
      "[CV] ... C=100, gamma=0.01, kernel=sigmoid, score=0.629, total=   0.6s\n",
      "[CV] C=100, gamma=0.001, kernel=rbf ..................................\n",
      "[CV] ...... C=100, gamma=0.001, kernel=rbf, score=0.632, total=   0.4s\n",
      "[CV] C=100, gamma=0.001, kernel=rbf ..................................\n",
      "[CV] ...... C=100, gamma=0.001, kernel=rbf, score=0.632, total=   0.5s\n",
      "[CV] C=100, gamma=0.001, kernel=rbf ..................................\n",
      "[CV] ...... C=100, gamma=0.001, kernel=rbf, score=0.631, total=   0.4s\n",
      "[CV] C=100, gamma=0.001, kernel=poly .................................\n",
      "[CV] ..... C=100, gamma=0.001, kernel=poly, score=0.632, total=   0.2s\n",
      "[CV] C=100, gamma=0.001, kernel=poly .................................\n",
      "[CV] ..... C=100, gamma=0.001, kernel=poly, score=0.632, total=   0.2s\n",
      "[CV] C=100, gamma=0.001, kernel=poly .................................\n",
      "[CV] ..... C=100, gamma=0.001, kernel=poly, score=0.631, total=   0.3s\n",
      "[CV] C=100, gamma=0.001, kernel=sigmoid ..............................\n",
      "[CV] .. C=100, gamma=0.001, kernel=sigmoid, score=0.632, total=   0.4s\n",
      "[CV] C=100, gamma=0.001, kernel=sigmoid ..............................\n",
      "[CV] .. C=100, gamma=0.001, kernel=sigmoid, score=0.632, total=   0.4s\n",
      "[CV] C=100, gamma=0.001, kernel=sigmoid ..............................\n",
      "[CV] .. C=100, gamma=0.001, kernel=sigmoid, score=0.631, total=   0.4s\n",
      "[CV] C=50, gamma=0.1, kernel=rbf .....................................\n",
      "[CV] ......... C=50, gamma=0.1, kernel=rbf, score=0.768, total=   0.7s\n",
      "[CV] C=50, gamma=0.1, kernel=rbf .....................................\n",
      "[CV] ......... C=50, gamma=0.1, kernel=rbf, score=0.757, total=   0.6s\n",
      "[CV] C=50, gamma=0.1, kernel=rbf .....................................\n",
      "[CV] ......... C=50, gamma=0.1, kernel=rbf, score=0.759, total=   0.5s\n",
      "[CV] C=50, gamma=0.1, kernel=poly ....................................\n",
      "[CV] ........ C=50, gamma=0.1, kernel=poly, score=0.674, total=   0.5s\n",
      "[CV] C=50, gamma=0.1, kernel=poly ....................................\n",
      "[CV] ........ C=50, gamma=0.1, kernel=poly, score=0.683, total=   0.6s\n",
      "[CV] C=50, gamma=0.1, kernel=poly ....................................\n",
      "[CV] ........ C=50, gamma=0.1, kernel=poly, score=0.679, total=   0.4s\n",
      "[CV] C=50, gamma=0.1, kernel=sigmoid .................................\n",
      "[CV] ..... C=50, gamma=0.1, kernel=sigmoid, score=0.605, total=   0.4s\n",
      "[CV] C=50, gamma=0.1, kernel=sigmoid .................................\n",
      "[CV] ..... C=50, gamma=0.1, kernel=sigmoid, score=0.582, total=   1.2s\n",
      "[CV] C=50, gamma=0.1, kernel=sigmoid .................................\n",
      "[CV] ..... C=50, gamma=0.1, kernel=sigmoid, score=0.612, total=   0.4s\n",
      "[CV] C=50, gamma=0.01, kernel=rbf ....................................\n",
      "[CV] ........ C=50, gamma=0.01, kernel=rbf, score=0.672, total=   0.9s\n",
      "[CV] C=50, gamma=0.01, kernel=rbf ....................................\n",
      "[CV] ........ C=50, gamma=0.01, kernel=rbf, score=0.686, total=   1.0s\n",
      "[CV] C=50, gamma=0.01, kernel=rbf ....................................\n",
      "[CV] ........ C=50, gamma=0.01, kernel=rbf, score=0.701, total=   0.6s\n",
      "[CV] C=50, gamma=0.01, kernel=poly ...................................\n",
      "[CV] ....... C=50, gamma=0.01, kernel=poly, score=0.632, total=   0.3s\n",
      "[CV] C=50, gamma=0.01, kernel=poly ...................................\n",
      "[CV] ....... C=50, gamma=0.01, kernel=poly, score=0.632, total=   0.3s\n",
      "[CV] C=50, gamma=0.01, kernel=poly ...................................\n",
      "[CV] ....... C=50, gamma=0.01, kernel=poly, score=0.631, total=   0.2s\n",
      "[CV] C=50, gamma=0.01, kernel=sigmoid ................................\n",
      "[CV] .... C=50, gamma=0.01, kernel=sigmoid, score=0.632, total=   1.3s\n",
      "[CV] C=50, gamma=0.01, kernel=sigmoid ................................\n",
      "[CV] .... C=50, gamma=0.01, kernel=sigmoid, score=0.632, total=   2.1s\n",
      "[CV] C=50, gamma=0.01, kernel=sigmoid ................................\n",
      "[CV] .... C=50, gamma=0.01, kernel=sigmoid, score=0.629, total=   0.7s\n",
      "[CV] C=50, gamma=0.001, kernel=rbf ...................................\n",
      "[CV] ....... C=50, gamma=0.001, kernel=rbf, score=0.632, total=   0.8s\n",
      "[CV] C=50, gamma=0.001, kernel=rbf ...................................\n",
      "[CV] ....... C=50, gamma=0.001, kernel=rbf, score=0.632, total=   0.6s\n",
      "[CV] C=50, gamma=0.001, kernel=rbf ...................................\n",
      "[CV] ....... C=50, gamma=0.001, kernel=rbf, score=0.631, total=   0.5s\n",
      "[CV] C=50, gamma=0.001, kernel=poly ..................................\n",
      "[CV] ...... C=50, gamma=0.001, kernel=poly, score=0.632, total=   0.2s\n",
      "[CV] C=50, gamma=0.001, kernel=poly ..................................\n",
      "[CV] ...... C=50, gamma=0.001, kernel=poly, score=0.632, total=   0.2s\n",
      "[CV] C=50, gamma=0.001, kernel=poly ..................................\n",
      "[CV] ...... C=50, gamma=0.001, kernel=poly, score=0.631, total=   0.3s\n",
      "[CV] C=50, gamma=0.001, kernel=sigmoid ...............................\n",
      "[CV] ... C=50, gamma=0.001, kernel=sigmoid, score=0.632, total=   0.5s\n",
      "[CV] C=50, gamma=0.001, kernel=sigmoid ...............................\n",
      "[CV] ... C=50, gamma=0.001, kernel=sigmoid, score=0.632, total=   0.5s\n",
      "[CV] C=50, gamma=0.001, kernel=sigmoid ...............................\n",
      "[CV] ... C=50, gamma=0.001, kernel=sigmoid, score=0.631, total=   0.4s\n",
      "[CV] C=75, gamma=0.1, kernel=rbf .....................................\n",
      "[CV] ......... C=75, gamma=0.1, kernel=rbf, score=0.778, total=   0.8s\n",
      "[CV] C=75, gamma=0.1, kernel=rbf .....................................\n",
      "[CV] ......... C=75, gamma=0.1, kernel=rbf, score=0.764, total=   0.8s\n",
      "[CV] C=75, gamma=0.1, kernel=rbf .....................................\n",
      "[CV] ......... C=75, gamma=0.1, kernel=rbf, score=0.766, total=   0.8s\n",
      "[CV] C=75, gamma=0.1, kernel=poly ....................................\n",
      "[CV] ........ C=75, gamma=0.1, kernel=poly, score=0.674, total=   0.5s\n",
      "[CV] C=75, gamma=0.1, kernel=poly ....................................\n",
      "[CV] ........ C=75, gamma=0.1, kernel=poly, score=0.683, total=   0.6s\n",
      "[CV] C=75, gamma=0.1, kernel=poly ....................................\n",
      "[CV] ........ C=75, gamma=0.1, kernel=poly, score=0.679, total=   0.5s\n",
      "[CV] C=75, gamma=0.1, kernel=sigmoid .................................\n",
      "[CV] ..... C=75, gamma=0.1, kernel=sigmoid, score=0.596, total=   0.5s\n",
      "[CV] C=75, gamma=0.1, kernel=sigmoid .................................\n",
      "[CV] ..... C=75, gamma=0.1, kernel=sigmoid, score=0.578, total=   0.5s\n",
      "[CV] C=75, gamma=0.1, kernel=sigmoid .................................\n",
      "[CV] ..... C=75, gamma=0.1, kernel=sigmoid, score=0.597, total=   0.4s\n",
      "[CV] C=75, gamma=0.01, kernel=rbf ....................................\n",
      "[CV] ........ C=75, gamma=0.01, kernel=rbf, score=0.668, total=   0.5s\n",
      "[CV] C=75, gamma=0.01, kernel=rbf ....................................\n"
     ]
    },
    {
     "name": "stdout",
     "output_type": "stream",
     "text": [
      "[CV] ........ C=75, gamma=0.01, kernel=rbf, score=0.696, total=   0.5s\n",
      "[CV] C=75, gamma=0.01, kernel=rbf ....................................\n",
      "[CV] ........ C=75, gamma=0.01, kernel=rbf, score=0.696, total=   0.5s\n",
      "[CV] C=75, gamma=0.01, kernel=poly ...................................\n",
      "[CV] ....... C=75, gamma=0.01, kernel=poly, score=0.632, total=   0.3s\n",
      "[CV] C=75, gamma=0.01, kernel=poly ...................................\n",
      "[CV] ....... C=75, gamma=0.01, kernel=poly, score=0.632, total=   0.3s\n",
      "[CV] C=75, gamma=0.01, kernel=poly ...................................\n",
      "[CV] ....... C=75, gamma=0.01, kernel=poly, score=0.631, total=   0.3s\n",
      "[CV] C=75, gamma=0.01, kernel=sigmoid ................................\n",
      "[CV] .... C=75, gamma=0.01, kernel=sigmoid, score=0.632, total=   1.2s\n",
      "[CV] C=75, gamma=0.01, kernel=sigmoid ................................\n",
      "[CV] .... C=75, gamma=0.01, kernel=sigmoid, score=0.632, total=   1.3s\n",
      "[CV] C=75, gamma=0.01, kernel=sigmoid ................................\n",
      "[CV] .... C=75, gamma=0.01, kernel=sigmoid, score=0.629, total=   0.7s\n",
      "[CV] C=75, gamma=0.001, kernel=rbf ...................................\n",
      "[CV] ....... C=75, gamma=0.001, kernel=rbf, score=0.632, total=   0.6s\n",
      "[CV] C=75, gamma=0.001, kernel=rbf ...................................\n",
      "[CV] ....... C=75, gamma=0.001, kernel=rbf, score=0.632, total=   0.7s\n",
      "[CV] C=75, gamma=0.001, kernel=rbf ...................................\n",
      "[CV] ....... C=75, gamma=0.001, kernel=rbf, score=0.631, total=   0.9s\n",
      "[CV] C=75, gamma=0.001, kernel=poly ..................................\n",
      "[CV] ...... C=75, gamma=0.001, kernel=poly, score=0.632, total=   0.2s\n",
      "[CV] C=75, gamma=0.001, kernel=poly ..................................\n",
      "[CV] ...... C=75, gamma=0.001, kernel=poly, score=0.632, total=   0.3s\n",
      "[CV] C=75, gamma=0.001, kernel=poly ..................................\n",
      "[CV] ...... C=75, gamma=0.001, kernel=poly, score=0.631, total=   0.3s\n",
      "[CV] C=75, gamma=0.001, kernel=sigmoid ...............................\n",
      "[CV] ... C=75, gamma=0.001, kernel=sigmoid, score=0.632, total=   0.6s\n",
      "[CV] C=75, gamma=0.001, kernel=sigmoid ...............................\n",
      "[CV] ... C=75, gamma=0.001, kernel=sigmoid, score=0.632, total=   0.5s\n",
      "[CV] C=75, gamma=0.001, kernel=sigmoid ...............................\n",
      "[CV] ... C=75, gamma=0.001, kernel=sigmoid, score=0.631, total=   0.7s\n"
     ]
    },
    {
     "name": "stderr",
     "output_type": "stream",
     "text": [
      "[Parallel(n_jobs=1)]: Done 135 out of 135 | elapsed:  1.2min finished\n"
     ]
    },
    {
     "data": {
      "text/plain": [
       "GridSearchCV(cv=3, error_score=nan,\n",
       "             estimator=SVC(C=1.0, break_ties=False, cache_size=200,\n",
       "                           class_weight=None, coef0=0.0,\n",
       "                           decision_function_shape='ovr', degree=3,\n",
       "                           gamma='scale', kernel='rbf', max_iter=-1,\n",
       "                           probability=False, random_state=None, shrinking=True,\n",
       "                           tol=0.001, verbose=False),\n",
       "             iid='deprecated', n_jobs=None,\n",
       "             param_grid={'C': [5, 10, 100, 50, 75], 'gamma': [0.1, 0.01, 0.001],\n",
       "                         'kernel': ['rbf', 'poly', 'sigmoid']},\n",
       "             pre_dispatch='2*n_jobs', refit=True, return_train_score=False,\n",
       "             scoring='accuracy', verbose=3)"
      ]
     },
     "execution_count": 196,
     "metadata": {},
     "output_type": "execute_result"
    }
   ],
   "source": [
    "from sklearn.svm import SVC \n",
    "\n",
    "from sklearn.model_selection import GridSearchCV \n",
    "\n",
    "# defining parameter range \n",
    "param_grid = {'C': [ 5, 10, 100, 50, 75], \n",
    "            'gamma': [ 0.1, 0.01, 0.001], \n",
    "            'kernel': ['rbf', 'poly', 'sigmoid']} \n",
    "\n",
    "grid = GridSearchCV(SVC(), param_grid, refit = True, verbose = 3, cv=3, scoring='accuracy') \n",
    "\n",
    "# fitting the model for grid search \n",
    "grid.fit(X_train_scaled, y_train) "
   ]
  },
  {
   "cell_type": "code",
   "execution_count": 197,
   "metadata": {},
   "outputs": [
    {
     "name": "stdout",
     "output_type": "stream",
     "text": [
      "{'C': 100, 'gamma': 0.1, 'kernel': 'rbf'}\n",
      "SVC(C=100, break_ties=False, cache_size=200, class_weight=None, coef0=0.0,\n",
      "    decision_function_shape='ovr', degree=3, gamma=0.1, kernel='rbf',\n",
      "    max_iter=-1, probability=False, random_state=None, shrinking=True,\n",
      "    tol=0.001, verbose=False)\n"
     ]
    }
   ],
   "source": [
    "# print best parameter after tuning \n",
    "print(grid.best_params_) \n",
    "\n",
    "# print how our model looks after hyper-parameter tuning \n",
    "print(grid.best_estimator_) "
   ]
  },
  {
   "cell_type": "code",
   "execution_count": 198,
   "metadata": {},
   "outputs": [],
   "source": [
    "svc = SVC(C=100, break_ties=False, cache_size=200, class_weight=None, coef0=0.0,\n",
    "    decision_function_shape='ovr', degree=3, gamma=0.1, kernel='rbf',\n",
    "    max_iter=-1, probability=False, random_state=None, shrinking=True,\n",
    "    tol=0.001, verbose=False)\n",
    "svc.fit(X_train_scaled, y_train)\n",
    "y_pred = svc.predict(X_test_scaled)"
   ]
  },
  {
   "cell_type": "code",
   "execution_count": 199,
   "metadata": {},
   "outputs": [
    {
     "name": "stdout",
     "output_type": "stream",
     "text": [
      "[[ 306  436]\n",
      " [  17 1255]]\n",
      "Accuracy of our model is:  0.7750744786494538\n",
      "              precision    recall  f1-score   support\n",
      "\n",
      "           0       0.95      0.41      0.57       742\n",
      "           1       0.74      0.99      0.85      1272\n",
      "\n",
      "    accuracy                           0.78      2014\n",
      "   macro avg       0.84      0.70      0.71      2014\n",
      "weighted avg       0.82      0.78      0.75      2014\n",
      "\n"
     ]
    }
   ],
   "source": [
    "print(confusion_matrix(y_test, y_pred))\n",
    "print('Accuracy of our model is: ', accuracy_score(y_test, y_pred))\n",
    "print(classification_report(y_test, y_pred))"
   ]
  },
  {
   "cell_type": "code",
   "execution_count": 202,
   "metadata": {},
   "outputs": [
    {
     "name": "stdout",
     "output_type": "stream",
     "text": [
      "0.45223700120918986\n"
     ]
    }
   ],
   "source": [
    "print(cohen_kappa_score(y_test, y_pred))"
   ]
  },
  {
   "cell_type": "markdown",
   "metadata": {},
   "source": [
    "## Gradient Boosting Classifier"
   ]
  },
  {
   "cell_type": "code",
   "execution_count": 207,
   "metadata": {},
   "outputs": [],
   "source": [
    "from sklearn.ensemble import GradientBoostingClassifier"
   ]
  },
  {
   "cell_type": "code",
   "execution_count": 210,
   "metadata": {},
   "outputs": [],
   "source": [
    "parameters = {'n_estimators': [5,10],\n",
    "              'loss':['huber', 'deviance'],\n",
    "              'criterion': ['mse', \"friedman_mse\"],\n",
    "              'max_depth': [5,10,3], \n",
    "              \"max_features\":[\"log2\",\"sqrt\"],\n",
    "              'min_samples_split': [2,5,3],\n",
    "              'min_samples_leaf': [1,3,5]\n",
    "             }\n",
    "\n",
    "\n",
    "clf = GridSearchCV(GradientBoostingClassifier(), parameters, cv=3, n_jobs=-1, verbose=1)"
   ]
  },
  {
   "cell_type": "code",
   "execution_count": 211,
   "metadata": {},
   "outputs": [
    {
     "name": "stdout",
     "output_type": "stream",
     "text": [
      "0.9420906961890568\n",
      "{'criterion': 'friedman_mse', 'loss': 'deviance', 'max_depth': 10, 'max_features': 'sqrt', 'min_samples_leaf': 3, 'min_samples_split': 3, 'n_estimators': 10}\n"
     ]
    }
   ],
   "source": [
    "clf.fit(X_train_scaled, y_train) \n",
    "print(clf.score(X_train_scaled, y_train))\n",
    "print(clf.best_params_)"
   ]
  },
  {
   "cell_type": "code",
   "execution_count": 220,
   "metadata": {},
   "outputs": [
    {
     "data": {
      "text/plain": [
       "GradientBoostingClassifier(ccp_alpha=0.0, criterion='friedman_mse', init=None,\n",
       "                           learning_rate=0.1, loss='deviance', max_depth=3,\n",
       "                           max_features=None, max_leaf_nodes=None,\n",
       "                           min_impurity_decrease=0.0, min_impurity_split=None,\n",
       "                           min_samples_leaf=1, min_samples_split=2,\n",
       "                           min_weight_fraction_leaf=0.0, n_estimators=100,\n",
       "                           n_iter_no_change=None, presort='deprecated',\n",
       "                           random_state=None, subsample=1.0, tol=0.0001,\n",
       "                           validation_fraction=0.1, verbose=0,\n",
       "                           warm_start=False)"
      ]
     },
     "execution_count": 220,
     "metadata": {},
     "output_type": "execute_result"
    }
   ],
   "source": [
    "gbmclf = GradientBoostingClassifier(ccp_alpha=0.0,\n",
    "                                                  criterion='friedman_mse',\n",
    "                                                  init=None, learning_rate=0.1,\n",
    "                                                  loss='deviance', max_depth=3,\n",
    "                                                  max_features=None,\n",
    "                                                  max_leaf_nodes=None,\n",
    "                                                  min_impurity_decrease=0.0,\n",
    "                                                  min_impurity_split=None,\n",
    "                                                  min_samples_leaf=1,\n",
    "                                                  min_samples_split=2,\n",
    "                                                  min_weight_fraction_leaf=0.0,\n",
    "                                                  n_estimators=100)\n",
    "gbmclf.fit(X_train_scaled, y_train)"
   ]
  },
  {
   "cell_type": "code",
   "execution_count": 221,
   "metadata": {},
   "outputs": [],
   "source": [
    "y_pred = gbmclf.predict(X_test_scaled)"
   ]
  },
  {
   "cell_type": "code",
   "execution_count": 222,
   "metadata": {},
   "outputs": [
    {
     "name": "stdout",
     "output_type": "stream",
     "text": [
      "[[ 612  130]\n",
      " [   6 1266]]\n",
      "Accuracy of our model is:  0.9324726911618669\n",
      "              precision    recall  f1-score   support\n",
      "\n",
      "           0       0.99      0.82      0.90       742\n",
      "           1       0.91      1.00      0.95      1272\n",
      "\n",
      "    accuracy                           0.93      2014\n",
      "   macro avg       0.95      0.91      0.92      2014\n",
      "weighted avg       0.94      0.93      0.93      2014\n",
      "\n"
     ]
    }
   ],
   "source": [
    "print(confusion_matrix(y_test, y_pred))\n",
    "print('Accuracy of our model is: ', accuracy_score(y_test, y_pred))\n",
    "print(classification_report(y_test, y_pred))"
   ]
  },
  {
   "cell_type": "code",
   "execution_count": 223,
   "metadata": {},
   "outputs": [
    {
     "name": "stdout",
     "output_type": "stream",
     "text": [
      "0.8496625552711193\n"
     ]
    }
   ],
   "source": [
    "print(cohen_kappa_score(y_test, y_pred))"
   ]
  },
  {
   "cell_type": "code",
   "execution_count": 225,
   "metadata": {},
   "outputs": [
    {
     "data": {
      "image/png": "[encoded data removed]",
      "text/plain": [
       "<Figure size 1440x720 with 1 Axes>"
      ]
     },
     "metadata": {
      "needs_background": "light"
     },
     "output_type": "display_data"
    }
   ],
   "source": [
    "# sorted(zip(clf.feature_importances_, X.columns), reverse=True)\n",
    "feature_imp = pd.DataFrame(sorted(zip(gbmclf.feature_importances_,X.columns)), columns=['Value','Feature'])\n",
    "\n",
    "plt.figure(figsize=(20, 10))\n",
    "sns.barplot(x=\"Value\", y=\"Feature\", data=feature_imp.sort_values(by=\"Value\", ascending=False))\n",
    "plt.title('GBM Features (avg over folds)')\n",
    "plt.tight_layout()\n",
    "plt.show()"
   ]
  },
  {
   "cell_type": "code",
   "execution_count": null,
   "metadata": {},
   "outputs": [],
   "source": []
  },
  {
   "cell_type": "code",
   "execution_count": 229,
   "metadata": {},
   "outputs": [],
   "source": [
    "## Making predictions for unseen data. I will be using the GBM and the Random Forest model for making predictions"
   ]
  },
  {
   "cell_type": "code",
   "execution_count": 235,
   "metadata": {},
   "outputs": [
    {
     "data": {
      "text/html": [
       "<div>\n",
       "<style scoped>\n",
       "    .dataframe tbody tr th:only-of-type {\n",
       "        vertical-align: middle;\n",
       "    }\n",
       "\n",
       "    .dataframe tbody tr th {\n",
       "        vertical-align: top;\n",
       "    }\n",
       "\n",
       "    .dataframe thead th {\n",
       "        text-align: right;\n",
       "    }\n",
       "</style>\n",
       "<table border=\"1\" class=\"dataframe\">\n",
       "  <thead>\n",
       "    <tr style=\"text-align: right;\">\n",
       "      <th></th>\n",
       "      <th>Account</th>\n",
       "      <th>Opportunity_ID</th>\n",
       "      <th>Sales_Agent</th>\n",
       "      <th>SalesAgentEmailID</th>\n",
       "      <th>ContactEmailID</th>\n",
       "      <th>Deal_Stage</th>\n",
       "      <th>Product</th>\n",
       "      <th>Close_Value</th>\n",
       "      <th>Created Date</th>\n",
       "      <th>Close Date</th>\n",
       "      <th>DateDiff</th>\n",
       "    </tr>\n",
       "  </thead>\n",
       "  <tbody>\n",
       "    <tr>\n",
       "      <th>3</th>\n",
       "      <td>Genco Pura Olive Oil Company</td>\n",
       "      <td>IBEUTCSW</td>\n",
       "      <td>James Ascencio</td>\n",
       "      <td>james@piedpiper.com</td>\n",
       "      <td>karole@gencopuraoliveoilcompany.com</td>\n",
       "      <td>In Progress</td>\n",
       "      <td>MG Advanced</td>\n",
       "      <td>1054</td>\n",
       "      <td>2016-01-06</td>\n",
       "      <td>2016-09-11</td>\n",
       "      <td>249</td>\n",
       "    </tr>\n",
       "    <tr>\n",
       "      <th>15</th>\n",
       "      <td>Umbrella Corporation</td>\n",
       "      <td>3ECHUPQY</td>\n",
       "      <td>Daniell Hammack</td>\n",
       "      <td>daniell@piedpiper.com</td>\n",
       "      <td>orpha@umbrellacorporation.com</td>\n",
       "      <td>In Progress</td>\n",
       "      <td>GTX Plus Basic</td>\n",
       "      <td>561</td>\n",
       "      <td>2016-01-17</td>\n",
       "      <td>2016-10-03</td>\n",
       "      <td>260</td>\n",
       "    </tr>\n",
       "    <tr>\n",
       "      <th>35</th>\n",
       "      <td>Ontomedia</td>\n",
       "      <td>1ZDDZD8B</td>\n",
       "      <td>Markita Hansen</td>\n",
       "      <td>markita@piedpiper.com</td>\n",
       "      <td>nedra@ontomedia.com</td>\n",
       "      <td>In Progress</td>\n",
       "      <td>MG Special</td>\n",
       "      <td>50</td>\n",
       "      <td>2016-02-13</td>\n",
       "      <td>2016-11-01</td>\n",
       "      <td>262</td>\n",
       "    </tr>\n",
       "    <tr>\n",
       "      <th>39</th>\n",
       "      <td>Hottechi</td>\n",
       "      <td>J53D8EOL</td>\n",
       "      <td>Kary Hendrixson</td>\n",
       "      <td>kary@piedpiper.com</td>\n",
       "      <td>juliette@hottechi.com</td>\n",
       "      <td>In Progress</td>\n",
       "      <td>GTX Plus Basic</td>\n",
       "      <td>601</td>\n",
       "      <td>2016-02-20</td>\n",
       "      <td>2016-05-30</td>\n",
       "      <td>100</td>\n",
       "    </tr>\n",
       "    <tr>\n",
       "      <th>42</th>\n",
       "      <td>Silis</td>\n",
       "      <td>NKPH3EFG</td>\n",
       "      <td>Cassey Cress</td>\n",
       "      <td>cassey@piedpiper.com</td>\n",
       "      <td>zulema@silis.com</td>\n",
       "      <td>In Progress</td>\n",
       "      <td>MG Advanced</td>\n",
       "      <td>560</td>\n",
       "      <td>2016-02-22</td>\n",
       "      <td>2016-09-16</td>\n",
       "      <td>207</td>\n",
       "    </tr>\n",
       "  </tbody>\n",
       "</table>\n",
       "</div>"
      ],
      "text/plain": [
       "                         Account Opportunity_ID      Sales_Agent  \\\n",
       "3   Genco Pura Olive Oil Company       IBEUTCSW   James Ascencio   \n",
       "15          Umbrella Corporation       3ECHUPQY  Daniell Hammack   \n",
       "35                     Ontomedia       1ZDDZD8B   Markita Hansen   \n",
       "39                      Hottechi       J53D8EOL  Kary Hendrixson   \n",
       "42                         Silis       NKPH3EFG     Cassey Cress   \n",
       "\n",
       "        SalesAgentEmailID                       ContactEmailID   Deal_Stage  \\\n",
       "3     james@piedpiper.com  karole@gencopuraoliveoilcompany.com  In Progress   \n",
       "15  daniell@piedpiper.com        orpha@umbrellacorporation.com  In Progress   \n",
       "35  markita@piedpiper.com                  nedra@ontomedia.com  In Progress   \n",
       "39     kary@piedpiper.com                juliette@hottechi.com  In Progress   \n",
       "42   cassey@piedpiper.com                     zulema@silis.com  In Progress   \n",
       "\n",
       "           Product  Close_Value Created Date Close Date  DateDiff  \n",
       "3      MG Advanced         1054   2016-01-06 2016-09-11       249  \n",
       "15  GTX Plus Basic          561   2016-01-17 2016-10-03       260  \n",
       "35      MG Special           50   2016-02-13 2016-11-01       262  \n",
       "39  GTX Plus Basic          601   2016-02-20 2016-05-30       100  \n",
       "42     MG Advanced          560   2016-02-22 2016-09-16       207  "
      ]
     },
     "execution_count": 235,
     "metadata": {},
     "output_type": "execute_result"
    }
   ],
   "source": [
    "test = sales[sales['Deal_Stage'] == 'In Progress']\n",
    "test.head()"
   ]
  },
  {
   "cell_type": "code",
   "execution_count": 244,
   "metadata": {},
   "outputs": [
    {
     "data": {
      "text/html": [
       "<div>\n",
       "<style scoped>\n",
       "    .dataframe tbody tr th:only-of-type {\n",
       "        vertical-align: middle;\n",
       "    }\n",
       "\n",
       "    .dataframe tbody tr th {\n",
       "        vertical-align: top;\n",
       "    }\n",
       "\n",
       "    .dataframe thead th {\n",
       "        text-align: right;\n",
       "    }\n",
       "</style>\n",
       "<table border=\"1\" class=\"dataframe\">\n",
       "  <thead>\n",
       "    <tr style=\"text-align: right;\">\n",
       "      <th></th>\n",
       "      <th>Account</th>\n",
       "      <th>Opportunity_ID</th>\n",
       "      <th>Sales_Agent</th>\n",
       "      <th>SalesAgentEmailID</th>\n",
       "      <th>ContactEmailID</th>\n",
       "      <th>Deal_Stage</th>\n",
       "      <th>Product</th>\n",
       "      <th>Close_Value</th>\n",
       "      <th>Created Date</th>\n",
       "      <th>Close Date</th>\n",
       "      <th>DateDiff</th>\n",
       "      <th>Ordered_Product</th>\n",
       "      <th>Ordered_Agent</th>\n",
       "    </tr>\n",
       "  </thead>\n",
       "  <tbody>\n",
       "    <tr>\n",
       "      <th>3</th>\n",
       "      <td>Genco Pura Olive Oil Company</td>\n",
       "      <td>IBEUTCSW</td>\n",
       "      <td>James Ascencio</td>\n",
       "      <td>james@piedpiper.com</td>\n",
       "      <td>karole@gencopuraoliveoilcompany.com</td>\n",
       "      <td>In Progress</td>\n",
       "      <td>MG Advanced</td>\n",
       "      <td>1054</td>\n",
       "      <td>2016-01-06</td>\n",
       "      <td>2016-09-11</td>\n",
       "      <td>249</td>\n",
       "      <td>1</td>\n",
       "      <td>22</td>\n",
       "    </tr>\n",
       "    <tr>\n",
       "      <th>15</th>\n",
       "      <td>Umbrella Corporation</td>\n",
       "      <td>3ECHUPQY</td>\n",
       "      <td>Daniell Hammack</td>\n",
       "      <td>daniell@piedpiper.com</td>\n",
       "      <td>orpha@umbrellacorporation.com</td>\n",
       "      <td>In Progress</td>\n",
       "      <td>GTX Plus Basic</td>\n",
       "      <td>561</td>\n",
       "      <td>2016-01-17</td>\n",
       "      <td>2016-10-03</td>\n",
       "      <td>260</td>\n",
       "      <td>2</td>\n",
       "      <td>5</td>\n",
       "    </tr>\n",
       "    <tr>\n",
       "      <th>35</th>\n",
       "      <td>Ontomedia</td>\n",
       "      <td>1ZDDZD8B</td>\n",
       "      <td>Markita Hansen</td>\n",
       "      <td>markita@piedpiper.com</td>\n",
       "      <td>nedra@ontomedia.com</td>\n",
       "      <td>In Progress</td>\n",
       "      <td>MG Special</td>\n",
       "      <td>50</td>\n",
       "      <td>2016-02-13</td>\n",
       "      <td>2016-11-01</td>\n",
       "      <td>262</td>\n",
       "      <td>6</td>\n",
       "      <td>1</td>\n",
       "    </tr>\n",
       "    <tr>\n",
       "      <th>39</th>\n",
       "      <td>Hottechi</td>\n",
       "      <td>J53D8EOL</td>\n",
       "      <td>Kary Hendrixson</td>\n",
       "      <td>kary@piedpiper.com</td>\n",
       "      <td>juliette@hottechi.com</td>\n",
       "      <td>In Progress</td>\n",
       "      <td>GTX Plus Basic</td>\n",
       "      <td>601</td>\n",
       "      <td>2016-02-20</td>\n",
       "      <td>2016-05-30</td>\n",
       "      <td>100</td>\n",
       "      <td>2</td>\n",
       "      <td>9</td>\n",
       "    </tr>\n",
       "    <tr>\n",
       "      <th>42</th>\n",
       "      <td>Silis</td>\n",
       "      <td>NKPH3EFG</td>\n",
       "      <td>Cassey Cress</td>\n",
       "      <td>cassey@piedpiper.com</td>\n",
       "      <td>zulema@silis.com</td>\n",
       "      <td>In Progress</td>\n",
       "      <td>MG Advanced</td>\n",
       "      <td>560</td>\n",
       "      <td>2016-02-22</td>\n",
       "      <td>2016-09-16</td>\n",
       "      <td>207</td>\n",
       "      <td>1</td>\n",
       "      <td>10</td>\n",
       "    </tr>\n",
       "  </tbody>\n",
       "</table>\n",
       "</div>"
      ],
      "text/plain": [
       "                         Account Opportunity_ID      Sales_Agent  \\\n",
       "3   Genco Pura Olive Oil Company       IBEUTCSW   James Ascencio   \n",
       "15          Umbrella Corporation       3ECHUPQY  Daniell Hammack   \n",
       "35                     Ontomedia       1ZDDZD8B   Markita Hansen   \n",
       "39                      Hottechi       J53D8EOL  Kary Hendrixson   \n",
       "42                         Silis       NKPH3EFG     Cassey Cress   \n",
       "\n",
       "        SalesAgentEmailID                       ContactEmailID   Deal_Stage  \\\n",
       "3     james@piedpiper.com  karole@gencopuraoliveoilcompany.com  In Progress   \n",
       "15  daniell@piedpiper.com        orpha@umbrellacorporation.com  In Progress   \n",
       "35  markita@piedpiper.com                  nedra@ontomedia.com  In Progress   \n",
       "39     kary@piedpiper.com                juliette@hottechi.com  In Progress   \n",
       "42   cassey@piedpiper.com                     zulema@silis.com  In Progress   \n",
       "\n",
       "           Product  Close_Value Created Date Close Date  DateDiff  \\\n",
       "3      MG Advanced         1054   2016-01-06 2016-09-11       249   \n",
       "15  GTX Plus Basic          561   2016-01-17 2016-10-03       260   \n",
       "35      MG Special           50   2016-02-13 2016-11-01       262   \n",
       "39  GTX Plus Basic          601   2016-02-20 2016-05-30       100   \n",
       "42     MG Advanced          560   2016-02-22 2016-09-16       207   \n",
       "\n",
       "    Ordered_Product  Ordered_Agent  \n",
       "3                 1             22  \n",
       "15                2              5  \n",
       "35                6              1  \n",
       "39                2              9  \n",
       "42                1             10  "
      ]
     },
     "execution_count": 244,
     "metadata": {},
     "output_type": "execute_result"
    }
   ],
   "source": [
    "test.head()"
   ]
  },
  {
   "cell_type": "code",
   "execution_count": 238,
   "metadata": {
    "collapsed": true
   },
   "outputs": [
    {
     "name": "stderr",
     "output_type": "stream",
     "text": [
      "C:\\Users\\SIDDHARTH\\Anaconda3\\lib\\site-packages\\ipykernel_launcher.py:1: SettingWithCopyWarning: \n",
      "A value is trying to be set on a copy of a slice from a DataFrame.\n",
      "Try using .loc[row_indexer,col_indexer] = value instead\n",
      "\n",
      "See the caveats in the documentation: http://pandas.pydata.org/pandas-docs/stable/user_guide/indexing.html#returning-a-view-versus-a-copy\n",
      "  \"\"\"Entry point for launching an IPython kernel.\n"
     ]
    }
   ],
   "source": [
    "test['Ordered_Agent'] = test.Sales_Agent.map(ordinal_agents)"
   ]
  },
  {
   "cell_type": "code",
   "execution_count": 243,
   "metadata": {
    "collapsed": true
   },
   "outputs": [
    {
     "name": "stderr",
     "output_type": "stream",
     "text": [
      "C:\\Users\\SIDDHARTH\\Anaconda3\\lib\\site-packages\\ipykernel_launcher.py:1: SettingWithCopyWarning: \n",
      "A value is trying to be set on a copy of a slice from a DataFrame.\n",
      "Try using .loc[row_indexer,col_indexer] = value instead\n",
      "\n",
      "See the caveats in the documentation: http://pandas.pydata.org/pandas-docs/stable/user_guide/indexing.html#returning-a-view-versus-a-copy\n",
      "  \"\"\"Entry point for launching an IPython kernel.\n"
     ]
    }
   ],
   "source": [
    "test['Ordered_Product'] = test.Product.map(ordinal_label)"
   ]
  },
  {
   "cell_type": "code",
   "execution_count": 245,
   "metadata": {},
   "outputs": [],
   "source": [
    "X = test[['Close_Value','DateDiff', 'Ordered_Product','Ordered_Agent']]"
   ]
  },
  {
   "cell_type": "code",
   "execution_count": 246,
   "metadata": {},
   "outputs": [
    {
     "data": {
      "text/html": [
       "<div>\n",
       "<style scoped>\n",
       "    .dataframe tbody tr th:only-of-type {\n",
       "        vertical-align: middle;\n",
       "    }\n",
       "\n",
       "    .dataframe tbody tr th {\n",
       "        vertical-align: top;\n",
       "    }\n",
       "\n",
       "    .dataframe thead th {\n",
       "        text-align: right;\n",
       "    }\n",
       "</style>\n",
       "<table border=\"1\" class=\"dataframe\">\n",
       "  <thead>\n",
       "    <tr style=\"text-align: right;\">\n",
       "      <th></th>\n",
       "      <th>Close_Value</th>\n",
       "      <th>DateDiff</th>\n",
       "      <th>Ordered_Product</th>\n",
       "      <th>Ordered_Agent</th>\n",
       "    </tr>\n",
       "  </thead>\n",
       "  <tbody>\n",
       "    <tr>\n",
       "      <th>3</th>\n",
       "      <td>1054</td>\n",
       "      <td>249</td>\n",
       "      <td>1</td>\n",
       "      <td>22</td>\n",
       "    </tr>\n",
       "    <tr>\n",
       "      <th>15</th>\n",
       "      <td>561</td>\n",
       "      <td>260</td>\n",
       "      <td>2</td>\n",
       "      <td>5</td>\n",
       "    </tr>\n",
       "    <tr>\n",
       "      <th>35</th>\n",
       "      <td>50</td>\n",
       "      <td>262</td>\n",
       "      <td>6</td>\n",
       "      <td>1</td>\n",
       "    </tr>\n",
       "    <tr>\n",
       "      <th>39</th>\n",
       "      <td>601</td>\n",
       "      <td>100</td>\n",
       "      <td>2</td>\n",
       "      <td>9</td>\n",
       "    </tr>\n",
       "    <tr>\n",
       "      <th>42</th>\n",
       "      <td>560</td>\n",
       "      <td>207</td>\n",
       "      <td>1</td>\n",
       "      <td>10</td>\n",
       "    </tr>\n",
       "  </tbody>\n",
       "</table>\n",
       "</div>"
      ],
      "text/plain": [
       "    Close_Value  DateDiff  Ordered_Product  Ordered_Agent\n",
       "3          1054       249                1             22\n",
       "15          561       260                2              5\n",
       "35           50       262                6              1\n",
       "39          601       100                2              9\n",
       "42          560       207                1             10"
      ]
     },
     "execution_count": 246,
     "metadata": {},
     "output_type": "execute_result"
    }
   ],
   "source": [
    "X.head()"
   ]
  },
  {
   "cell_type": "code",
   "execution_count": 247,
   "metadata": {},
   "outputs": [],
   "source": [
    "scaler = RobustScaler() # call the object\n",
    "X_scaled = scaler.fit_transform(X) # fit the scaler to the train set, and then scale it"
   ]
  },
  {
   "cell_type": "code",
   "execution_count": 248,
   "metadata": {},
   "outputs": [],
   "source": [
    "gbm_predictions = gbmclf.predict(X_scaled)"
   ]
  },
  {
   "cell_type": "code",
   "execution_count": 249,
   "metadata": {},
   "outputs": [],
   "source": [
    "rf_predictions = rf_best.predict(X_scaled)"
   ]
  },
  {
   "cell_type": "code",
   "execution_count": 253,
   "metadata": {},
   "outputs": [
    {
     "name": "stderr",
     "output_type": "stream",
     "text": [
      "C:\\Users\\SIDDHARTH\\Anaconda3\\lib\\site-packages\\ipykernel_launcher.py:1: SettingWithCopyWarning: \n",
      "A value is trying to be set on a copy of a slice from a DataFrame.\n",
      "Try using .loc[row_indexer,col_indexer] = value instead\n",
      "\n",
      "See the caveats in the documentation: http://pandas.pydata.org/pandas-docs/stable/user_guide/indexing.html#returning-a-view-versus-a-copy\n",
      "  \"\"\"Entry point for launching an IPython kernel.\n",
      "C:\\Users\\SIDDHARTH\\Anaconda3\\lib\\site-packages\\ipykernel_launcher.py:2: SettingWithCopyWarning: \n",
      "A value is trying to be set on a copy of a slice from a DataFrame.\n",
      "Try using .loc[row_indexer,col_indexer] = value instead\n",
      "\n",
      "See the caveats in the documentation: http://pandas.pydata.org/pandas-docs/stable/user_guide/indexing.html#returning-a-view-versus-a-copy\n",
      "  \n"
     ]
    }
   ],
   "source": [
    "test['Predictions_GBM'] = gbm_predictions\n",
    "test['Predictions_RF'] = rf_predictions"
   ]
  },
  {
   "cell_type": "code",
   "execution_count": 259,
   "metadata": {
    "collapsed": true
   },
   "outputs": [
    {
     "name": "stderr",
     "output_type": "stream",
     "text": [
      "C:\\Users\\SIDDHARTH\\Anaconda3\\lib\\site-packages\\ipykernel_launcher.py:1: SettingWithCopyWarning: \n",
      "A value is trying to be set on a copy of a slice from a DataFrame.\n",
      "Try using .loc[row_indexer,col_indexer] = value instead\n",
      "\n",
      "See the caveats in the documentation: http://pandas.pydata.org/pandas-docs/stable/user_guide/indexing.html#returning-a-view-versus-a-copy\n",
      "  \"\"\"Entry point for launching an IPython kernel.\n"
     ]
    }
   ],
   "source": [
    "test['Predictions_RF'] = test['Predictions_RF'].map({1:'Won',0:'Lost'})"
   ]
  },
  {
   "cell_type": "code",
   "execution_count": 260,
   "metadata": {
    "collapsed": true
   },
   "outputs": [
    {
     "name": "stderr",
     "output_type": "stream",
     "text": [
      "C:\\Users\\SIDDHARTH\\Anaconda3\\lib\\site-packages\\ipykernel_launcher.py:1: SettingWithCopyWarning: \n",
      "A value is trying to be set on a copy of a slice from a DataFrame.\n",
      "Try using .loc[row_indexer,col_indexer] = value instead\n",
      "\n",
      "See the caveats in the documentation: http://pandas.pydata.org/pandas-docs/stable/user_guide/indexing.html#returning-a-view-versus-a-copy\n",
      "  \"\"\"Entry point for launching an IPython kernel.\n"
     ]
    }
   ],
   "source": [
    "test['Predictions_GBM'] = test['Predictions_GBM'].map({1:'Won',0:'Lost'})"
   ]
  },
  {
   "cell_type": "code",
   "execution_count": 261,
   "metadata": {},
   "outputs": [
    {
     "data": {
      "text/html": [
       "<div>\n",
       "<style scoped>\n",
       "    .dataframe tbody tr th:only-of-type {\n",
       "        vertical-align: middle;\n",
       "    }\n",
       "\n",
       "    .dataframe tbody tr th {\n",
       "        vertical-align: top;\n",
       "    }\n",
       "\n",
       "    .dataframe thead th {\n",
       "        text-align: right;\n",
       "    }\n",
       "</style>\n",
       "<table border=\"1\" class=\"dataframe\">\n",
       "  <thead>\n",
       "    <tr style=\"text-align: right;\">\n",
       "      <th></th>\n",
       "      <th>Account</th>\n",
       "      <th>Opportunity_ID</th>\n",
       "      <th>Sales_Agent</th>\n",
       "      <th>SalesAgentEmailID</th>\n",
       "      <th>ContactEmailID</th>\n",
       "      <th>Deal_Stage</th>\n",
       "      <th>Product</th>\n",
       "      <th>Close_Value</th>\n",
       "      <th>Created Date</th>\n",
       "      <th>Close Date</th>\n",
       "      <th>DateDiff</th>\n",
       "      <th>Ordered_Product</th>\n",
       "      <th>Ordered_Agent</th>\n",
       "      <th>Predictions_GBM</th>\n",
       "      <th>Predictions_RF</th>\n",
       "    </tr>\n",
       "  </thead>\n",
       "  <tbody>\n",
       "    <tr>\n",
       "      <th>3</th>\n",
       "      <td>Genco Pura Olive Oil Company</td>\n",
       "      <td>IBEUTCSW</td>\n",
       "      <td>James Ascencio</td>\n",
       "      <td>james@piedpiper.com</td>\n",
       "      <td>karole@gencopuraoliveoilcompany.com</td>\n",
       "      <td>In Progress</td>\n",
       "      <td>MG Advanced</td>\n",
       "      <td>1054</td>\n",
       "      <td>2016-01-06</td>\n",
       "      <td>2016-09-11</td>\n",
       "      <td>249</td>\n",
       "      <td>1</td>\n",
       "      <td>22</td>\n",
       "      <td>Won</td>\n",
       "      <td>Won</td>\n",
       "    </tr>\n",
       "    <tr>\n",
       "      <th>15</th>\n",
       "      <td>Umbrella Corporation</td>\n",
       "      <td>3ECHUPQY</td>\n",
       "      <td>Daniell Hammack</td>\n",
       "      <td>daniell@piedpiper.com</td>\n",
       "      <td>orpha@umbrellacorporation.com</td>\n",
       "      <td>In Progress</td>\n",
       "      <td>GTX Plus Basic</td>\n",
       "      <td>561</td>\n",
       "      <td>2016-01-17</td>\n",
       "      <td>2016-10-03</td>\n",
       "      <td>260</td>\n",
       "      <td>2</td>\n",
       "      <td>5</td>\n",
       "      <td>Won</td>\n",
       "      <td>Won</td>\n",
       "    </tr>\n",
       "    <tr>\n",
       "      <th>35</th>\n",
       "      <td>Ontomedia</td>\n",
       "      <td>1ZDDZD8B</td>\n",
       "      <td>Markita Hansen</td>\n",
       "      <td>markita@piedpiper.com</td>\n",
       "      <td>nedra@ontomedia.com</td>\n",
       "      <td>In Progress</td>\n",
       "      <td>MG Special</td>\n",
       "      <td>50</td>\n",
       "      <td>2016-02-13</td>\n",
       "      <td>2016-11-01</td>\n",
       "      <td>262</td>\n",
       "      <td>6</td>\n",
       "      <td>1</td>\n",
       "      <td>Won</td>\n",
       "      <td>Won</td>\n",
       "    </tr>\n",
       "    <tr>\n",
       "      <th>39</th>\n",
       "      <td>Hottechi</td>\n",
       "      <td>J53D8EOL</td>\n",
       "      <td>Kary Hendrixson</td>\n",
       "      <td>kary@piedpiper.com</td>\n",
       "      <td>juliette@hottechi.com</td>\n",
       "      <td>In Progress</td>\n",
       "      <td>GTX Plus Basic</td>\n",
       "      <td>601</td>\n",
       "      <td>2016-02-20</td>\n",
       "      <td>2016-05-30</td>\n",
       "      <td>100</td>\n",
       "      <td>2</td>\n",
       "      <td>9</td>\n",
       "      <td>Won</td>\n",
       "      <td>Won</td>\n",
       "    </tr>\n",
       "    <tr>\n",
       "      <th>42</th>\n",
       "      <td>Silis</td>\n",
       "      <td>NKPH3EFG</td>\n",
       "      <td>Cassey Cress</td>\n",
       "      <td>cassey@piedpiper.com</td>\n",
       "      <td>zulema@silis.com</td>\n",
       "      <td>In Progress</td>\n",
       "      <td>MG Advanced</td>\n",
       "      <td>560</td>\n",
       "      <td>2016-02-22</td>\n",
       "      <td>2016-09-16</td>\n",
       "      <td>207</td>\n",
       "      <td>1</td>\n",
       "      <td>10</td>\n",
       "      <td>Won</td>\n",
       "      <td>Won</td>\n",
       "    </tr>\n",
       "  </tbody>\n",
       "</table>\n",
       "</div>"
      ],
      "text/plain": [
       "                         Account Opportunity_ID      Sales_Agent  \\\n",
       "3   Genco Pura Olive Oil Company       IBEUTCSW   James Ascencio   \n",
       "15          Umbrella Corporation       3ECHUPQY  Daniell Hammack   \n",
       "35                     Ontomedia       1ZDDZD8B   Markita Hansen   \n",
       "39                      Hottechi       J53D8EOL  Kary Hendrixson   \n",
       "42                         Silis       NKPH3EFG     Cassey Cress   \n",
       "\n",
       "        SalesAgentEmailID                       ContactEmailID   Deal_Stage  \\\n",
       "3     james@piedpiper.com  karole@gencopuraoliveoilcompany.com  In Progress   \n",
       "15  daniell@piedpiper.com        orpha@umbrellacorporation.com  In Progress   \n",
       "35  markita@piedpiper.com                  nedra@ontomedia.com  In Progress   \n",
       "39     kary@piedpiper.com                juliette@hottechi.com  In Progress   \n",
       "42   cassey@piedpiper.com                     zulema@silis.com  In Progress   \n",
       "\n",
       "           Product  Close_Value Created Date Close Date  DateDiff  \\\n",
       "3      MG Advanced         1054   2016-01-06 2016-09-11       249   \n",
       "15  GTX Plus Basic          561   2016-01-17 2016-10-03       260   \n",
       "35      MG Special           50   2016-02-13 2016-11-01       262   \n",
       "39  GTX Plus Basic          601   2016-02-20 2016-05-30       100   \n",
       "42     MG Advanced          560   2016-02-22 2016-09-16       207   \n",
       "\n",
       "    Ordered_Product  Ordered_Agent Predictions_GBM Predictions_RF  \n",
       "3                 1             22             Won            Won  \n",
       "15                2              5             Won            Won  \n",
       "35                6              1             Won            Won  \n",
       "39                2              9             Won            Won  \n",
       "42                1             10             Won            Won  "
      ]
     },
     "execution_count": 261,
     "metadata": {},
     "output_type": "execute_result"
    }
   ],
   "source": [
    "test.head()"
   ]
  },
  {
   "cell_type": "code",
   "execution_count": 257,
   "metadata": {},
   "outputs": [
    {
     "data": {
      "text/plain": [
       "0    1215\n",
       "1     874\n",
       "Name: Predictions_RF, dtype: int64"
      ]
     },
     "execution_count": 257,
     "metadata": {},
     "output_type": "execute_result"
    }
   ],
   "source": [
    "test['Predictions_RF'].value_counts()"
   ]
  },
  {
   "cell_type": "code",
   "execution_count": 265,
   "metadata": {},
   "outputs": [],
   "source": [
    "test.to_csv('predictions.csv')"
   ]
  },
  {
   "cell_type": "code",
   "execution_count": null,
   "metadata": {},
   "outputs": [],
   "source": []
  }
 ],
 "metadata": {
  "kernelspec": {
   "display_name": "Python 3",
   "language": "python",
   "name": "python3"
  },
  "language_info": {
   "codemirror_mode": {
    "name": "ipython",
    "version": 3
   },
   "file_extension": ".py",
   "mimetype": "text/x-python",
   "name": "python",
   "nbconvert_exporter": "python",
   "pygments_lexer": "ipython3",
   "version": "3.7.3"
  }
 },
 "nbformat": 4,
 "nbformat_minor": 2
}
